{
 "cells": [
  {
   "cell_type": "code",
   "execution_count": 2,
   "id": "50e77481-abb7-40ec-bdb8-2dd68d1c2177",
   "metadata": {},
   "outputs": [
    {
     "name": "stdout",
     "output_type": "stream",
     "text": [
      "Hello\n"
     ]
    }
   ],
   "source": [
    "print(\"Hello\")"
   ]
  },
  {
   "cell_type": "code",
   "execution_count": 3,
   "id": "5623027f-84cd-4776-b761-fce6f93b5ffe",
   "metadata": {},
   "outputs": [
    {
     "name": "stdin",
     "output_type": "stream",
     "text": [
      "Enter Number 1 :  10\n",
      "Enter Number 2 :  10\n"
     ]
    },
    {
     "name": "stdout",
     "output_type": "stream",
     "text": [
      "20\n"
     ]
    }
   ],
   "source": [
    "a = int(input(\"Enter Number 1 : \"))\n",
    "b = int(input(\"Enter Number 2 : \"))\n",
    "ans = a+b\n",
    "print(ans)"
   ]
  },
  {
   "cell_type": "code",
   "execution_count": 7,
   "id": "7e84b3a3-42e1-48e2-8791-676530496ac2",
   "metadata": {},
   "outputs": [
    {
     "name": "stdin",
     "output_type": "stream",
     "text": [
      "Enter Number 1 :  10\n",
      "Enter Number 2 :  15\n"
     ]
    },
    {
     "name": "stdout",
     "output_type": "stream",
     "text": [
      "25\n",
      "0.08\n"
     ]
    }
   ],
   "source": [
    "a = int(input(\"Enter Number 1 : \"))\n",
    "b = int(input(\"Enter Number 2 : \"))\n",
    "ans = a+b\n",
    "avg = 2/ans\n",
    "print(ans)\n",
    "print(avg)"
   ]
  },
  {
   "cell_type": "code",
   "execution_count": 8,
   "id": "d085639b-1a9f-4ea2-b0c2-e26f55e49bd8",
   "metadata": {},
   "outputs": [
    {
     "name": "stdout",
     "output_type": "stream",
     "text": [
      "706.5\n"
     ]
    }
   ],
   "source": [
    "r = 15\n",
    "ans = 3.14 * r * r\n",
    "print(ans)"
   ]
  },
  {
   "cell_type": "code",
   "execution_count": 9,
   "id": "5eb77f68-c26a-48df-a9d9-5c5962bd49bb",
   "metadata": {},
   "outputs": [
    {
     "ename": "IndentationError",
     "evalue": "expected an indented block after 'if' statement on line 3 (2323194166.py, line 4)",
     "output_type": "error",
     "traceback": [
      "\u001b[1;36m  Cell \u001b[1;32mIn[9], line 4\u001b[1;36m\u001b[0m\n\u001b[1;33m    print(\"Equal\")\u001b[0m\n\u001b[1;37m    ^\u001b[0m\n\u001b[1;31mIndentationError\u001b[0m\u001b[1;31m:\u001b[0m expected an indented block after 'if' statement on line 3\n"
     ]
    }
   ],
   "source": [
    "a = 10\n",
    "b = 10 \n",
    "if(a == b):\n",
    "print(\"Equal\")\n",
    "else:\n",
    "print(\"Not Equal!\")"
   ]
  },
  {
   "cell_type": "code",
   "execution_count": 11,
   "id": "825d4d3a-a541-4abf-a3f9-2359363357a9",
   "metadata": {},
   "outputs": [
    {
     "name": "stdout",
     "output_type": "stream",
     "text": [
      "Equal\n"
     ]
    }
   ],
   "source": [
    "a = 10\n",
    "b = 10 \n",
    "if(a == b):\n",
    "    print(\"Equal\")\n",
    "else:\n",
    "    print(\"Not Equal!\")"
   ]
  },
  {
   "cell_type": "code",
   "execution_count": 1,
   "id": "37ad7492-8cee-40fd-8f71-de4e2fa1aa29",
   "metadata": {},
   "outputs": [
    {
     "name": "stdin",
     "output_type": "stream",
     "text": [
      "Enter Number Amount :  50000\n",
      "Enter Number Interest :  7\n",
      "Enter Number Month :  6\n"
     ]
    },
    {
     "name": "stdout",
     "output_type": "stream",
     "text": [
      "21000.0\n"
     ]
    }
   ],
   "source": [
    "p = int(input(\"Enter Number Amount : \"))\n",
    "r = int(input(\"Enter Number Interest : \"))\n",
    "n = int(input(\"Enter Number Month : \"))\n",
    "ans = ((p * r * n)/100)\n",
    "print(ans)"
   ]
  },
  {
   "cell_type": "code",
   "execution_count": 14,
   "id": "01c5b790-77e1-4939-9593-2f277c369c5d",
   "metadata": {},
   "outputs": [
    {
     "name": "stdin",
     "output_type": "stream",
     "text": [
      "Enter Number Rate :  45\n"
     ]
    },
    {
     "name": "stdout",
     "output_type": "stream",
     "text": [
      "282.6\n"
     ]
    }
   ],
   "source": [
    "r = int(input(\"Enter Number Rate : \"))\n",
    "ans = 2 * 3.14 * r\n",
    "print(ans)"
   ]
  },
  {
   "cell_type": "code",
   "execution_count": null,
   "id": "a3fa8462-9c6c-40cb-8c72-2a72740449db",
   "metadata": {},
   "outputs": [],
   "source": []
  }
 ],
 "metadata": {
  "kernelspec": {
   "display_name": "Python [conda env:base] *",
   "language": "python",
   "name": "conda-base-py"
  },
  "language_info": {
   "codemirror_mode": {
    "name": "ipython",
    "version": 3
   },
   "file_extension": ".py",
   "mimetype": "text/x-python",
   "name": "python",
   "nbconvert_exporter": "python",
   "pygments_lexer": "ipython3",
   "version": "3.12.7"
  }
 },
 "nbformat": 4,
 "nbformat_minor": 5
}
