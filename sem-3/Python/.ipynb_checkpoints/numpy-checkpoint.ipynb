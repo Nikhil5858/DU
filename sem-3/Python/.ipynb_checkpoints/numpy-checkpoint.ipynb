{
 "cells": [
  {
   "cell_type": "code",
   "execution_count": 1,
   "id": "f9f9ea1e-b555-417f-95db-0d33701dd8a0",
   "metadata": {},
   "outputs": [],
   "source": [
    "import numpy as np"
   ]
  },
  {
   "cell_type": "code",
   "execution_count": 3,
   "id": "ebe75aab-3358-45cc-8607-398e696605ce",
   "metadata": {},
   "outputs": [
    {
     "name": "stdout",
     "output_type": "stream",
     "text": [
      "[ 0  1  2  3  4  5  6  7  8  9 10]\n",
      "<class 'numpy.ndarray'>\n"
     ]
    }
   ],
   "source": [
    "a = np.arange(11)\n",
    "print(a)\n",
    "print(type(a))"
   ]
  },
  {
   "cell_type": "code",
   "execution_count": 4,
   "id": "9d64e5d7-0e3e-444e-9c65-9f0215661b1b",
   "metadata": {},
   "outputs": [
    {
     "data": {
      "text/plain": [
       "array([2, 3, 4, 5, 6, 7, 8])"
      ]
     },
     "execution_count": 4,
     "metadata": {},
     "output_type": "execute_result"
    }
   ],
   "source": [
    "a = np.arange(2,9)\n",
    "a"
   ]
  },
  {
   "cell_type": "code",
   "execution_count": 5,
   "id": "40d77102-74de-4c29-b0f6-ccfa4b3b6f7c",
   "metadata": {},
   "outputs": [
    {
     "data": {
      "text/plain": [
       "array([[ 0,  1,  2,  3],\n",
       "       [ 4,  5,  6,  7],\n",
       "       [ 8,  9, 10, 11]])"
      ]
     },
     "execution_count": 5,
     "metadata": {},
     "output_type": "execute_result"
    }
   ],
   "source": [
    "a = np.arange(12).reshape(3,4)\n",
    "a"
   ]
  },
  {
   "cell_type": "code",
   "execution_count": 6,
   "id": "b686a2e4-ff3f-445b-9bc8-86c6466f32e4",
   "metadata": {},
   "outputs": [
    {
     "data": {
      "text/plain": [
       "array([0.        , 0.45454545, 0.90909091, 1.36363636, 1.81818182,\n",
       "       2.27272727, 2.72727273, 3.18181818, 3.63636364, 4.09090909,\n",
       "       4.54545455, 5.        ])"
      ]
     },
     "execution_count": 6,
     "metadata": {},
     "output_type": "execute_result"
    }
   ],
   "source": [
    "np.linspace(0,5,12)"
   ]
  },
  {
   "cell_type": "code",
   "execution_count": 8,
   "id": "a6c40820-d977-48d9-a048-717c43f60f6f",
   "metadata": {},
   "outputs": [
    {
     "data": {
      "text/plain": [
       "array([0.38145613, 0.09969044, 0.01837655, 0.4587234 , 0.82586138,\n",
       "       0.61386193, 0.01690854, 0.9916972 , 0.50272211, 0.98211133])"
      ]
     },
     "execution_count": 8,
     "metadata": {},
     "output_type": "execute_result"
    }
   ],
   "source": [
    "np.random.rand(10)"
   ]
  },
  {
   "cell_type": "code",
   "execution_count": 12,
   "id": "fcf3d4f7-bbfe-4de2-b0cb-04784e6db570",
   "metadata": {},
   "outputs": [
    {
     "data": {
      "text/plain": [
       "array([14, 67, 10,  3, 51, 32, 25, 52, 34, 13])"
      ]
     },
     "execution_count": 12,
     "metadata": {},
     "output_type": "execute_result"
    }
   ],
   "source": [
    "np.random.randint(1,100,10)"
   ]
  },
  {
   "cell_type": "code",
   "execution_count": 13,
   "id": "e11582a0-4675-4cd4-b9ec-46f841bd9a9b",
   "metadata": {},
   "outputs": [
    {
     "data": {
      "text/plain": [
       "array([[0.84036056, 0.41192689, 0.32182306, 0.29281735],\n",
       "       [0.29681405, 0.9807598 , 0.12325803, 0.60300418]])"
      ]
     },
     "execution_count": 13,
     "metadata": {},
     "output_type": "execute_result"
    }
   ],
   "source": [
    "np.random.rand(2,4)"
   ]
  },
  {
   "cell_type": "code",
   "execution_count": 14,
   "id": "72fdb247-88cb-4b09-83a1-a295a33d876d",
   "metadata": {},
   "outputs": [
    {
     "data": {
      "text/plain": [
       "array([98, 14, 51, 88, 73, 86, 94, 10, 12, 95])"
      ]
     },
     "execution_count": 14,
     "metadata": {},
     "output_type": "execute_result"
    }
   ],
   "source": [
    "arr = np.random.randint(1,100,size=10)\n",
    "arr"
   ]
  },
  {
   "cell_type": "code",
   "execution_count": 15,
   "id": "7a923139-52a6-4c4f-a6e4-c2dce72a24a1",
   "metadata": {},
   "outputs": [
    {
     "data": {
      "text/plain": [
       "98"
      ]
     },
     "execution_count": 15,
     "metadata": {},
     "output_type": "execute_result"
    }
   ],
   "source": [
    "arr.max()"
   ]
  },
  {
   "cell_type": "code",
   "execution_count": 16,
   "id": "55212c40-da8c-43e1-86e0-577983919ae6",
   "metadata": {},
   "outputs": [
    {
     "data": {
      "text/plain": [
       "10"
      ]
     },
     "execution_count": 16,
     "metadata": {},
     "output_type": "execute_result"
    }
   ],
   "source": [
    "arr.min()"
   ]
  },
  {
   "cell_type": "code",
   "execution_count": 17,
   "id": "84f92f3f-3cba-443d-bc18-7789b8be7b62",
   "metadata": {},
   "outputs": [
    {
     "data": {
      "text/plain": [
       "7"
      ]
     },
     "execution_count": 17,
     "metadata": {},
     "output_type": "execute_result"
    }
   ],
   "source": [
    "arr.argmin()"
   ]
  },
  {
   "cell_type": "code",
   "execution_count": 18,
   "id": "20b7d719-f5e5-42ea-9bad-abe2a01763a4",
   "metadata": {},
   "outputs": [
    {
     "data": {
      "text/plain": [
       "0"
      ]
     },
     "execution_count": 18,
     "metadata": {},
     "output_type": "execute_result"
    }
   ],
   "source": [
    "arr.argmax()"
   ]
  },
  {
   "cell_type": "code",
   "execution_count": 19,
   "id": "cc4068e3-8cc2-4fc2-8248-93ff2f5fb2f7",
   "metadata": {},
   "outputs": [
    {
     "data": {
      "text/plain": [
       "12"
      ]
     },
     "execution_count": 19,
     "metadata": {},
     "output_type": "execute_result"
    }
   ],
   "source": [
    "arr[8]"
   ]
  },
  {
   "cell_type": "code",
   "execution_count": 21,
   "id": "4d77d380-3835-4552-96be-142048877f5b",
   "metadata": {},
   "outputs": [
    {
     "data": {
      "text/plain": [
       "array([14, 51, 88, 73])"
      ]
     },
     "execution_count": 21,
     "metadata": {},
     "output_type": "execute_result"
    }
   ],
   "source": [
    "arr[1:5]"
   ]
  },
  {
   "cell_type": "code",
   "execution_count": 36,
   "id": "8aa84d85-a16f-4711-9058-a17d8a524ce9",
   "metadata": {},
   "outputs": [
    {
     "data": {
      "text/plain": [
       "array([[98, 14, 51, 88, 73],\n",
       "       [86, 94, 10, 12, 95]])"
      ]
     },
     "execution_count": 36,
     "metadata": {},
     "output_type": "execute_result"
    }
   ],
   "source": [
    "arr2 = arr.reshape(2,5)\n",
    "arr2"
   ]
  },
  {
   "cell_type": "code",
   "execution_count": 30,
   "id": "bcb0a554-8ae7-4fcd-87a6-be61f8ecfb74",
   "metadata": {},
   "outputs": [
    {
     "data": {
      "text/plain": [
       "array([98, 14, 51, 88, 73])"
      ]
     },
     "execution_count": 30,
     "metadata": {},
     "output_type": "execute_result"
    }
   ],
   "source": [
    "arr2[0]"
   ]
  },
  {
   "cell_type": "code",
   "execution_count": 34,
   "id": "43a53b50-ba15-48fb-8876-4ccfd2cbf765",
   "metadata": {},
   "outputs": [
    {
     "data": {
      "text/plain": [
       "14"
      ]
     },
     "execution_count": 34,
     "metadata": {},
     "output_type": "execute_result"
    }
   ],
   "source": [
    "arr2[0][1]"
   ]
  },
  {
   "cell_type": "code",
   "execution_count": 37,
   "id": "a4675a19-693f-4832-b366-241c78569a96",
   "metadata": {},
   "outputs": [
    {
     "data": {
      "text/plain": [
       "array([[98, 51, 73],\n",
       "       [86, 10, 95]])"
      ]
     },
     "execution_count": 37,
     "metadata": {},
     "output_type": "execute_result"
    }
   ],
   "source": [
    "arr2[0::,0::2]"
   ]
  },
  {
   "cell_type": "code",
   "execution_count": 40,
   "id": "44a2ff9a-434f-4291-9478-ea3cef20f05b",
   "metadata": {},
   "outputs": [
    {
     "data": {
      "text/plain": [
       "array([98, 51, 88, 73, 86, 94, 95])"
      ]
     },
     "execution_count": 40,
     "metadata": {},
     "output_type": "execute_result"
    }
   ],
   "source": [
    "arr[arr>50]"
   ]
  },
  {
   "cell_type": "code",
   "execution_count": 42,
   "id": "17a4f849-a270-4093-9178-deebe5a90a4f",
   "metadata": {},
   "outputs": [
    {
     "data": {
      "text/plain": [
       "array([14, 10, 12])"
      ]
     },
     "execution_count": 42,
     "metadata": {},
     "output_type": "execute_result"
    }
   ],
   "source": [
    "arr[arr<50]"
   ]
  },
  {
   "cell_type": "code",
   "execution_count": null,
   "id": "a6bac725-fcac-435d-b411-83227247f85c",
   "metadata": {},
   "outputs": [],
   "source": []
  }
 ],
 "metadata": {
  "kernelspec": {
   "display_name": "Python [conda env:base] *",
   "language": "python",
   "name": "conda-base-py"
  },
  "language_info": {
   "codemirror_mode": {
    "name": "ipython",
    "version": 3
   },
   "file_extension": ".py",
   "mimetype": "text/x-python",
   "name": "python",
   "nbconvert_exporter": "python",
   "pygments_lexer": "ipython3",
   "version": "3.12.7"
  }
 },
 "nbformat": 4,
 "nbformat_minor": 5
}
