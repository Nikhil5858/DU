{
 "cells": [
  {
   "cell_type": "markdown",
   "id": "fd1bc7f2-33b9-4401-b22b-f4008fdb4c71",
   "metadata": {},
   "source": [
    "<a href='https://www.darshan.ac.in/'> <img src='https://www.darshan.ac.in/Content/media/DU_Logo.svg' width=\"150\" height=\"200\"/></a>\n",
    "<pre>\n",
    "<center><b><h2> Python for Data Science - 2305CS303 </b></center>\n",
    "<center><b><h2>Lab - 4</b></center>    \n",
    "<left><b><h3>Roll No. : 135</b></left>  \n",
    "<left><b><h3>Name : Rathod Nikhil</b></left>   \n",
    "<pre>    "
   ]
  },
  {
   "cell_type": "markdown",
   "id": "4775ea51-e4f7-4bec-9066-34d55f26f638",
   "metadata": {},
   "source": [
    "### 1. WAP to check given string is palindrome or not."
   ]
  },
  {
   "cell_type": "code",
   "execution_count": 3,
   "id": "0c129df0-0199-4a6d-b363-a27435769ab1",
   "metadata": {},
   "outputs": [
    {
     "name": "stdin",
     "output_type": "stream",
     "text": [
      "Enter String :  abc\n"
     ]
    },
    {
     "name": "stdout",
     "output_type": "stream",
     "text": [
      "Not Palidrone\n"
     ]
    }
   ],
   "source": [
    "s = input(\"Enter String : \")\n",
    "s2 = s[::-1]\n",
    "if s==s2:\n",
    "    print(\"Palidrone\")\n",
    "else:\n",
    "    print(\"Not Palidrone\")"
   ]
  },
  {
   "cell_type": "markdown",
   "id": "08e8af17-4ef1-4734-8cdf-6f8d0675ff7e",
   "metadata": {},
   "source": [
    "### 2.WAP to reverse the words in given string."
   ]
  },
  {
   "cell_type": "code",
   "execution_count": 20,
   "id": "cdeedbc3-c526-441f-85a9-045360caa446",
   "metadata": {},
   "outputs": [
    {
     "name": "stdin",
     "output_type": "stream",
     "text": [
      "Enter String :  nikhil rathod\n"
     ]
    },
    {
     "name": "stdout",
     "output_type": "stream",
     "text": [
      "rathod nikhil\n"
     ]
    }
   ],
   "source": [
    "S1 = input(\"Enter String : \")\n",
    "x = S1.split()\n",
    "r = x[::-1]\n",
    "print(\" \".join(r))"
   ]
  },
  {
   "cell_type": "markdown",
   "id": "c2c54c21-abe2-439f-bc8e-5a43be7c5031",
   "metadata": {},
   "source": [
    "### 3.WAP to remove ith character from given string."
   ]
  },
  {
   "cell_type": "code",
   "execution_count": 21,
   "id": "97bac1f7-f69e-4ab4-9df4-aa392ced129a",
   "metadata": {},
   "outputs": [
    {
     "name": "stdin",
     "output_type": "stream",
     "text": [
      "Enter String :  nikhil\n"
     ]
    },
    {
     "name": "stdout",
     "output_type": "stream",
     "text": [
      "nikil\n"
     ]
    }
   ],
   "source": [
    "s1=input(\"Enter String : \")\n",
    "i=3\n",
    "res =s1[:i]+s1[i+1:]\n",
    "print(res)"
   ]
  },
  {
   "cell_type": "markdown",
   "id": "ddf54203-47cb-425c-b118-3318148c2571",
   "metadata": {},
   "source": [
    "### 4. WAP to find length of String without using len function.."
   ]
  },
  {
   "cell_type": "code",
   "execution_count": 25,
   "id": "4c2be11a-7014-4c84-8dff-097f6edeaa25",
   "metadata": {},
   "outputs": [
    {
     "name": "stdin",
     "output_type": "stream",
     "text": [
      "Enter String :  nikhil\n"
     ]
    },
    {
     "name": "stdout",
     "output_type": "stream",
     "text": [
      "6\n"
     ]
    }
   ],
   "source": [
    "s1=input(\"Enter String : \")\n",
    "res = sum(1 for i in s1)\n",
    "print(res)"
   ]
  },
  {
   "cell_type": "markdown",
   "id": "492c1a14-8cce-42cf-a5fc-d412adbd98a5",
   "metadata": {},
   "source": [
    "### 5. WAP to print even length word in string.\n"
   ]
  },
  {
   "cell_type": "code",
   "execution_count": 31,
   "id": "cb16a8ae-2d76-4e3c-8fac-ce9583e77ecf",
   "metadata": {},
   "outputs": [
    {
     "name": "stdin",
     "output_type": "stream",
     "text": [
      "Enter String :  abc\n"
     ]
    },
    {
     "name": "stdout",
     "output_type": "stream",
     "text": [
      "\n"
     ]
    }
   ],
   "source": [
    "S1 = input(\"Enter String : \")\n",
    "x = S1.split()\n",
    "res = [s for s in x if len(s)%2==0]\n",
    "ans = \" \".join(res)\n",
    "print(ans)"
   ]
  },
  {
   "cell_type": "markdown",
   "id": "e683ce7c-4454-4751-a9e9-c129a3cc514e",
   "metadata": {},
   "source": [
    "### 6.WAP to count numbers of vowels in given string."
   ]
  },
  {
   "cell_type": "code",
   "execution_count": 36,
   "id": "104f1bb6-0725-4187-aaa2-ce4f9ec6ff81",
   "metadata": {},
   "outputs": [
    {
     "name": "stdin",
     "output_type": "stream",
     "text": [
      "Enter String :  archana\n"
     ]
    },
    {
     "name": "stdout",
     "output_type": "stream",
     "text": [
      "3\n"
     ]
    }
   ],
   "source": [
    "s1 = input(\"Enter String : \")\n",
    "count = 0\n",
    "for i in s1:\n",
    "    if i in \"aeiouAEIOU\":\n",
    "        count+=1\n",
    "print(count)"
   ]
  },
  {
   "cell_type": "markdown",
   "id": "940463e7-3ef5-47eb-b206-37822161d9a8",
   "metadata": {},
   "source": [
    "### 7. WAP to convert given array to string."
   ]
  },
  {
   "cell_type": "code",
   "execution_count": 40,
   "id": "7d493bed-10d9-4544-bcd3-ab7b5bfec64f",
   "metadata": {},
   "outputs": [
    {
     "name": "stdout",
     "output_type": "stream",
     "text": [
      "abc xyz mno qwe\n"
     ]
    }
   ],
   "source": [
    "a = ['abc','xyz','mno','qwe']\n",
    "res = ' '.join(a)\n",
    "print(res)"
   ]
  },
  {
   "cell_type": "markdown",
   "id": "d3a91be7-b644-4824-bfb9-463a17ed7455",
   "metadata": {},
   "source": [
    "### 8. Check if the password and confirm password is same or not.¶\n",
    "### In case of only case's mistake, show the error message."
   ]
  },
  {
   "cell_type": "code",
   "execution_count": 39,
   "id": "c3558dc6-6098-452b-855c-6a4c8db79133",
   "metadata": {},
   "outputs": [
    {
     "name": "stdin",
     "output_type": "stream",
     "text": [
      "Enter Password :  abc\n",
      "Enter Confirm Password :  xva\n"
     ]
    },
    {
     "name": "stdout",
     "output_type": "stream",
     "text": [
      "Password not Matched\n"
     ]
    }
   ],
   "source": [
    "s1 = input(\"Enter Password : \")\n",
    "s2 = input(\"Enter Confirm Password : \")\n",
    "if s1.casefold()==s2.casefold():\n",
    "    print(\"Password Matched\")\n",
    "else:\n",
    "    print(\"Password not Matched\")"
   ]
  },
  {
   "cell_type": "code",
   "execution_count": null,
   "id": "c8b19e54-8e5a-4602-97e0-6baf73f28a10",
   "metadata": {},
   "outputs": [],
   "source": []
  }
 ],
 "metadata": {
  "kernelspec": {
   "display_name": "Python [conda env:base] *",
   "language": "python",
   "name": "conda-base-py"
  },
  "language_info": {
   "codemirror_mode": {
    "name": "ipython",
    "version": 3
   },
   "file_extension": ".py",
   "mimetype": "text/x-python",
   "name": "python",
   "nbconvert_exporter": "python",
   "pygments_lexer": "ipython3",
   "version": "3.12.7"
  }
 },
 "nbformat": 4,
 "nbformat_minor": 5
}
