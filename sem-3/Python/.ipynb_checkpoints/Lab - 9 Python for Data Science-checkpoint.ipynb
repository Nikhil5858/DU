{
 "cells": [
  {
   "cell_type": "markdown",
   "id": "fd1bc7f2-33b9-4401-b22b-f4008fdb4c71",
   "metadata": {},
   "source": [
    "<a href='https://www.darshan.ac.in/'> <img src='https://www.darshan.ac.in/Content/media/DU_Logo.svg' width=\"150\" height=\"200\"/></a>\n",
    "<pre>\n",
    "<center><b><h2> Python for Data Science - 2305CS303 </b></center>\n",
    "<center><b><h2>Lab - 9</b></center>    \n",
    "<left><b><h3>Roll No. : </b></left>  \n",
    "<left><b><h3>Name : </b></left>   \n",
    "<pre>    "
   ]
  },
  {
   "cell_type": "markdown",
   "id": "4775ea51-e4f7-4bec-9066-34d55f26f638",
   "metadata": {},
   "source": [
    "### 1. Create a Pandas Series containing names of 5 students."
   ]
  },
  {
   "cell_type": "code",
   "execution_count": null,
   "id": "ef6095ee-17bb-431d-9213-1c2daaec77d9",
   "metadata": {},
   "outputs": [],
   "source": []
  },
  {
   "cell_type": "markdown",
   "id": "675a5405-3a85-4acb-981f-e177816dd346",
   "metadata": {},
   "source": [
    "### 2. Create a Series with student roll numbers as index and their IAT scores as values.."
   ]
  },
  {
   "cell_type": "code",
   "execution_count": null,
   "id": "7a27d309-9090-4aa7-99d6-25ee8b6dbca9",
   "metadata": {},
   "outputs": [],
   "source": []
  },
  {
   "cell_type": "markdown",
   "id": "49ebf22b-cf7b-4d0d-8978-57edc0cda362",
   "metadata": {},
   "source": [
    "### 3. Create a time series (daily) from 2025-08-01 to 2025-08-10 representing attendance tracking for a student."
   ]
  },
  {
   "cell_type": "code",
   "execution_count": null,
   "id": "e787cf49-effc-4d1b-8546-3ef751701cab",
   "metadata": {},
   "outputs": [],
   "source": []
  },
  {
   "cell_type": "markdown",
   "id": "08e8af17-4ef1-4734-8cdf-6f8d0675ff7e",
   "metadata": {},
   "source": [
    "### 4. Create a DataFrame for 10 students with the following columns: Roll No, Name, PDS, CA, CN, IAT.\n",
    "#### (Use NumPy random module to generate scores)"
   ]
  },
  {
   "cell_type": "code",
   "execution_count": null,
   "id": "cdeedbc3-c526-441f-85a9-045360caa446",
   "metadata": {},
   "outputs": [],
   "source": []
  },
  {
   "cell_type": "markdown",
   "id": "c2c54c21-abe2-439f-bc8e-5a43be7c5031",
   "metadata": {},
   "source": [
    "### 5. Display the first 3 rows of the DataFrame."
   ]
  },
  {
   "cell_type": "code",
   "execution_count": null,
   "id": "97bac1f7-f69e-4ab4-9df4-aa392ced129a",
   "metadata": {},
   "outputs": [],
   "source": []
  },
  {
   "cell_type": "markdown",
   "id": "29b8c7da-fe08-45eb-9e27-2c47ab1ec26f",
   "metadata": {},
   "source": [
    "### 6. Display the last 2 rows of the DataFrame."
   ]
  },
  {
   "cell_type": "code",
   "execution_count": null,
   "id": "2e4dbdd6-d10b-4d08-9a4a-cb0acee96281",
   "metadata": {},
   "outputs": [],
   "source": []
  },
  {
   "cell_type": "markdown",
   "id": "b76592c9-38ed-4b92-a0c4-9ed2a833bb53",
   "metadata": {},
   "source": [
    "### 7. Use .describe() to summarize the numeric data."
   ]
  },
  {
   "cell_type": "code",
   "execution_count": null,
   "id": "d54030cb-ac22-43d1-b7c7-c8494cf59b13",
   "metadata": {},
   "outputs": [],
   "source": []
  },
  {
   "cell_type": "markdown",
   "id": "ddf54203-47cb-425c-b118-3318148c2571",
   "metadata": {},
   "source": [
    "### 8. Select only the Name column."
   ]
  },
  {
   "cell_type": "code",
   "execution_count": null,
   "id": "75b79085-18d5-41cf-b6f2-fe1c659b5eef",
   "metadata": {},
   "outputs": [],
   "source": []
  },
  {
   "cell_type": "markdown",
   "id": "f6a3191f-3348-4ba0-9222-cd560e7a734a",
   "metadata": {},
   "source": [
    "### 9. Select the columns PDS, CN, and IAT."
   ]
  },
  {
   "cell_type": "code",
   "execution_count": null,
   "id": "ecd23840-7d27-4a0d-8d44-7c6d1fa26b72",
   "metadata": {},
   "outputs": [],
   "source": []
  },
  {
   "cell_type": "markdown",
   "id": "a90ecdf6-9f21-4b25-ace0-6083c311dddf",
   "metadata": {},
   "source": [
    "### 10. Select the row with Roll No = 105 using loc.\n"
   ]
  },
  {
   "cell_type": "code",
   "execution_count": null,
   "id": "cb16a8ae-2d76-4e3c-8fac-ce9583e77ecf",
   "metadata": {},
   "outputs": [],
   "source": []
  },
  {
   "cell_type": "markdown",
   "id": "e7b02e28-8b48-4644-8451-160e19cc5873",
   "metadata": {},
   "source": [
    "### 11. Select the 4th row using iloc."
   ]
  },
  {
   "cell_type": "code",
   "execution_count": null,
   "id": "104f1bb6-0725-4187-aaa2-ce4f9ec6ff81",
   "metadata": {},
   "outputs": [],
   "source": []
  },
  {
   "cell_type": "markdown",
   "id": "940463e7-3ef5-47eb-b206-37822161d9a8",
   "metadata": {},
   "source": [
    "### 12. Select students with marks in PDS > 80."
   ]
  },
  {
   "cell_type": "code",
   "execution_count": null,
   "id": "7d493bed-10d9-4544-bcd3-ab7b5bfec64f",
   "metadata": {},
   "outputs": [],
   "source": []
  },
  {
   "cell_type": "markdown",
   "id": "1381be74-c739-4773-8248-5077b6d4fcd9",
   "metadata": {},
   "source": [
    "### 13. Select students with marks in CA < 70. "
   ]
  },
  {
   "cell_type": "code",
   "execution_count": null,
   "id": "b01f3692-ae72-48bb-a019-64cb4f67b0fe",
   "metadata": {},
   "outputs": [],
   "source": []
  },
  {
   "cell_type": "markdown",
   "id": "a83dd20a-efd2-4421-94c2-917009b61b07",
   "metadata": {},
   "source": [
    "### 14. Select students with marks in CN > 85 and PDS > 80"
   ]
  },
  {
   "cell_type": "code",
   "execution_count": null,
   "id": "911f90a5-79a3-4bac-9fed-8f1cb8f5c7fd",
   "metadata": {},
   "outputs": [],
   "source": []
  },
  {
   "cell_type": "markdown",
   "id": "02af34d1-be8a-4536-b329-7628391bd3ea",
   "metadata": {},
   "source": [
    "### 15. Add a new column Total Marks = PDS + CA + CN + IAT."
   ]
  },
  {
   "cell_type": "code",
   "execution_count": null,
   "id": "5ce24a7a-5766-4ec6-a230-a006742a81bf",
   "metadata": {},
   "outputs": [],
   "source": []
  },
  {
   "cell_type": "markdown",
   "id": "5d38c8d8-4ce6-4088-a1c7-dff745280b7d",
   "metadata": {},
   "source": [
    "### 16. Create a new DataFrame of students with Total Marks > 320."
   ]
  },
  {
   "cell_type": "code",
   "execution_count": null,
   "id": "269faf07-cae6-4c92-a14d-7b44ef6b27f7",
   "metadata": {},
   "outputs": [],
   "source": []
  }
 ],
 "metadata": {
  "kernelspec": {
   "display_name": "Python 3 (ipykernel)",
   "language": "python",
   "name": "python3"
  },
  "language_info": {
   "codemirror_mode": {
    "name": "ipython",
    "version": 3
   },
   "file_extension": ".py",
   "mimetype": "text/x-python",
   "name": "python",
   "nbconvert_exporter": "python",
   "pygments_lexer": "ipython3",
   "version": "3.12.7"
  }
 },
 "nbformat": 4,
 "nbformat_minor": 5
}
