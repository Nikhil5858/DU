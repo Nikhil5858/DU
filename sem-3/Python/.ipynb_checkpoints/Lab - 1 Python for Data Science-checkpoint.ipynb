{
 "cells": [
  {
   "cell_type": "markdown",
   "id": "fd1bc7f2-33b9-4401-b22b-f4008fdb4c71",
   "metadata": {},
   "source": [
    "<a href='https://www.darshan.ac.in/'> <img src='https://www.darshan.ac.in/Content/media/DU_Logo.svg' width=\"150\" height=\"200\"/></a>\n",
    "<pre>\n",
    "<center><b><h2> Python for Data Science - 2305CS303 </b></center>\n",
    "<center><b><h2>Lab - 1</b></center>    \n",
    "<left><b><h3>Roll No. : 135</b></left>  \n",
    "<left><b><h3>Name : Rathod Nikhil</b></left>   \n",
    "<pre>  "
   ]
  },
  {
   "cell_type": "markdown",
   "id": "4775ea51-e4f7-4bec-9066-34d55f26f638",
   "metadata": {},
   "source": [
    "### 1. WAP to print “Hello World”"
   ]
  },
  {
   "cell_type": "code",
   "execution_count": 2,
   "id": "0471b876-255d-4303-8b40-87f176352b00",
   "metadata": {},
   "outputs": [
    {
     "name": "stdout",
     "output_type": "stream",
     "text": [
      "Hello\n"
     ]
    }
   ],
   "source": [
    "print(\"Hello\")"
   ]
  },
  {
   "cell_type": "markdown",
   "id": "08e8af17-4ef1-4734-8cdf-6f8d0675ff7e",
   "metadata": {},
   "source": [
    "### 2. WAP to print your address i) using single print ii) using multiple print"
   ]
  },
  {
   "cell_type": "code",
   "execution_count": 7,
   "id": "6c690c35-280b-492a-95b4-178d718417a7",
   "metadata": {},
   "outputs": [
    {
     "name": "stdout",
     "output_type": "stream",
     "text": [
      "Jamnagar Gujarat Street 5 pincode 361004\n",
      "Jamnagar\n",
      "Gujarat\n",
      "Street 5\n",
      "Pincode 361004\n",
      "India\n"
     ]
    }
   ],
   "source": [
    "print(\"Jamnagar Gujarat Street 5 pincode 361004\")\n",
    "print(\"Jamnagar\")\n",
    "print(\"Gujarat\")\n",
    "print(\"Street 5\")\n",
    "print(\"Pincode 361004\")\n",
    "print(\"India\")"
   ]
  },
  {
   "cell_type": "markdown",
   "id": "c2c54c21-abe2-439f-bc8e-5a43be7c5031",
   "metadata": {},
   "source": [
    "### 3. WAP to print addition of 2 numbers (without input function) "
   ]
  },
  {
   "cell_type": "code",
   "execution_count": 1,
   "id": "a2e9586a-aedc-4274-94be-093618bd865a",
   "metadata": {},
   "outputs": [
    {
     "name": "stdout",
     "output_type": "stream",
     "text": [
      "30\n"
     ]
    }
   ],
   "source": [
    "num1 = 10\n",
    "num2 = 20\n",
    "res = num1 + num2\n",
    "print(res)"
   ]
  },
  {
   "cell_type": "markdown",
   "id": "ddf54203-47cb-425c-b118-3318148c2571",
   "metadata": {},
   "source": [
    "### 4. WAP to calculate and print average of 2 numbers (without input function)"
   ]
  },
  {
   "cell_type": "code",
   "execution_count": 11,
   "id": "d2262062-d9ad-4f38-b0ec-048aba1610e7",
   "metadata": {},
   "outputs": [
    {
     "name": "stdout",
     "output_type": "stream",
     "text": [
      "70\n",
      "35.0\n"
     ]
    }
   ],
   "source": [
    "a = 50\n",
    "b = 20\n",
    "ans = a+b\n",
    "avg = ans/2\n",
    "print(ans)\n",
    "print(avg)"
   ]
  },
  {
   "cell_type": "markdown",
   "id": "a90ecdf6-9f21-4b25-ace0-6083c311dddf",
   "metadata": {},
   "source": [
    "### 5. WAP to add two number entered by user."
   ]
  },
  {
   "cell_type": "code",
   "execution_count": 4,
   "id": "c9b5900d-933b-45ad-801e-a9bbc4b38930",
   "metadata": {},
   "outputs": [
    {
     "name": "stdin",
     "output_type": "stream",
     "text": [
      "Enter Number 1 :  20\n",
      "Enter Number 2 :  20\n"
     ]
    },
    {
     "name": "stdout",
     "output_type": "stream",
     "text": [
      "40\n"
     ]
    }
   ],
   "source": [
    "a = int(input(\"Enter Number 1 : \"))\n",
    "b = int(input(\"Enter Number 2 : \"))\n",
    "ans = a+b\n",
    "print(ans)"
   ]
  },
  {
   "cell_type": "markdown",
   "id": "e7b02e28-8b48-4644-8451-160e19cc5873",
   "metadata": {},
   "source": [
    "### 6. WAP to calculate area of circle."
   ]
  },
  {
   "cell_type": "code",
   "execution_count": 5,
   "id": "456667b8-b2e1-40d5-a35e-af22cc87b2e7",
   "metadata": {},
   "outputs": [
    {
     "name": "stdin",
     "output_type": "stream",
     "text": [
      "Enter Number :  50\n"
     ]
    },
    {
     "name": "stdout",
     "output_type": "stream",
     "text": [
      "7850.0\n"
     ]
    }
   ],
   "source": [
    "r = int(input(\"Enter Number : \"))\n",
    "ans = 3.14 * r * r\n",
    "print(ans)"
   ]
  },
  {
   "cell_type": "markdown",
   "id": "9ce82697-9747-4822-b404-10645476d271",
   "metadata": {},
   "source": [
    "### 7. Purposefully raise Indentation Error and Correct it."
   ]
  },
  {
   "cell_type": "code",
   "execution_count": 12,
   "id": "24ed9138-c07d-46c2-b05b-5caca27d2032",
   "metadata": {},
   "outputs": [
    {
     "ename": "IndentationError",
     "evalue": "expected an indented block after 'if' statement on line 3 (2323194166.py, line 4)",
     "output_type": "error",
     "traceback": [
      "\u001b[1;36m  Cell \u001b[1;32mIn[12], line 4\u001b[1;36m\u001b[0m\n\u001b[1;33m    print(\"Equal\")\u001b[0m\n\u001b[1;37m    ^\u001b[0m\n\u001b[1;31mIndentationError\u001b[0m\u001b[1;31m:\u001b[0m expected an indented block after 'if' statement on line 3\n"
     ]
    }
   ],
   "source": [
    "a = 10\n",
    "b = 10 \n",
    "if(a == b):\n",
    "print(\"Equal\")\n",
    "else:\n",
    "print(\"Not Equal!\")\n",
    "\n",
    "# a = 10\n",
    "# b = 10 \n",
    "# if(a == b):\n",
    "#     print(\"Equal\")\n",
    "# else:\n",
    "#     print(\"Not Equal!\")"
   ]
  },
  {
   "cell_type": "markdown",
   "id": "92bd1975-7fdd-4dce-bc93-86a7e0107b6a",
   "metadata": {},
   "source": [
    "### 8. WAP to calculate simple interest"
   ]
  },
  {
   "cell_type": "code",
   "execution_count": 7,
   "id": "38388940-a742-4cd0-8d6e-67d31838cd4a",
   "metadata": {},
   "outputs": [
    {
     "name": "stdin",
     "output_type": "stream",
     "text": [
      "Enter Number Amount :  50000\n",
      "Enter Number Interest :  7\n",
      "Enter Number Month :  60\n"
     ]
    },
    {
     "name": "stdout",
     "output_type": "stream",
     "text": [
      "210000.0\n"
     ]
    }
   ],
   "source": [
    "p = int(input(\"Enter Number Amount : \"))\n",
    "r = int(input(\"Enter Number Interest : \"))\n",
    "n = int(input(\"Enter Number Month : \"))\n",
    "ans = ((p * r * n)/100)\n",
    "print(ans)"
   ]
  },
  {
   "cell_type": "markdown",
   "id": "8bda793e-351e-4a96-96c8-09221c5f93b3",
   "metadata": {},
   "source": [
    "### 9. WAP Calculate Area and Circumference of Circle."
   ]
  },
  {
   "cell_type": "code",
   "execution_count": 8,
   "id": "cbebb28a-b4dc-44eb-8b7a-7e7f61e3ac51",
   "metadata": {},
   "outputs": [
    {
     "name": "stdin",
     "output_type": "stream",
     "text": [
      "Enter Number Rate :  5\n"
     ]
    },
    {
     "name": "stdout",
     "output_type": "stream",
     "text": [
      "31.400000000000002\n"
     ]
    }
   ],
   "source": [
    "r = int(input(\"Enter Number Rate : \"))\n",
    "ans = 2 * 3.14 * r\n",
    "print(ans)"
   ]
  },
  {
   "cell_type": "markdown",
   "id": "dd955868-cc6a-406d-b1d1-3b3db3ffd698",
   "metadata": {},
   "source": [
    "### 10. WAP to print Multiplication table of given number."
   ]
  },
  {
   "cell_type": "code",
   "execution_count": 13,
   "id": "21b976b9-dd33-4ccd-8fcd-6983332a59b2",
   "metadata": {},
   "outputs": [
    {
     "name": "stdin",
     "output_type": "stream",
     "text": [
      "Enter Number :  5\n"
     ]
    },
    {
     "name": "stdout",
     "output_type": "stream",
     "text": [
      "5  x  1  =  5\n",
      "5  x  2  =  10\n",
      "5  x  3  =  15\n",
      "5  x  4  =  20\n",
      "5  x  5  =  25\n",
      "5  x  6  =  30\n",
      "5  x  7  =  35\n",
      "5  x  8  =  40\n",
      "5  x  9  =  45\n",
      "5  x  10  =  50\n"
     ]
    }
   ],
   "source": [
    "num = int(input(\"Enter Number : \"))\n",
    "for i in range(1,11):\n",
    "    print(num , \" x \" , i , \" = \", (num*i))"
   ]
  },
  {
   "cell_type": "markdown",
   "id": "3c06dae2-6e66-4de2-b815-e79f794373a7",
   "metadata": {},
   "source": [
    "### 11. WAP to calculate Area of Triangle. (hint: a = h*b*0.5)"
   ]
  },
  {
   "cell_type": "code",
   "execution_count": 14,
   "id": "f7ad1959-7133-4fb5-89c1-1193065fc91c",
   "metadata": {},
   "outputs": [
    {
     "name": "stdin",
     "output_type": "stream",
     "text": [
      "Enter Height :  5\n",
      "Enter Base :  4\n"
     ]
    },
    {
     "name": "stdout",
     "output_type": "stream",
     "text": [
      "10.0\n"
     ]
    }
   ],
   "source": [
    "h = int(input(\"Enter Height : \"))\n",
    "b = int(input(\"Enter Base : \"))\n",
    "res = (h*b*0.5)\n",
    "print(res)"
   ]
  },
  {
   "cell_type": "markdown",
   "id": "4b16662b-51d6-41fb-bbfb-414610a92d3a",
   "metadata": {},
   "source": [
    "### 12. WAP to convert Degree to Fahrenheit and vice versa."
   ]
  },
  {
   "cell_type": "code",
   "execution_count": 21,
   "id": "219f1289-6d8a-4d90-851d-e4d1626c6d26",
   "metadata": {},
   "outputs": [
    {
     "name": "stdin",
     "output_type": "stream",
     "text": [
      "Enter Number :  45\n"
     ]
    },
    {
     "name": "stdout",
     "output_type": "stream",
     "text": [
      "113.0\n"
     ]
    },
    {
     "name": "stdin",
     "output_type": "stream",
     "text": [
      "Enter Number :  113\n"
     ]
    },
    {
     "name": "stdout",
     "output_type": "stream",
     "text": [
      "45.0\n"
     ]
    }
   ],
   "source": [
    "# Celsius to Fahrenheit\n",
    "cel = float(input(\"Enter Number : \"))\n",
    "res = ((cel*(9/5))+32)\n",
    "print(res)\n",
    "\n",
    "\n",
    "\n",
    "# Fahrenheit to Celsius\n",
    "fah = float(input(\"Enter Number : \"))\n",
    "res = (fah-32)*5/9\n",
    "print(res)"
   ]
  },
  {
   "cell_type": "markdown",
   "id": "5739e997-b70d-4b93-a375-b94cdb1b2f94",
   "metadata": {},
   "source": [
    "### 13.WAP to calculate total marks and Percentage."
   ]
  },
  {
   "cell_type": "code",
   "execution_count": 2,
   "id": "6bd38c09-3365-4624-9da2-91721573a07d",
   "metadata": {},
   "outputs": [
    {
     "name": "stdin",
     "output_type": "stream",
     "text": [
      "Enter Number of Subjects:  5\n",
      "Enter Marks:  95\n",
      "Enter Marks:  78\n",
      "Enter Marks:  96\n",
      "Enter Marks:  85\n",
      "Enter Marks:  46\n"
     ]
    },
    {
     "name": "stdout",
     "output_type": "stream",
     "text": [
      "Total Marks: 400\n",
      "Percentage: 80.0\n"
     ]
    }
   ],
   "source": [
    "num = int(input(\"Enter Number of Subjects: \"))\n",
    "sum = 0\n",
    "for i in range(1, num+1):\n",
    "    sub = int(input(\"Enter Marks: \"))\n",
    "    sum = sum + sub\n",
    "print(\"Total Marks:\", sum)\n",
    "print(\"Percentage:\", (sum/(num*100))*100)"
   ]
  },
  {
   "cell_type": "code",
   "execution_count": null,
   "id": "c3b9d571-953d-450b-8e5e-9360883a272e",
   "metadata": {},
   "outputs": [],
   "source": []
  }
 ],
 "metadata": {
  "kernelspec": {
   "display_name": "Python [conda env:base] *",
   "language": "python",
   "name": "conda-base-py"
  },
  "language_info": {
   "codemirror_mode": {
    "name": "ipython",
    "version": 3
   },
   "file_extension": ".py",
   "mimetype": "text/x-python",
   "name": "python",
   "nbconvert_exporter": "python",
   "pygments_lexer": "ipython3",
   "version": "3.12.7"
  }
 },
 "nbformat": 4,
 "nbformat_minor": 5
}
