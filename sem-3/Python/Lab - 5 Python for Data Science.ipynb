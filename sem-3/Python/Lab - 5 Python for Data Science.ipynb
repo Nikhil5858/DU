{
 "cells": [
  {
   "cell_type": "markdown",
   "id": "fd1bc7f2-33b9-4401-b22b-f4008fdb4c71",
   "metadata": {},
   "source": [
    "<a href='https://www.darshan.ac.in/'> <img src='https://www.darshan.ac.in/Content/media/DU_Logo.svg' width=\"150\" height=\"200\"/></a>\n",
    "<pre>\n",
    "<center><b><h2> Python for Data Science - 2305CS303 </b></center>\n",
    "<center><b><h2>Lab - 5</b></center>    \n",
    "<left><b><h3>Roll No. : 135</b></left>  \n",
    "<left><b><h3>Name : Nikhil Rathod</b></left>   \n",
    "<pre>    "
   ]
  },
  {
   "cell_type": "markdown",
   "id": "4775ea51-e4f7-4bec-9066-34d55f26f638",
   "metadata": {},
   "source": [
    "### 1. WAP to find sum of all the elements in a List."
   ]
  },
  {
   "cell_type": "code",
   "execution_count": 1,
   "id": "0c129df0-0199-4a6d-b363-a27435769ab1",
   "metadata": {},
   "outputs": [
    {
     "name": "stdout",
     "output_type": "stream",
     "text": [
      "15\n"
     ]
    }
   ],
   "source": [
    "l1 = [1,2,3,4,5]\n",
    "res = 0\n",
    "for i in l1:\n",
    "   res+=i\n",
    "print(res)"
   ]
  },
  {
   "cell_type": "markdown",
   "id": "08e8af17-4ef1-4734-8cdf-6f8d0675ff7e",
   "metadata": {},
   "source": [
    "### 2. WAP to find largest element in a List.\n"
   ]
  },
  {
   "cell_type": "code",
   "execution_count": 17,
   "id": "cdeedbc3-c526-441f-85a9-045360caa446",
   "metadata": {},
   "outputs": [
    {
     "name": "stdout",
     "output_type": "stream",
     "text": [
      "5\n"
     ]
    }
   ],
   "source": [
    "l1 = [1,2,3,4,5]\n",
    "max = 0\n",
    "for i in l1:\n",
    "   if i>max:\n",
    "    max=i\n",
    "print(max)"
   ]
  },
  {
   "cell_type": "markdown",
   "id": "1e07fd21-2650-4f8b-a695-afce7cdc12ae",
   "metadata": {},
   "source": [
    "### 3. WAP to interchange first and last elements in a list."
   ]
  },
  {
   "cell_type": "code",
   "execution_count": 19,
   "id": "97bac1f7-f69e-4ab4-9df4-aa392ced129a",
   "metadata": {},
   "outputs": [
    {
     "data": {
      "text/plain": [
       "[50, 20, 30, 40, 10]"
      ]
     },
     "execution_count": 19,
     "metadata": {},
     "output_type": "execute_result"
    }
   ],
   "source": [
    "l1 = [10,20,30,40,50]\n",
    "first = l1[0]\n",
    "last=l1[-1]\n",
    "l1[0] = last\n",
    "l1[-1] = first\n",
    "l1"
   ]
  },
  {
   "cell_type": "markdown",
   "id": "9c5c7d92-31d4-4ef3-b5d4-1dbba621ef7c",
   "metadata": {},
   "source": [
    "### 4. WAP to reverse the list entered by user."
   ]
  },
  {
   "cell_type": "code",
   "execution_count": 27,
   "id": "4c2be11a-7014-4c84-8dff-097f6edeaa25",
   "metadata": {},
   "outputs": [
    {
     "name": "stdout",
     "output_type": "stream",
     "text": [
      "50 40 30 20 10 "
     ]
    }
   ],
   "source": [
    "l1 = [10,20,30,40,50]\n",
    "for i in l1[::-1]:\n",
    "    print(i,end=\" \")"
   ]
  },
  {
   "cell_type": "markdown",
   "id": "a90ecdf6-9f21-4b25-ace0-6083c311dddf",
   "metadata": {},
   "source": [
    "### 5. WAP to print even numbers in a list.\n"
   ]
  },
  {
   "cell_type": "code",
   "execution_count": 26,
   "id": "cb16a8ae-2d76-4e3c-8fac-ce9583e77ecf",
   "metadata": {},
   "outputs": [
    {
     "name": "stdout",
     "output_type": "stream",
     "text": [
      "10 12 14 16 "
     ]
    }
   ],
   "source": [
    "l5 = [10,11,12,13,14,15,16]\n",
    "for i in l5:\n",
    "    if i%2==0:\n",
    "        print(i,end=\" \")"
   ]
  },
  {
   "cell_type": "markdown",
   "id": "e7b02e28-8b48-4644-8451-160e19cc5873",
   "metadata": {},
   "source": [
    "### 6. WAP to count occurrences of an element in a list."
   ]
  },
  {
   "cell_type": "code",
   "execution_count": 35,
   "id": "104f1bb6-0725-4187-aaa2-ce4f9ec6ff81",
   "metadata": {},
   "outputs": [
    {
     "name": "stdin",
     "output_type": "stream",
     "text": [
      "Enter Number to Find :  20\n"
     ]
    },
    {
     "name": "stdout",
     "output_type": "stream",
     "text": [
      "20 is in List : 5\n"
     ]
    }
   ],
   "source": [
    "l6 = [10,20,30,40,20,20,20,20,30,40,50,60,70]\n",
    "k = int(input(\"Enter Number to Find : \"))\n",
    "count = 0\n",
    "for i in l6:\n",
    "    if k==i:\n",
    "        count+=1\n",
    "print(k,\"is in List :\",count)\n",
    "    "
   ]
  },
  {
   "cell_type": "markdown",
   "id": "f7051220-2f1f-4861-90db-8c3e446a44fe",
   "metadata": {},
   "source": [
    "### 7. WAP to extract elements with frequency greater than K."
   ]
  },
  {
   "cell_type": "code",
   "execution_count": 39,
   "id": "7d493bed-10d9-4544-bcd3-ab7b5bfec64f",
   "metadata": {},
   "outputs": [
    {
     "name": "stdin",
     "output_type": "stream",
     "text": [
      "Enter Number to Find :  3\n"
     ]
    },
    {
     "name": "stdout",
     "output_type": "stream",
     "text": [
      "[1, 20]\n"
     ]
    }
   ],
   "source": [
    "l6 = [10,1a,1,1,1,1,1,20,30,40,20,20,20,20,30,40,50,60,70]\n",
    "k = int(input(\"Enter Number to Find : \"))\n",
    "l=[]\n",
    "for i in l6:\n",
    "    res = l6.count(i)\n",
    "    if res>k and i not in l:\n",
    "        l.append(i)\n",
    "print(l)"
   ]
  },
  {
   "cell_type": "code",
   "execution_count": 49,
   "id": "ab7f090d-4e44-4570-b208-c9dd681d5ea6",
   "metadata": {},
   "outputs": [
    {
     "name": "stdout",
     "output_type": "stream",
     "text": [
      "55\n"
     ]
    }
   ],
   "source": [
    "l1 = [10,2,30,40,50,70,55]\n",
    "max = 0\n",
    "secondmax=0\n",
    "for i in l1:\n",
    "   if i>max:\n",
    "    secondmax=max\n",
    "    max=i\n",
    "for j in l1:\n",
    "   if j > secondmax or j < max:\n",
    "    secondmax=i\n",
    "print(secondmax)"
   ]
  },
  {
   "cell_type": "code",
   "execution_count": null,
   "id": "e4458e19-b81e-4efe-a91c-13f62b31ac17",
   "metadata": {},
   "outputs": [],
   "source": []
  }
 ],
 "metadata": {
  "kernelspec": {
   "display_name": "Python [conda env:base] *",
   "language": "python",
   "name": "conda-base-py"
  },
  "language_info": {
   "codemirror_mode": {
    "name": "ipython",
    "version": 3
   },
   "file_extension": ".py",
   "mimetype": "text/x-python",
   "name": "python",
   "nbconvert_exporter": "python",
   "pygments_lexer": "ipython3",
   "version": "3.12.7"
  }
 },
 "nbformat": 4,
 "nbformat_minor": 5
}
