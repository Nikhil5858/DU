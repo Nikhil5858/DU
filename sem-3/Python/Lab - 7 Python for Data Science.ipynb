{
 "cells": [
  {
   "cell_type": "markdown",
   "id": "fd1bc7f2-33b9-4401-b22b-f4008fdb4c71",
   "metadata": {},
   "source": [
    "<a href='https://www.darshan.ac.in/'> <img src='https://www.darshan.ac.in/Content/media/DU_Logo.svg' width=\"150\" height=\"200\"/></a>\n",
    "<pre>\n",
    "<center><b><h2> Python for Data Science - 2305CS303 </b></center>\n",
    "<center><b><h2>Lab - 7</b></center>    \n",
    "<left><b><h3>Roll No. : 135</b></left>  \n",
    "<left><b><h3>Name : Nikhil Rathod</b></left>   \n",
    "<pre>    "
   ]
  },
  {
   "cell_type": "markdown",
   "id": "4775ea51-e4f7-4bec-9066-34d55f26f638",
   "metadata": {},
   "source": [
    "### 1. WAP to count simple interest using function."
   ]
  },
  {
   "cell_type": "code",
   "execution_count": 2,
   "id": "0c129df0-0199-4a6d-b363-a27435769ab1",
   "metadata": {},
   "outputs": [
    {
     "data": {
      "text/plain": [
       "300.0"
      ]
     },
     "execution_count": 2,
     "metadata": {},
     "output_type": "execute_result"
    }
   ],
   "source": [
    "def simple_interest(p,r,n):\n",
    "    return (p*r*n)/100\n",
    "simple_interest(5000,2,3)"
   ]
  },
  {
   "cell_type": "markdown",
   "id": "49ebf22b-cf7b-4d0d-8978-57edc0cda362",
   "metadata": {},
   "source": [
    "### 2. Write a function to calculate BMI given mass and height. (BMI = mass/h**2)"
   ]
  },
  {
   "cell_type": "code",
   "execution_count": 3,
   "id": "e787cf49-effc-4d1b-8546-3ef751701cab",
   "metadata": {},
   "outputs": [
    {
     "data": {
      "text/plain": [
       "8.0"
      ]
     },
     "execution_count": 3,
     "metadata": {},
     "output_type": "execute_result"
    }
   ],
   "source": [
    "def BMI(m,h):\n",
    "    return m/(h**2)\n",
    "BMI(200,5)"
   ]
  },
  {
   "cell_type": "markdown",
   "id": "08e8af17-4ef1-4734-8cdf-6f8d0675ff7e",
   "metadata": {},
   "source": [
    "### 3. WAP that defines a function to add first n numbers.\n"
   ]
  },
  {
   "cell_type": "code",
   "execution_count": 22,
   "id": "cdeedbc3-c526-441f-85a9-045360caa446",
   "metadata": {},
   "outputs": [
    {
     "data": {
      "text/plain": [
       "15"
      ]
     },
     "execution_count": 22,
     "metadata": {},
     "output_type": "execute_result"
    }
   ],
   "source": [
    "def sumofn(n):\n",
    "    total = 0\n",
    "    for i in range(1, n + 1):\n",
    "        total += i\n",
    "    return total\n",
    "sumofn(5)"
   ]
  },
  {
   "cell_type": "markdown",
   "id": "c2c54c21-abe2-439f-bc8e-5a43be7c5031",
   "metadata": {},
   "source": [
    "### 4. WAP to find maximum number from given two numbers using function."
   ]
  },
  {
   "cell_type": "code",
   "execution_count": 6,
   "id": "97bac1f7-f69e-4ab4-9df4-aa392ced129a",
   "metadata": {},
   "outputs": [
    {
     "data": {
      "text/plain": [
       "20"
      ]
     },
     "execution_count": 6,
     "metadata": {},
     "output_type": "execute_result"
    }
   ],
   "source": [
    "def maxnum(num1,num2):\n",
    "    if num1>num2:\n",
    "        return num1\n",
    "    else:\n",
    "        return num2\n",
    "maxnum(10,20)"
   ]
  },
  {
   "cell_type": "markdown",
   "id": "29b8c7da-fe08-45eb-9e27-2c47ab1ec26f",
   "metadata": {},
   "source": [
    "### 5. Write a function that returns True if the given string is Palindrome or False otherwise."
   ]
  },
  {
   "cell_type": "code",
   "execution_count": 10,
   "id": "2e4dbdd6-d10b-4d08-9a4a-cb0acee96281",
   "metadata": {},
   "outputs": [
    {
     "data": {
      "text/plain": [
       "'String is Palindrone'"
      ]
     },
     "execution_count": 10,
     "metadata": {},
     "output_type": "execute_result"
    }
   ],
   "source": [
    "def palidrone(s):\n",
    "    if s==s[::-1]:\n",
    "        return \"String is Palindrone\"\n",
    "    else:\n",
    "        return \"String is NOT Palindrone\"\n",
    "palidrone(\"nayan\")"
   ]
  },
  {
   "cell_type": "markdown",
   "id": "b76592c9-38ed-4b92-a0c4-9ed2a833bb53",
   "metadata": {},
   "source": [
    "### 6. Write a function that returns the sum of all the elements of the list."
   ]
  },
  {
   "cell_type": "code",
   "execution_count": 1,
   "id": "d54030cb-ac22-43d1-b7c7-c8494cf59b13",
   "metadata": {},
   "outputs": [
    {
     "name": "stdout",
     "output_type": "stream",
     "text": [
      "Sum of list: 100\n"
     ]
    }
   ],
   "source": [
    "def sumoflist(numbers):\n",
    "    total = 0\n",
    "    for num in numbers:\n",
    "        total += num\n",
    "    return total\n",
    "l = [10, 20, 30, 40]\n",
    "print(\"Sum of list:\", sumoflist(l))"
   ]
  },
  {
   "cell_type": "markdown",
   "id": "ddf54203-47cb-425c-b118-3318148c2571",
   "metadata": {},
   "source": [
    "### 7. WAP that defines a function which returns 1 if the number is prime otherwise return 0."
   ]
  },
  {
   "cell_type": "code",
   "execution_count": 24,
   "id": "75b79085-18d5-41cf-b6f2-fe1c659b5eef",
   "metadata": {},
   "outputs": [
    {
     "data": {
      "text/plain": [
       "False"
      ]
     },
     "execution_count": 24,
     "metadata": {},
     "output_type": "execute_result"
    }
   ],
   "source": [
    "def isPrime(n):\n",
    "    if n <= 1:\n",
    "        return False\n",
    "    for i in range(2, n):\n",
    "        if n % i == 0:\n",
    "            return False\n",
    "    return True\n",
    "isPrime(15)"
   ]
  },
  {
   "cell_type": "markdown",
   "id": "f6a3191f-3348-4ba0-9222-cd560e7a734a",
   "metadata": {},
   "source": [
    "### 8. Write a function that returns the list of Prime numbers between given two numbers."
   ]
  },
  {
   "cell_type": "code",
   "execution_count": 32,
   "id": "ecd23840-7d27-4a0d-8d44-7c6d1fa26b72",
   "metadata": {},
   "outputs": [
    {
     "name": "stdout",
     "output_type": "stream",
     "text": [
      "[2, 3, 5, 7, 11, 13, 17, 19, 23, 29, 31, 37, 41, 43, 47]\n"
     ]
    }
   ],
   "source": [
    "l1 = []\n",
    "def PrimeRange(m,n):\n",
    "    for i in range(m,n+1):\n",
    "        if (isPrime(i)):\n",
    "            l1.append(i)\n",
    "    print(l1)\n",
    "PrimeRange(2,50)"
   ]
  },
  {
   "cell_type": "markdown",
   "id": "a90ecdf6-9f21-4b25-ace0-6083c311dddf",
   "metadata": {},
   "source": [
    "### 9. WAP to generate Fibonacci series of N given number using function name fibbo. (e.g. 0 1 1 2 3 5 8...).\n"
   ]
  },
  {
   "cell_type": "code",
   "execution_count": 46,
   "id": "cb16a8ae-2d76-4e3c-8fac-ce9583e77ecf",
   "metadata": {},
   "outputs": [
    {
     "name": "stdout",
     "output_type": "stream",
     "text": [
      "0 0 0 0 0 0 0 0 "
     ]
    }
   ],
   "source": [
    "def fibo(n):\n",
    "    for i in range(n):\n",
    "        a = 0\n",
    "        b = 1\n",
    "        print(a,end=\" \")\n",
    "        n = a + b\n",
    "        a = b\n",
    "        b = n\n",
    "fibo(8)"
   ]
  },
  {
   "cell_type": "markdown",
   "id": "e7b02e28-8b48-4644-8451-160e19cc5873",
   "metadata": {},
   "source": [
    "### 10. WAP to find the factorial of a given number using recursion."
   ]
  },
  {
   "cell_type": "code",
   "execution_count": 2,
   "id": "104f1bb6-0725-4187-aaa2-ce4f9ec6ff81",
   "metadata": {},
   "outputs": [
    {
     "name": "stdin",
     "output_type": "stream",
     "text": [
      "Enter a number:  5\n"
     ]
    },
    {
     "name": "stdout",
     "output_type": "stream",
     "text": [
      "The factorial of 5 is 120\n"
     ]
    }
   ],
   "source": [
    "def factorial(n):\n",
    "    if n == 0 or n == 1: \n",
    "        return 1\n",
    "    else:\n",
    "        return n * factorial(n - 1) \n",
    "\n",
    "num = int(input(\"Enter a number: \"))\n",
    "\n",
    "if num < 0:\n",
    "    print(\"Not Allowed\")\n",
    "else:\n",
    "    print(f\"The factorial of {num} is {factorial(num)}\")\n"
   ]
  },
  {
   "cell_type": "markdown",
   "id": "940463e7-3ef5-47eb-b206-37822161d9a8",
   "metadata": {},
   "source": [
    "### 11. WAP to implement simple calculator using lamda function."
   ]
  },
  {
   "cell_type": "code",
   "execution_count": 4,
   "id": "7d493bed-10d9-4544-bcd3-ab7b5bfec64f",
   "metadata": {},
   "outputs": [
    {
     "name": "stdin",
     "output_type": "stream",
     "text": [
      "Enter operator (+, -, *, /):  +\n",
      "Enter first number:  10\n",
      "Enter second number:  20\n"
     ]
    },
    {
     "name": "stdout",
     "output_type": "stream",
     "text": [
      "Result: 30.0\n"
     ]
    }
   ],
   "source": [
    "add = lambda a, b: a + b\n",
    "sub = lambda a, b: a - b\n",
    "mul = lambda a, b: a * b\n",
    "div = lambda a, b: a / b if b != 0 else \"Division by zero not allowed\"\n",
    "choice = input(\"Enter operator (+, -, *, /): \")\n",
    "num1 = float(input(\"Enter first number: \"))\n",
    "num2 = float(input(\"Enter second number: \"))\n",
    "\n",
    "if choice == '+':\n",
    "    print(\"Result:\", add(num1, num2))\n",
    "elif choice == '-':\n",
    "    print(\"Result:\", sub(num1, num2))\n",
    "elif choice == '*':\n",
    "    print(\"Result:\", mul(num1, num2))\n",
    "elif choice == '/':\n",
    "    print(\"Result:\", div(num1, num2))\n",
    "else:\n",
    "    print(\"Invalid operator\")\n"
   ]
  },
  {
   "cell_type": "code",
   "execution_count": null,
   "id": "59870df4-148a-412b-a0c6-23f99cd9dc08",
   "metadata": {},
   "outputs": [],
   "source": []
  }
 ],
 "metadata": {
  "kernelspec": {
   "display_name": "Python [conda env:base] *",
   "language": "python",
   "name": "conda-base-py"
  },
  "language_info": {
   "codemirror_mode": {
    "name": "ipython",
    "version": 3
   },
   "file_extension": ".py",
   "mimetype": "text/x-python",
   "name": "python",
   "nbconvert_exporter": "python",
   "pygments_lexer": "ipython3",
   "version": "3.12.7"
  }
 },
 "nbformat": 4,
 "nbformat_minor": 5
}
