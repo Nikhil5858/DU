{
 "cells": [
  {
   "cell_type": "markdown",
   "metadata": {},
   "source": [
    "<a href='https://www.darshan.ac.in/'> <img src='https://www.darshan.ac.in/Content/media/DU_Logo.svg' width=\"250\" height=\"300\"/></a>\n",
    "<pre>\n",
    "<center><b><h1>Python Programming - 2301CS404</b></center>\n",
    "<center><b><h1>Lab - 7 (Part-2)</b></center>    \n",
    "<pre>"
   ]
  },
  {
   "cell_type": "markdown",
   "metadata": {},
   "source": [
    "# User Defined Function"
   ]
  },
  {
   "cell_type": "markdown",
   "metadata": {},
   "source": [
    "### 12. Write a function to calculate the sum of the first element of each tuples inside the list."
   ]
  },
  {
   "cell_type": "code",
   "execution_count": 24,
   "metadata": {},
   "outputs": [
    {
     "data": {
      "text/plain": [
       "60"
      ]
     },
     "execution_count": 24,
     "metadata": {},
     "output_type": "execute_result"
    }
   ],
   "source": [
    "t1 = [(10, 456), (20, 100), (30, 678)]\n",
    "def sumoffirstelement(t1):\n",
    "    sum=0\n",
    "    for i in t1:\n",
    "        sum += i[0]\n",
    "    return sum\n",
    "sumoffirstelement(t1)"
   ]
  },
  {
   "cell_type": "markdown",
   "metadata": {},
   "source": [
    "### 13. Write a function to get the name of the student based on the given rollno.\n",
    "#### Example: Given dict1 = {101:'Ajay', 102:'Rahul', 103:'Jay', 104:'Pooja'} find name of student whose rollno = 103"
   ]
  },
  {
   "cell_type": "code",
   "execution_count": 12,
   "metadata": {},
   "outputs": [
    {
     "name": "stdout",
     "output_type": "stream",
     "text": [
      "Jay\n"
     ]
    }
   ],
   "source": [
    "s1 = {101:'Ajay', 102:'Rahul', 103:'Jay', 104:'Pooja'}\n",
    "k = 103\n",
    "def studentname(s1, k):\n",
    "    return s1.get(k)\n",
    "print(studentname(s1, k))"
   ]
  },
  {
   "cell_type": "markdown",
   "metadata": {},
   "source": [
    "### 14. Write a function to get the sum of the scores ending with zero.\n",
    "#### Example : scores = [200, 456, 300, 100, 234, 678] \n",
    "#### Ans = 200 + 300 + 100 = 600"
   ]
  },
  {
   "cell_type": "code",
   "execution_count": 22,
   "metadata": {},
   "outputs": [
    {
     "name": "stdout",
     "output_type": "stream",
     "text": [
      "600\n"
     ]
    }
   ],
   "source": [
    "l2 = [200, 456, 300, 100, 234, 678]\n",
    "def sumscore(l2):\n",
    "    total = 0\n",
    "    for i in l2:\n",
    "        if i%10==0:\n",
    "            total += i\n",
    "    return total\n",
    "n = sumscore(l2)\n",
    "print(n)"
   ]
  },
  {
   "cell_type": "markdown",
   "metadata": {},
   "source": [
    "### 15. Write a function to invert a given Dictionary.\n",
    "#### hint: keys to values & values to keys\n",
    "#### Before : {'a': 10, 'b':20, 'c':30, 'd':40}\n",
    "#### After : {10:'a', 20:'b', 30:'c', 40:'d'}"
   ]
  },
  {
   "cell_type": "code",
   "execution_count": 33,
   "metadata": {},
   "outputs": [
    {
     "data": {
      "text/plain": [
       "{10: 'a', 20: 'b', 30: 'c', 40: 'd'}"
      ]
     },
     "execution_count": 33,
     "metadata": {},
     "output_type": "execute_result"
    }
   ],
   "source": [
    "s1 = {'a': 10, 'b':20, 'c':30, 'd':40,'a':10,'b':20}\n",
    "def InvertDict(s1):\n",
    "    s2 = {}\n",
    "    for i,j in s1.items():\n",
    "        s2[j]=i\n",
    "    return s2\n",
    "InvertDict(s1)\n",
    "\n",
    "# def InvertDict():\n",
    "#     i=9\n",
    "#     j=10\n",
    "#     temp = i\n",
    "#     i = j\n",
    "#     j = temp\n",
    "#     return i,j\n",
    "# i,j=InvertDict()\n",
    "# print(\"i , j\",i,j)"
   ]
  },
  {
   "cell_type": "markdown",
   "metadata": {},
   "source": [
    "### 16. Write a function that returns the number of uppercase and lowercase letters in the given string. \n",
    "#### example : Input : s1 = AbcDEfgh ,Ouptput : no_upper = 3, no_lower = 5"
   ]
  },
  {
   "cell_type": "code",
   "execution_count": 35,
   "metadata": {},
   "outputs": [
    {
     "name": "stdout",
     "output_type": "stream",
     "text": [
      "UpperCase: 5\n",
      "LowerCase: 3\n"
     ]
    }
   ],
   "source": [
    "s1=\"AbcDEfgh\"\n",
    "def ul():\n",
    "    lower=0\n",
    "    upper=0\n",
    "    for i in s1:\n",
    "        if i.islower():\n",
    "            upper+=1\n",
    "        else:\n",
    "            lower+=1\n",
    "    print(\"UpperCase:\",upper)\n",
    "    print(\"LowerCase:\",lower)\n",
    "ul()"
   ]
  },
  {
   "cell_type": "markdown",
   "metadata": {},
   "source": [
    "### 17.Write a lambda function to get smallest number from the given two numbers."
   ]
  },
  {
   "cell_type": "code",
   "execution_count": 40,
   "metadata": {},
   "outputs": [
    {
     "data": {
      "text/plain": [
       "32"
      ]
     },
     "execution_count": 40,
     "metadata": {},
     "output_type": "execute_result"
    }
   ],
   "source": [
    "s1 = lambda a,b : a if a < b else b\n",
    "s1(32,200)"
   ]
  },
  {
   "cell_type": "markdown",
   "metadata": {},
   "source": [
    "### 18. For the given list of names of students, extract the names having more that 7 characters. Use filter()."
   ]
  },
  {
   "cell_type": "code",
   "execution_count": 42,
   "metadata": {},
   "outputs": [
    {
     "data": {
      "text/plain": [
       "['adhbaahd', 'qjwkdbkp']"
      ]
     },
     "execution_count": 42,
     "metadata": {},
     "output_type": "execute_result"
    }
   ],
   "source": [
    "l1 = [\"abcdef\",\"adhbaahd\",\"qjwkdbkp\",\"iuqwd\"]\n",
    "student = list(filter(lambda x: len(x) > 7, l1))\n",
    "student"
   ]
  },
  {
   "cell_type": "markdown",
   "metadata": {},
   "source": [
    "### 19. For the given list of names of students, convert the first letter of all the names into uppercase. use map()."
   ]
  },
  {
   "cell_type": "code",
   "execution_count": 48,
   "metadata": {},
   "outputs": [
    {
     "data": {
      "text/plain": [
       "['Abc', 'Xyz', 'Pqr', 'Klm']"
      ]
     },
     "execution_count": 48,
     "metadata": {},
     "output_type": "execute_result"
    }
   ],
   "source": [
    "l1 = [\"abc\",\"xyz\",\"pqr\",\"klm\"]\n",
    "student = list(map(lambda x: x[0].upper() + x[1:], l1))\n",
    "student"
   ]
  },
  {
   "cell_type": "markdown",
   "metadata": {},
   "source": [
    "### 20. Write udfs to call the functions with following types of arguments:\n",
    "1. Positional Arguments\n",
    "2. Keyword Arguments\n",
    "3. Default Arguments\n",
    "4. Variable Legngth Positional(*args) & variable length Keyword Arguments (**kwargs)\n",
    "5. Keyword-Only & Positional Only Arguments"
   ]
  },
  {
   "cell_type": "code",
   "execution_count": 1,
   "metadata": {},
   "outputs": [
    {
     "name": "stdout",
     "output_type": "stream",
     "text": [
      "Hello Nikhil, you are 22 years old.\n"
     ]
    }
   ],
   "source": [
    "#Positional Arguments\n",
    "def demo(name, age):\n",
    "    print(f\"Hello {name}, you are {age} years old.\")\n",
    "\n",
    "demo(\"Nikhil\", 22)\n"
   ]
  },
  {
   "cell_type": "code",
   "execution_count": 2,
   "metadata": {},
   "outputs": [
    {
     "name": "stdout",
     "output_type": "stream",
     "text": [
      "Hello abc, you are 20 years old.\n"
     ]
    }
   ],
   "source": [
    "#Keyword Arguments\n",
    "def demo2(name, age):\n",
    "    print(f\"Hello {name}, you are {age} years old.\")\n",
    "demo2(age=20, name=\"abc\")"
   ]
  },
  {
   "cell_type": "code",
   "execution_count": 3,
   "metadata": {},
   "outputs": [
    {
     "name": "stdout",
     "output_type": "stream",
     "text": [
      "Hello xyz, you are 18 years old.\n",
      "Hello abc, you are 21 years old.\n"
     ]
    }
   ],
   "source": [
    "#Default Arguments\n",
    "def demo3(name, age=18):\n",
    "    print(f\"Hello {name}, you are {age} years old.\")\n",
    "demo3(\"xyz\")      \n",
    "demo3(\"abc\", 21)\n"
   ]
  },
  {
   "cell_type": "code",
   "execution_count": 4,
   "metadata": {},
   "outputs": [
    {
     "name": "stdout",
     "output_type": "stream",
     "text": [
      "Total: 60\n",
      "Total: 20\n"
     ]
    }
   ],
   "source": [
    "#Variable Legngth Positional(*args) \n",
    "def add(*args):\n",
    "    total = sum(args)\n",
    "    print(\"Total:\", total)\n",
    "add(10, 20, 30)\n",
    "add(5, 15)\n"
   ]
  },
  {
   "cell_type": "code",
   "execution_count": 6,
   "metadata": {},
   "outputs": [
    {
     "name": "stdout",
     "output_type": "stream",
     "text": [
      "name: aabc\n",
      "age: 25\n",
      "city: jamnagar\n"
     ]
    }
   ],
   "source": [
    "# variable length Keyword Arguments (**kwargs)\n",
    "def show_details(**kwargs):\n",
    "    for key, value in kwargs.items():\n",
    "        print(f\"{key}: {value}\")\n",
    "show_details(name=\"aabc\", age=25, city=\"jamnagar\")\n"
   ]
  },
  {
   "cell_type": "code",
   "execution_count": 7,
   "metadata": {},
   "outputs": [
    {
     "name": "stdout",
     "output_type": "stream",
     "text": [
      "ID: 101, Name: abc, Age: 25\n"
     ]
    }
   ],
   "source": [
    "#Keyword-Only & Positional Only Arguments\n",
    "def details(id, /, name, *, age):\n",
    "    print(f\"ID: {id}, Name: {name}, Age: {age}\")\n",
    "details(101, \"abc\", age=25) "
   ]
  },
  {
   "cell_type": "code",
   "execution_count": null,
   "metadata": {},
   "outputs": [],
   "source": []
  }
 ],
 "metadata": {
  "kernelspec": {
   "display_name": "Python [conda env:base] *",
   "language": "python",
   "name": "conda-base-py"
  },
  "language_info": {
   "codemirror_mode": {
    "name": "ipython",
    "version": 3
   },
   "file_extension": ".py",
   "mimetype": "text/x-python",
   "name": "python",
   "nbconvert_exporter": "python",
   "pygments_lexer": "ipython3",
   "version": "3.12.7"
  }
 },
 "nbformat": 4,
 "nbformat_minor": 4
}
