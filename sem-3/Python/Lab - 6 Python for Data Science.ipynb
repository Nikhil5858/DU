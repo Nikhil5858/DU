{
 "cells": [
  {
   "cell_type": "markdown",
   "id": "fd1bc7f2-33b9-4401-b22b-f4008fdb4c71",
   "metadata": {},
   "source": [
    "<a href='https://www.darshan.ac.in/'> <img src='https://www.darshan.ac.in/Content/media/DU_Logo.svg' width=\"150\" height=\"200\"/></a>\n",
    "<pre>\n",
    "<center><b><h2> Python for Data Science - 2305CS303 </b></center>\n",
    "<center><b><h2>Lab - 6</b></center>    \n",
    "<left><b><h3>Roll No. : 135</b></left>  \n",
    "<left><b><h3>Name : Rathod Nikhil</b></left>   \n",
    "<pre>    "
   ]
  },
  {
   "cell_type": "markdown",
   "id": "4775ea51-e4f7-4bec-9066-34d55f26f638",
   "metadata": {},
   "source": [
    "### 1. WAP to iterate over a set."
   ]
  },
  {
   "cell_type": "code",
   "execution_count": 16,
   "id": "0c129df0-0199-4a6d-b363-a27435769ab1",
   "metadata": {},
   "outputs": [
    {
     "name": "stdout",
     "output_type": "stream",
     "text": [
      "80\n",
      "20\n",
      "70\n",
      "40\n",
      "10\n"
     ]
    }
   ],
   "source": [
    "s2={10,70,80,20,40}\n",
    "for i in s2:\n",
    "    print(i)"
   ]
  },
  {
   "cell_type": "markdown",
   "id": "08e8af17-4ef1-4734-8cdf-6f8d0675ff7e",
   "metadata": {},
   "source": [
    "### 2. WAP to convert set into list, string and tuple.\n"
   ]
  },
  {
   "cell_type": "code",
   "execution_count": 27,
   "id": "cdeedbc3-c526-441f-85a9-045360caa446",
   "metadata": {},
   "outputs": [
    {
     "data": {
      "text/plain": [
       "[50, 20, 40, 10, 30]"
      ]
     },
     "execution_count": 27,
     "metadata": {},
     "output_type": "execute_result"
    }
   ],
   "source": [
    "s2 = {10,20,30,40,50}\n",
    "l1 = list(s2)\n",
    "l1"
   ]
  },
  {
   "cell_type": "code",
   "execution_count": 28,
   "id": "09a22f22-e363-4d18-b01f-aa07ddf616b3",
   "metadata": {},
   "outputs": [
    {
     "data": {
      "text/plain": [
       "\"{'Helloooo', 'good'}\""
      ]
     },
     "execution_count": 28,
     "metadata": {},
     "output_type": "execute_result"
    }
   ],
   "source": [
    "s3 = {'Helloooo','good'}\n",
    "l2 = str(s3)\n",
    "l2"
   ]
  },
  {
   "cell_type": "code",
   "execution_count": 29,
   "id": "05b8dc6d-c2d5-4240-a995-3eb9d33d609b",
   "metadata": {},
   "outputs": [
    {
     "data": {
      "text/plain": [
       "(50, 20, 40, 10, 30)"
      ]
     },
     "execution_count": 29,
     "metadata": {},
     "output_type": "execute_result"
    }
   ],
   "source": [
    "s4 = {10,20,30,40,50}\n",
    "l3 = tuple(s4)\n",
    "l3"
   ]
  },
  {
   "cell_type": "markdown",
   "id": "c2c54c21-abe2-439f-bc8e-5a43be7c5031",
   "metadata": {},
   "source": [
    "### 3. WAP to check if two lists have at-least one element common."
   ]
  },
  {
   "cell_type": "code",
   "execution_count": 1,
   "id": "97bac1f7-f69e-4ab4-9df4-aa392ced129a",
   "metadata": {},
   "outputs": [
    {
     "data": {
      "text/plain": [
       "{5, 6}"
      ]
     },
     "execution_count": 1,
     "metadata": {},
     "output_type": "execute_result"
    }
   ],
   "source": [
    "s1 = {1,2,3,4,5,6}\n",
    "s2 = {5,6,7,8,9,10}\n",
    "s3 = s1.intersection(s2)\n",
    "s3"
   ]
  },
  {
   "cell_type": "markdown",
   "id": "ddf54203-47cb-425c-b118-3318148c2571",
   "metadata": {},
   "source": [
    "### 4. WAP to remove duplicates from list."
   ]
  },
  {
   "cell_type": "code",
   "execution_count": 3,
   "id": "4c2be11a-7014-4c84-8dff-097f6edeaa25",
   "metadata": {},
   "outputs": [
    {
     "data": {
      "text/plain": [
       "[1, 2, 3, 4, 5, 6, 7]"
      ]
     },
     "execution_count": 3,
     "metadata": {},
     "output_type": "execute_result"
    }
   ],
   "source": [
    "s1 = [1,2,3,4,4,5,5,6,7]\n",
    "s2=[]\n",
    "\n",
    "for i in s1:\n",
    "    if i not in s2:\n",
    "        s2.append(i)\n",
    "s2        \n"
   ]
  },
  {
   "cell_type": "markdown",
   "id": "a90ecdf6-9f21-4b25-ace0-6083c311dddf",
   "metadata": {},
   "source": [
    "### 5. WAP to find unique words in the given string.\n"
   ]
  },
  {
   "cell_type": "code",
   "execution_count": 3,
   "id": "cb16a8ae-2d76-4e3c-8fac-ce9583e77ecf",
   "metadata": {},
   "outputs": [
    {
     "name": "stdout",
     "output_type": "stream",
     "text": [
      "abc\n",
      "xyz\n",
      "pqr\n",
      "stu\n",
      "vwx\n",
      "yza\n"
     ]
    }
   ],
   "source": [
    "i = \"abc xyz pqr stu vwx yza\"\n",
    "w = i.split()\n",
    "for x in w:\n",
    "    print(x)"
   ]
  },
  {
   "cell_type": "markdown",
   "id": "e7b02e28-8b48-4644-8451-160e19cc5873",
   "metadata": {},
   "source": [
    "### 6. WAP to iterate over a dictionary."
   ]
  },
  {
   "cell_type": "code",
   "execution_count": 8,
   "id": "104f1bb6-0725-4187-aaa2-ce4f9ec6ff81",
   "metadata": {},
   "outputs": [
    {
     "name": "stdout",
     "output_type": "stream",
     "text": [
      "name : Nikhil\n",
      "age : 21\n",
      "city : jamnagar\n"
     ]
    }
   ],
   "source": [
    "d1 = {\n",
    "    \"name\": \"Nikhil\",\n",
    "    \"age\": 21,\n",
    "    \"city\": \"jamnagar\"\n",
    "}\n",
    "\n",
    "for i, j in d1.items():\n",
    "    print(i, \":\", j)\n"
   ]
  },
  {
   "cell_type": "markdown",
   "id": "940463e7-3ef5-47eb-b206-37822161d9a8",
   "metadata": {},
   "source": [
    "### 7. WAP to find the sum of all items (values) in a dictionary given by user. (Assume: values are numeric)."
   ]
  },
  {
   "cell_type": "code",
   "execution_count": 2,
   "id": "7d493bed-10d9-4544-bcd3-ab7b5bfec64f",
   "metadata": {},
   "outputs": [
    {
     "name": "stdin",
     "output_type": "stream",
     "text": [
      "Enter Number :  2\n",
      "Enter key :  1\n",
      "Enter value :  10\n",
      "Enter key :  2\n",
      "Enter value :  20\n"
     ]
    },
    {
     "name": "stdout",
     "output_type": "stream",
     "text": [
      "{'1': 10, '2': 20}\n"
     ]
    },
    {
     "data": {
      "text/plain": [
       "30"
      ]
     },
     "execution_count": 2,
     "metadata": {},
     "output_type": "execute_result"
    }
   ],
   "source": [
    "d1 = {}\n",
    "n = int(input(\"Enter Number : \"))\n",
    "for i in range(n):\n",
    "    k = input(\"Enter key : \")\n",
    "    v = int(input(\"Enter value : \"))\n",
    "    d1[k] = v\n",
    "total = sum(d1.values())\n",
    "print(d1)\n",
    "total"
   ]
  },
  {
   "cell_type": "markdown",
   "id": "18b6a48c-cd98-48fe-8104-5209d5b7b207",
   "metadata": {},
   "source": [
    "### 8. WAP to sort dictionary by key or value."
   ]
  },
  {
   "cell_type": "code",
   "execution_count": 9,
   "id": "aa26256f-e86c-45f6-b187-45fa9368d1d5",
   "metadata": {},
   "outputs": [
    {
     "name": "stdin",
     "output_type": "stream",
     "text": [
      "Enter Number :  3\n",
      "Enter key :  1\n",
      "Enter value :  10\n",
      "Enter key :  3\n",
      "Enter value :  30\n",
      "Enter key :  2\n",
      "Enter value :  20\n"
     ]
    },
    {
     "name": "stdout",
     "output_type": "stream",
     "text": [
      "{'1': 10, '2': 20, '3': 30}\n"
     ]
    }
   ],
   "source": [
    "d1 = {}\n",
    "n = int(input(\"Enter Number : \"))\n",
    "for i in range(n):\n",
    "    k = input(\"Enter key : \")\n",
    "    v = int(input(\"Enter value : \"))\n",
    "    d1[k] = v\n",
    "res = dict(sorted(d1.items()))\n",
    "print(res)"
   ]
  },
  {
   "cell_type": "markdown",
   "id": "a94bcb84-931a-496a-9bd7-88d041118eda",
   "metadata": {},
   "source": [
    "### 9. WAP to handle missing keys in dictionaries.\n",
    "### •\tExample : Given, dict1 = {'a': 5, 'c': 8, 'e': 2} \n",
    "### •\tif you look for key = 'd', the message given should be 'Key Not Found', otherwise print the value of 'd' in dict1."
   ]
  },
  {
   "cell_type": "code",
   "execution_count": 23,
   "id": "a57a339c-a141-409f-8265-8f13997d0766",
   "metadata": {},
   "outputs": [
    {
     "name": "stdin",
     "output_type": "stream",
     "text": [
      "Enter key :  a\n"
     ]
    }
   ],
   "source": [
    "# d1 = {}\n",
    "d1 = {'a': 5, 'c': 8, 'e': 2}\n",
    "# n = int(input(\"Enter Number : \"))\n",
    "# for i in range(n):\n",
    "#     k = input(\"Enter key : \")\n",
    "#     v = int(input(\"Enter value : \"))\n",
    "#     d1[k] = v\n",
    "k = input(\"Enter key : \")\n",
    "if k not in d1:\n",
    "    print(\"Key Not Found\")\n",
    "else:\n",
    "    d1[k]"
   ]
  },
  {
   "cell_type": "code",
   "execution_count": null,
   "id": "3c0dcb4c-beb2-4ee8-a551-3db89ae3b3cd",
   "metadata": {},
   "outputs": [],
   "source": []
  }
 ],
 "metadata": {
  "kernelspec": {
   "display_name": "Python [conda env:base] *",
   "language": "python",
   "name": "conda-base-py"
  },
  "language_info": {
   "codemirror_mode": {
    "name": "ipython",
    "version": 3
   },
   "file_extension": ".py",
   "mimetype": "text/x-python",
   "name": "python",
   "nbconvert_exporter": "python",
   "pygments_lexer": "ipython3",
   "version": "3.12.7"
  }
 },
 "nbformat": 4,
 "nbformat_minor": 5
}
