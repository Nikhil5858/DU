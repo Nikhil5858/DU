{
 "cells": [
  {
   "cell_type": "markdown",
   "id": "fd1bc7f2-33b9-4401-b22b-f4008fdb4c71",
   "metadata": {},
   "source": [
    "<a href='https://www.darshan.ac.in/'> <img src='https://www.darshan.ac.in/Content/media/DU_Logo.svg' width=\"150\" height=\"200\"/></a>\n",
    "<pre>\n",
    "<center><b><h2> Python for Data Science - 2305CS303 </b></center>\n",
    "<center><b><h2>Lab - 3</b></center>    \n",
    "<left><b><h3>Roll No. : 135</b></left>  \n",
    "<left><b><h3>Name : Nikhil Rathod</b></left>   \n",
    "<pre>    "
   ]
  },
  {
   "cell_type": "markdown",
   "id": "4775ea51-e4f7-4bec-9066-34d55f26f638",
   "metadata": {},
   "source": [
    "### 1. WAP to print 1 to 10."
   ]
  },
  {
   "cell_type": "code",
   "execution_count": 1,
   "id": "0c129df0-0199-4a6d-b363-a27435769ab1",
   "metadata": {},
   "outputs": [
    {
     "name": "stdout",
     "output_type": "stream",
     "text": [
      "1 2 3 4 5 6 7 8 9 10 "
     ]
    }
   ],
   "source": [
    "for i in range(1,11):\n",
    "    print(i,end=\" \")"
   ]
  },
  {
   "cell_type": "markdown",
   "id": "08e8af17-4ef1-4734-8cdf-6f8d0675ff7e",
   "metadata": {},
   "source": [
    "### 2. WAP to print 1 to n."
   ]
  },
  {
   "cell_type": "code",
   "execution_count": 2,
   "id": "cdeedbc3-c526-441f-85a9-045360caa446",
   "metadata": {},
   "outputs": [
    {
     "name": "stdin",
     "output_type": "stream",
     "text": [
      "Enter Number :  15\n"
     ]
    },
    {
     "name": "stdout",
     "output_type": "stream",
     "text": [
      "1 2 3 4 5 6 7 8 9 10 11 12 13 14 15 "
     ]
    }
   ],
   "source": [
    "n = int(input(\"Enter Number : \"))\n",
    "for i in range(1,n+1):\n",
    "    print(i , end=\" \")"
   ]
  },
  {
   "cell_type": "markdown",
   "id": "c2c54c21-abe2-439f-bc8e-5a43be7c5031",
   "metadata": {},
   "source": [
    "### 3.WAP to print odd numbers between 1 to n."
   ]
  },
  {
   "cell_type": "code",
   "execution_count": 3,
   "id": "97bac1f7-f69e-4ab4-9df4-aa392ced129a",
   "metadata": {},
   "outputs": [
    {
     "name": "stdin",
     "output_type": "stream",
     "text": [
      "Enter Number :  20\n"
     ]
    },
    {
     "name": "stdout",
     "output_type": "stream",
     "text": [
      "1 3 5 7 9 11 13 15 17 19 "
     ]
    }
   ],
   "source": [
    "n = int(input(\"Enter Number : \"))\n",
    "for i in range(1,n+1):\n",
    "    if i%2!=0:\n",
    "        print(i,end=\" \")"
   ]
  },
  {
   "cell_type": "markdown",
   "id": "ddf54203-47cb-425c-b118-3318148c2571",
   "metadata": {},
   "source": [
    "### 4. WAP to print numbers between two given numbers which is divisible by 2 but not divisible by 3."
   ]
  },
  {
   "cell_type": "code",
   "execution_count": 13,
   "id": "4c2be11a-7014-4c84-8dff-097f6edeaa25",
   "metadata": {},
   "outputs": [
    {
     "name": "stdin",
     "output_type": "stream",
     "text": [
      "Enter Number 1 : 10\n",
      "Enter Number 2 :  50\n"
     ]
    },
    {
     "name": "stdout",
     "output_type": "stream",
     "text": [
      "10\n",
      "14\n",
      "16\n",
      "20\n",
      "22\n",
      "26\n",
      "28\n",
      "32\n",
      "34\n",
      "38\n",
      "40\n",
      "44\n",
      "46\n"
     ]
    }
   ],
   "source": [
    "n1 = int(input(\"Enter Number 1 :\"))\n",
    "n2 = int(input(\"Enter Number 2 : \"))\n",
    "for i in range(n1,n2):\n",
    "    if i%2==0 and i%3!=0:\n",
    "        print(i,end=\" \")"
   ]
  },
  {
   "cell_type": "markdown",
   "id": "b84546d5-1b35-4cf7-b299-9430b8263cd6",
   "metadata": {},
   "source": [
    "### 5. WAP to print sum of 1 to n numbers.\n"
   ]
  },
  {
   "cell_type": "code",
   "execution_count": 15,
   "id": "cb16a8ae-2d76-4e3c-8fac-ce9583e77ecf",
   "metadata": {},
   "outputs": [
    {
     "name": "stdin",
     "output_type": "stream",
     "text": [
      "Enter Number :  5\n"
     ]
    },
    {
     "name": "stdout",
     "output_type": "stream",
     "text": [
      "15\n"
     ]
    }
   ],
   "source": [
    "n = int(input(\"Enter Number : \"))\n",
    "sum=0\n",
    "for i in range(1,n+1):\n",
    "    sum+=i\n",
    "print(sum)"
   ]
  },
  {
   "cell_type": "markdown",
   "id": "e7b02e28-8b48-4644-8451-160e19cc5873",
   "metadata": {},
   "source": [
    "### 6.WAP to print sum of series 1 + 4 + 9 + 16 + 25 + 36 + ...n."
   ]
  },
  {
   "cell_type": "code",
   "execution_count": 18,
   "id": "104f1bb6-0725-4187-aaa2-ce4f9ec6ff81",
   "metadata": {},
   "outputs": [
    {
     "name": "stdin",
     "output_type": "stream",
     "text": [
      "Enter Number :  10\n"
     ]
    },
    {
     "name": "stdout",
     "output_type": "stream",
     "text": [
      "1 4 9 16 25 36 49 64 81 100 "
     ]
    }
   ],
   "source": [
    "n = int(input(\"Enter Number : \"))\n",
    "for i in range(1,n+1):\n",
    "    print(i*i,end=\" \")"
   ]
  },
  {
   "cell_type": "markdown",
   "id": "940463e7-3ef5-47eb-b206-37822161d9a8",
   "metadata": {},
   "source": [
    "### 7. WAP to print sum of series 1 – 2 + 3 – 4 + 5 – 6 + 7 ... n."
   ]
  },
  {
   "cell_type": "code",
   "execution_count": 6,
   "id": "66a437b6-6f74-4846-98b0-112ccb17aea4",
   "metadata": {},
   "outputs": [
    {
     "name": "stdin",
     "output_type": "stream",
     "text": [
      "Enter the value of n:  45\n"
     ]
    },
    {
     "name": "stdout",
     "output_type": "stream",
     "text": [
      "Sum:  23\n"
     ]
    }
   ],
   "source": [
    "n = int(input(\"Enter the value of n: \"))\n",
    "sum = 0\n",
    "\n",
    "for i in range(1, n + 1):\n",
    "    if i % 2 == 1:\n",
    "        sum += i\n",
    "    else:\n",
    "        sum -= i\n",
    "\n",
    "print(\"Sum: \",sum)"
   ]
  },
  {
   "cell_type": "markdown",
   "id": "2824cbbc-1ba4-4956-bbea-6457a58e97cf",
   "metadata": {},
   "source": [
    "### 8. WAP to print multiplication table of given number."
   ]
  },
  {
   "cell_type": "code",
   "execution_count": 23,
   "id": "38388940-a742-4cd0-8d6e-67d31838cd4a",
   "metadata": {},
   "outputs": [
    {
     "name": "stdin",
     "output_type": "stream",
     "text": [
      "Enter Number :  10\n"
     ]
    },
    {
     "name": "stdout",
     "output_type": "stream",
     "text": [
      "10  x  1  =  10\n",
      "10  x  2  =  20\n",
      "10  x  3  =  30\n",
      "10  x  4  =  40\n",
      "10  x  5  =  50\n",
      "10  x  6  =  60\n",
      "10  x  7  =  70\n",
      "10  x  8  =  80\n",
      "10  x  9  =  90\n",
      "10  x  10  =  100\n"
     ]
    }
   ],
   "source": [
    "n = int(input(\"Enter Number : \"))\n",
    "for i in range(1,n+1):\n",
    "    print(n,\" x \",i,\" = \", (n*i))"
   ]
  },
  {
   "cell_type": "markdown",
   "id": "c3bfbe83-96cb-4f6d-a0f0-b0cf16e35d8a",
   "metadata": {},
   "source": [
    "### 9. WAP to find factorial of the given number."
   ]
  },
  {
   "cell_type": "code",
   "execution_count": 26,
   "id": "c197464f-84af-4e9a-bac7-cbed9ddf9425",
   "metadata": {},
   "outputs": [
    {
     "name": "stdin",
     "output_type": "stream",
     "text": [
      "Enter Number :  5\n"
     ]
    },
    {
     "name": "stdout",
     "output_type": "stream",
     "text": [
      "120\n"
     ]
    }
   ],
   "source": [
    "n = int(input(\"Enter Number : \"))\n",
    "fact=1\n",
    "for i in range(1,n+1):\n",
    "    fact=fact*i\n",
    "print(fact)"
   ]
  },
  {
   "cell_type": "markdown",
   "id": "8a8331f5-cbbc-4b1e-857f-49221ebfcf6c",
   "metadata": {},
   "source": [
    "### 10. WAP to find factors of the given number."
   ]
  },
  {
   "cell_type": "code",
   "execution_count": 27,
   "id": "fa71bfca-9d28-4832-b35f-489817091d03",
   "metadata": {},
   "outputs": [
    {
     "name": "stdin",
     "output_type": "stream",
     "text": [
      "Enter Number :  15\n"
     ]
    },
    {
     "name": "stdout",
     "output_type": "stream",
     "text": [
      "1\n",
      "3\n",
      "5\n",
      "15\n"
     ]
    }
   ],
   "source": [
    "n = int(input(\"Enter Number : \"))\n",
    "for i in range(1,n+1):\n",
    "    if n%i==0:\n",
    "        print(i)"
   ]
  },
  {
   "cell_type": "markdown",
   "id": "2802df82-8b9c-46b3-ba1f-d50d1d123236",
   "metadata": {},
   "source": [
    "### 11. WAP to find whether the given number is prime or not."
   ]
  },
  {
   "cell_type": "code",
   "execution_count": 45,
   "id": "3e4bad57-6bee-4350-af3b-0395afcabc89",
   "metadata": {},
   "outputs": [
    {
     "name": "stdin",
     "output_type": "stream",
     "text": [
      "Enter Number :  7\n"
     ]
    },
    {
     "name": "stdout",
     "output_type": "stream",
     "text": [
      "Prime!\n"
     ]
    }
   ],
   "source": [
    "n = int(input(\"Enter Number : \"))\n",
    "count=0\n",
    "for i in range(1,n+1):\n",
    "    if n%i==0:\n",
    "       count+=1\n",
    "if count==2:\n",
    "    print(\"Prime!\")\n",
    "else:\n",
    "    print(\"Not Prime!\")"
   ]
  },
  {
   "cell_type": "markdown",
   "id": "2978252d-e233-40ec-a32e-9fba55b60d3e",
   "metadata": {},
   "source": [
    "### 12. WAP to print sum of digits of given number."
   ]
  },
  {
   "cell_type": "code",
   "execution_count": 53,
   "id": "2e4d0d7a-8eaf-41e1-b609-a47120cbd533",
   "metadata": {},
   "outputs": [
    {
     "name": "stdin",
     "output_type": "stream",
     "text": [
      "Enter a number:  12\n"
     ]
    },
    {
     "name": "stdout",
     "output_type": "stream",
     "text": [
      "Sum of digits: 3\n"
     ]
    }
   ],
   "source": [
    "num = int(input(\"Enter a number: \"))\n",
    "sum = 0\n",
    "\n",
    "while num > 0:\n",
    "    digit = num % 10\n",
    "    sum+= digit\n",
    "    num = num // 10\n",
    "\n",
    "print(\"Sum of digits:\", sum)\n"
   ]
  },
  {
   "cell_type": "markdown",
   "id": "f96971a8-dc4b-4bf4-a9d8-d6e679ff3741",
   "metadata": {},
   "source": [
    "### 13. WAP to check whether the given number is palindrome or not."
   ]
  },
  {
   "cell_type": "code",
   "execution_count": 77,
   "id": "5a47c6fd-8dbb-489b-8d6e-9b86d256d6c2",
   "metadata": {},
   "outputs": [
    {
     "name": "stdin",
     "output_type": "stream",
     "text": [
      "Enter Number :  121\n"
     ]
    },
    {
     "name": "stdout",
     "output_type": "stream",
     "text": [
      "Number is Palidrone\n"
     ]
    }
   ],
   "source": [
    "n = int(input(\"Enter Number : \"))\n",
    "temp = n\n",
    "total=0\n",
    "while n!=0:\n",
    "    digit = n%10\n",
    "    total=total*10+digit\n",
    "    n=n//10\n",
    "if temp==total:\n",
    "    print(\"Number is Palidrone\")\n",
    "else:\n",
    "    print(\"Number is Not Palidrone\")"
   ]
  },
  {
   "cell_type": "code",
   "execution_count": 75,
   "id": "1ac3167e-1778-43a0-9457-583a3e426cf2",
   "metadata": {},
   "outputs": [
    {
     "name": "stdout",
     "output_type": "stream",
     "text": [
      "      \n",
      "     * \n",
      "    * * \n",
      "   * * * \n",
      "  * * * * \n",
      " * * * * * \n"
     ]
    }
   ],
   "source": [
    "n=7\n",
    "for i in range(1,n):\n",
    "    for k in range(n,i,-1):\n",
    "        print(\" \",end=\"\")\n",
    "    for j in range(1,i):\n",
    "        print(\"*\",end=\" \")\n",
    "    print()"
   ]
  },
  {
   "cell_type": "code",
   "execution_count": 84,
   "id": "eed10688-57a4-4488-ba3b-db715b363bfe",
   "metadata": {},
   "outputs": [
    {
     "name": "stdout",
     "output_type": "stream",
     "text": [
      "\n",
      "* \n",
      "* * \n",
      "* * * \n",
      "* * * * \n",
      "* * * * * \n"
     ]
    }
   ],
   "source": [
    "n=7\n",
    "for i in range(1,n):\n",
    "    for k in range(n,i+1):\n",
    "        print(\" \",end=\"\")\n",
    "    for j in range(i,1,-1):\n",
    "        print(\"*\",end=\" \")\n",
    "    print()"
   ]
  },
  {
   "cell_type": "code",
   "execution_count": null,
   "id": "077c34e4-3bc2-48cc-b4c7-a48760368165",
   "metadata": {},
   "outputs": [],
   "source": []
  }
 ],
 "metadata": {
  "kernelspec": {
   "display_name": "Python [conda env:base] *",
   "language": "python",
   "name": "conda-base-py"
  },
  "language_info": {
   "codemirror_mode": {
    "name": "ipython",
    "version": 3
   },
   "file_extension": ".py",
   "mimetype": "text/x-python",
   "name": "python",
   "nbconvert_exporter": "python",
   "pygments_lexer": "ipython3",
   "version": "3.12.7"
  }
 },
 "nbformat": 4,
 "nbformat_minor": 5
}
