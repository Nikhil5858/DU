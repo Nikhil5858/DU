{
 "cells": [
  {
   "cell_type": "markdown",
   "id": "fd1bc7f2-33b9-4401-b22b-f4008fdb4c71",
   "metadata": {},
   "source": [
    "<a href='https://www.darshan.ac.in/'> <img src='https://www.darshan.ac.in/Content/media/DU_Logo.svg' width=\"150\" height=\"200\"/></a>\n",
    "<pre>\n",
    "<center><b><h2> Python for Data Science - 2305CS303 </b></center>\n",
    "<center><b><h2>Lab - 8</b></center>    \n",
    "<left><b><h3>Roll No. : 135</b></left>  \n",
    "<left><b><h3>Name : Nikhil Rathod</b></left>   \n",
    "<pre>    "
   ]
  },
  {
   "cell_type": "markdown",
   "id": "4775ea51-e4f7-4bec-9066-34d55f26f638",
   "metadata": {},
   "source": [
    "### 1. import numpy library."
   ]
  },
  {
   "cell_type": "code",
   "execution_count": 1,
   "id": "0c129df0-0199-4a6d-b363-a27435769ab1",
   "metadata": {},
   "outputs": [],
   "source": [
    "import numpy as np"
   ]
  },
  {
   "cell_type": "markdown",
   "id": "49ebf22b-cf7b-4d0d-8978-57edc0cda362",
   "metadata": {},
   "source": [
    "### 2.Create an array of 10 zeros"
   ]
  },
  {
   "cell_type": "code",
   "execution_count": 4,
   "id": "e787cf49-effc-4d1b-8546-3ef751701cab",
   "metadata": {},
   "outputs": [
    {
     "data": {
      "text/plain": [
       "array([0., 0., 0., 0., 0., 0., 0., 0., 0., 0.])"
      ]
     },
     "execution_count": 4,
     "metadata": {},
     "output_type": "execute_result"
    }
   ],
   "source": [
    "np.zeros(10)"
   ]
  },
  {
   "cell_type": "markdown",
   "id": "08e8af17-4ef1-4734-8cdf-6f8d0675ff7e",
   "metadata": {},
   "source": [
    "### 3. Create an array of 10 ones.\n"
   ]
  },
  {
   "cell_type": "code",
   "execution_count": 5,
   "id": "cdeedbc3-c526-441f-85a9-045360caa446",
   "metadata": {},
   "outputs": [
    {
     "data": {
      "text/plain": [
       "array([1., 1., 1., 1., 1., 1., 1., 1., 1., 1.])"
      ]
     },
     "execution_count": 5,
     "metadata": {},
     "output_type": "execute_result"
    }
   ],
   "source": [
    "np.ones(10)"
   ]
  },
  {
   "cell_type": "markdown",
   "id": "c2c54c21-abe2-439f-bc8e-5a43be7c5031",
   "metadata": {},
   "source": [
    "### 4. Create an array of 10 fives"
   ]
  },
  {
   "cell_type": "code",
   "execution_count": 28,
   "id": "97bac1f7-f69e-4ab4-9df4-aa392ced129a",
   "metadata": {},
   "outputs": [
    {
     "data": {
      "text/plain": [
       "array([5, 5, 5, 5, 5, 5, 5, 5, 5, 5])"
      ]
     },
     "execution_count": 28,
     "metadata": {},
     "output_type": "execute_result"
    }
   ],
   "source": [
    "np.full(10,5)"
   ]
  },
  {
   "cell_type": "markdown",
   "id": "29b8c7da-fe08-45eb-9e27-2c47ab1ec26f",
   "metadata": {},
   "source": [
    "### 5. Create an array of integers from 10 to 50."
   ]
  },
  {
   "cell_type": "code",
   "execution_count": 10,
   "id": "2e4dbdd6-d10b-4d08-9a4a-cb0acee96281",
   "metadata": {},
   "outputs": [
    {
     "data": {
      "text/plain": [
       "array([ 1,  2,  3,  4,  5,  6,  7,  8,  9, 10, 11, 12, 13, 14, 15, 16, 17,\n",
       "       18, 19, 20, 21, 22, 23, 24, 25, 26, 27, 28, 29, 30, 31, 32, 33, 34,\n",
       "       35, 36, 37, 38, 39, 40, 41, 42, 43, 44, 45, 46, 47, 48, 49, 50])"
      ]
     },
     "execution_count": 10,
     "metadata": {},
     "output_type": "execute_result"
    }
   ],
   "source": [
    "np.arange(1,51,1)"
   ]
  },
  {
   "cell_type": "markdown",
   "id": "b76592c9-38ed-4b92-a0c4-9ed2a833bb53",
   "metadata": {},
   "source": [
    "### 6. Create an array of all the even integers from 10 to 50."
   ]
  },
  {
   "cell_type": "code",
   "execution_count": 15,
   "id": "d54030cb-ac22-43d1-b7c7-c8494cf59b13",
   "metadata": {},
   "outputs": [
    {
     "data": {
      "text/plain": [
       "array([10, 12, 14, 16, 18, 20, 22, 24, 26, 28, 30, 32, 34, 36, 38, 40, 42,\n",
       "       44, 46, 48, 50])"
      ]
     },
     "execution_count": 15,
     "metadata": {},
     "output_type": "execute_result"
    }
   ],
   "source": [
    "np.arange(10,51,2)"
   ]
  },
  {
   "cell_type": "markdown",
   "id": "ddf54203-47cb-425c-b118-3318148c2571",
   "metadata": {},
   "source": [
    "### 7. Create a 3x3 matrix with values ranging from 0 to 8."
   ]
  },
  {
   "cell_type": "code",
   "execution_count": 24,
   "id": "75b79085-18d5-41cf-b6f2-fe1c659b5eef",
   "metadata": {},
   "outputs": [
    {
     "data": {
      "text/plain": [
       "array([[[0, 1, 2],\n",
       "        [3, 4, 5],\n",
       "        [6, 7, 8]]])"
      ]
     },
     "execution_count": 24,
     "metadata": {},
     "output_type": "execute_result"
    }
   ],
   "source": [
    "a1 = np.array([[[0,1,2],[3,4,5],[6,7,8]]])\n",
    "a1"
   ]
  },
  {
   "cell_type": "markdown",
   "id": "f6a3191f-3348-4ba0-9222-cd560e7a734a",
   "metadata": {},
   "source": [
    "### 8. Create a 3x3 identity matrix."
   ]
  },
  {
   "cell_type": "code",
   "execution_count": 31,
   "id": "ecd23840-7d27-4a0d-8d44-7c6d1fa26b72",
   "metadata": {},
   "outputs": [
    {
     "name": "stdout",
     "output_type": "stream",
     "text": [
      "[[1. 0. 0.]\n",
      " [0. 1. 0.]\n",
      " [0. 0. 1.]]\n"
     ]
    }
   ],
   "source": [
    "a2 = np.eye(3)\n",
    "print(a2)"
   ]
  },
  {
   "cell_type": "markdown",
   "id": "a90ecdf6-9f21-4b25-ace0-6083c311dddf",
   "metadata": {},
   "source": [
    "### 9. Use Numpy to generate a random number between 0 and 1\n"
   ]
  },
  {
   "cell_type": "code",
   "execution_count": 34,
   "id": "cb16a8ae-2d76-4e3c-8fac-ce9583e77ecf",
   "metadata": {},
   "outputs": [
    {
     "name": "stdout",
     "output_type": "stream",
     "text": [
      "[0 0]\n"
     ]
    }
   ],
   "source": [
    "a3 = np.random.randint(0,1,2)\n",
    "print(a3)"
   ]
  },
  {
   "cell_type": "markdown",
   "id": "e7b02e28-8b48-4644-8451-160e19cc5873",
   "metadata": {},
   "source": [
    "### 10. Use Numpy to generate an array of 25 random numbers sampled from a standard normal distribution."
   ]
  },
  {
   "cell_type": "code",
   "execution_count": 37,
   "id": "104f1bb6-0725-4187-aaa2-ce4f9ec6ff81",
   "metadata": {},
   "outputs": [
    {
     "name": "stdout",
     "output_type": "stream",
     "text": [
      "[-0.6664252  -1.32417056  0.45843106 -2.6578759  -0.4525991   2.28058298\n",
      "  1.79945796  1.21785238 -0.09991865 -0.32802129 -0.28432504  0.77023519\n",
      "  0.69401549 -1.10606506 -0.20739018 -0.35200384  0.83649324  0.16638486\n",
      "  0.96126215  0.79823611 -0.44698955  1.29377777  0.87299239  0.98673143\n",
      "  1.30201239]\n"
     ]
    }
   ],
   "source": [
    "rand_no = np.random.randn(25)\n",
    "print(rand_no)"
   ]
  },
  {
   "cell_type": "markdown",
   "id": "940463e7-3ef5-47eb-b206-37822161d9a8",
   "metadata": {},
   "source": [
    "### 11. Create linspace array"
   ]
  },
  {
   "cell_type": "code",
   "execution_count": 39,
   "id": "7d493bed-10d9-4544-bcd3-ab7b5bfec64f",
   "metadata": {},
   "outputs": [
    {
     "data": {
      "text/plain": [
       "array([ 0.        ,  0.90909091,  1.81818182,  2.72727273,  3.63636364,\n",
       "        4.54545455,  5.45454545,  6.36363636,  7.27272727,  8.18181818,\n",
       "        9.09090909, 10.        ])"
      ]
     },
     "execution_count": 39,
     "metadata": {},
     "output_type": "execute_result"
    }
   ],
   "source": [
    "np.linspace(0,10,12)"
   ]
  },
  {
   "cell_type": "markdown",
   "id": "1381be74-c739-4773-8248-5077b6d4fcd9",
   "metadata": {},
   "source": [
    "### 12. Create an array of 20 linearly spaced points between 0 and 1. "
   ]
  },
  {
   "cell_type": "code",
   "execution_count": 41,
   "id": "b01f3692-ae72-48bb-a019-64cb4f67b0fe",
   "metadata": {},
   "outputs": [
    {
     "data": {
      "text/plain": [
       "array([0.        , 0.05263158, 0.10526316, 0.15789474, 0.21052632,\n",
       "       0.26315789, 0.31578947, 0.36842105, 0.42105263, 0.47368421,\n",
       "       0.52631579, 0.57894737, 0.63157895, 0.68421053, 0.73684211,\n",
       "       0.78947368, 0.84210526, 0.89473684, 0.94736842, 1.        ])"
      ]
     },
     "execution_count": 41,
     "metadata": {},
     "output_type": "execute_result"
    }
   ],
   "source": [
    "a5 = np.linspace(0,1,20)\n",
    "a5"
   ]
  },
  {
   "cell_type": "markdown",
   "id": "a83dd20a-efd2-4421-94c2-917009b61b07",
   "metadata": {},
   "source": [
    "### 13. Create Random Integer Array"
   ]
  },
  {
   "cell_type": "code",
   "execution_count": 45,
   "id": "911f90a5-79a3-4bac-9fed-8f1cb8f5c7fd",
   "metadata": {},
   "outputs": [
    {
     "data": {
      "text/plain": [
       "array([97, 12, 86, 35, 36, 54, 66, 63, 17, 79])"
      ]
     },
     "execution_count": 45,
     "metadata": {},
     "output_type": "execute_result"
    }
   ],
   "source": [
    "arr = np.random.randint(0,100, size = 10)\n",
    "arr"
   ]
  },
  {
   "cell_type": "markdown",
   "id": "02af34d1-be8a-4536-b329-7628391bd3ea",
   "metadata": {},
   "source": [
    "### 14. Create Random Integer Array and Reshape that Array"
   ]
  },
  {
   "cell_type": "code",
   "execution_count": 54,
   "id": "5ce24a7a-5766-4ec6-a230-a006742a81bf",
   "metadata": {},
   "outputs": [
    {
     "data": {
      "text/plain": [
       "array([[39, 80, 57, 97],\n",
       "       [16, 19, 87, 57],\n",
       "       [70,  2, 85, 14]])"
      ]
     },
     "execution_count": 54,
     "metadata": {},
     "output_type": "execute_result"
    }
   ],
   "source": [
    "a = np.random.randint(0,100,12).reshape(3,4)\n",
    "a"
   ]
  }
 ],
 "metadata": {
  "kernelspec": {
   "display_name": "Python [conda env:base] *",
   "language": "python",
   "name": "conda-base-py"
  },
  "language_info": {
   "codemirror_mode": {
    "name": "ipython",
    "version": 3
   },
   "file_extension": ".py",
   "mimetype": "text/x-python",
   "name": "python",
   "nbconvert_exporter": "python",
   "pygments_lexer": "ipython3",
   "version": "3.12.7"
  }
 },
 "nbformat": 4,
 "nbformat_minor": 5
}
