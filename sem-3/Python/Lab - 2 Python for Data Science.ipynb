{
 "cells": [
  {
   "cell_type": "markdown",
   "id": "fd1bc7f2-33b9-4401-b22b-f4008fdb4c71",
   "metadata": {},
   "source": [
    "<a href='https://www.darshan.ac.in/'> <img src='https://www.darshan.ac.in/Content/media/DU_Logo.svg' width=\"150\" height=\"200\"/></a>\n",
    "<pre>\n",
    "<center><b><h2> Python for Data Science - 2305CS303 </b></center>\n",
    "<center><b><h2>Lab - 2</b></center>    \n",
    "<left><b><h3>Roll No. : 135</b></left>  \n",
    "<left><b><h3>Name : Rathod Nikhil</b></left>   \n",
    "<pre>    "
   ]
  },
  {
   "cell_type": "markdown",
   "id": "4775ea51-e4f7-4bec-9066-34d55f26f638",
   "metadata": {},
   "source": [
    "### 1. WAP to check whether the given number is Positive or Negative."
   ]
  },
  {
   "cell_type": "code",
   "execution_count": 2,
   "id": "0c129df0-0199-4a6d-b363-a27435769ab1",
   "metadata": {},
   "outputs": [
    {
     "name": "stdin",
     "output_type": "stream",
     "text": [
      "Enter Number :  -45\n"
     ]
    },
    {
     "name": "stdout",
     "output_type": "stream",
     "text": [
      "Number is Negative!\n"
     ]
    }
   ],
   "source": [
    "num = int(input(\"Enter Number : \"))\n",
    "if num > 0:\n",
    "    print(\"Number is Positive!\")\n",
    "else:\n",
    "    print(\"Number is Negative!\")"
   ]
  },
  {
   "cell_type": "markdown",
   "id": "08e8af17-4ef1-4734-8cdf-6f8d0675ff7e",
   "metadata": {},
   "source": [
    "### 2. WAP to check whether the given number is Odd or Even."
   ]
  },
  {
   "cell_type": "code",
   "execution_count": 10,
   "id": "cdeedbc3-c526-441f-85a9-045360caa446",
   "metadata": {},
   "outputs": [
    {
     "name": "stdin",
     "output_type": "stream",
     "text": [
      "Enter Number :  5\n"
     ]
    },
    {
     "name": "stdout",
     "output_type": "stream",
     "text": [
      "Number is Odd\n"
     ]
    }
   ],
   "source": [
    "num = int(input(\"Enter Number : \"))\n",
    "if num%2==0:\n",
    "    print(\"Number is Even\")\n",
    "else:\n",
    "    print(\"Number is Odd\")"
   ]
  },
  {
   "cell_type": "markdown",
   "id": "27d1ede3-d6be-48a6-8568-7a41defca9b2",
   "metadata": {},
   "source": [
    "### 3. WAP to find out Largest number from given two numbers using simple if and ternary operator."
   ]
  },
  {
   "cell_type": "code",
   "execution_count": 6,
   "id": "97bac1f7-f69e-4ab4-9df4-aa392ced129a",
   "metadata": {},
   "outputs": [
    {
     "name": "stdin",
     "output_type": "stream",
     "text": [
      "Enter Number 1 :  10\n",
      "Enter Number 2 :  20\n"
     ]
    },
    {
     "name": "stdout",
     "output_type": "stream",
     "text": [
      "20\n"
     ]
    }
   ],
   "source": [
    "num1 = int(input(\"Enter Number 1 : \"))\n",
    "num2 = int(input(\"Enter Number 2 : \"))\n",
    "if num1>num2:\n",
    "    print(\"Number 1 is Big!\")\n",
    "else:\n",
    "    print(\"Number 2 is big!\")\n",
    "\n",
    "\n",
    "# res = num1 if num1>num2 else num2\n",
    "# print(res)"
   ]
  },
  {
   "cell_type": "markdown",
   "id": "a7614547-0a5f-4a1f-82ca-c18bdcfe72e9",
   "metadata": {},
   "source": [
    "### 4. WAP to find out Largest number from given three numbers."
   ]
  },
  {
   "cell_type": "code",
   "execution_count": 8,
   "id": "4c2be11a-7014-4c84-8dff-097f6edeaa25",
   "metadata": {},
   "outputs": [
    {
     "name": "stdin",
     "output_type": "stream",
     "text": [
      "Enter Number 1 :  50\n",
      "Enter Number 2 :  80\n",
      "Enter Number 3 :  10\n"
     ]
    },
    {
     "name": "stdout",
     "output_type": "stream",
     "text": [
      "Number 2 is Big\n"
     ]
    }
   ],
   "source": [
    "num1 = int(input(\"Enter Number 1 : \"))\n",
    "num2 = int(input(\"Enter Number 2 : \"))\n",
    "num3 = int(input(\"Enter Number 3 : \"))\n",
    "\n",
    "if num1>num2 and num1>num3:\n",
    "    print(\"Number 1 is Big!\")\n",
    "elif num2>num3:\n",
    "    print(\"Number 2 is Big\")\n",
    "else:\n",
    "    print(\"Number 3 is Big\")"
   ]
  },
  {
   "cell_type": "markdown",
   "id": "a90ecdf6-9f21-4b25-ace0-6083c311dddf",
   "metadata": {},
   "source": [
    "### 5. WAP to check whether the given year is Leap year or not. \n",
    "#### [If a year can be divisible by 4 but not divisible by 100 then it is leap year but if it is divisible by 400 then it is leap year]."
   ]
  },
  {
   "cell_type": "code",
   "execution_count": 2,
   "id": "cb16a8ae-2d76-4e3c-8fac-ce9583e77ecf",
   "metadata": {},
   "outputs": [
    {
     "name": "stdin",
     "output_type": "stream",
     "text": [
      "Enter Year :  1\n"
     ]
    },
    {
     "name": "stdout",
     "output_type": "stream",
     "text": [
      "This year is not Leap Year!\n"
     ]
    }
   ],
   "source": [
    "year = int(input(\"Enter Year : \"))\n",
    "if year%4==0 and year%100 != 0 or year%400==0:\n",
    "    print(\"This year is Leap Year!\")\n",
    "else:\n",
    "    print(\"This year is not Leap Year!\")"
   ]
  },
  {
   "cell_type": "markdown",
   "id": "25153166-6f46-4885-8b89-101e496a4c14",
   "metadata": {},
   "source": [
    "### 6. WAP to display the name of the Day according to the number given by the user."
   ]
  },
  {
   "cell_type": "code",
   "execution_count": 3,
   "id": "104f1bb6-0725-4187-aaa2-ce4f9ec6ff81",
   "metadata": {},
   "outputs": [
    {
     "name": "stdin",
     "output_type": "stream",
     "text": [
      "Enter Choice :  2\n"
     ]
    },
    {
     "name": "stdout",
     "output_type": "stream",
     "text": [
      "Tuesday\n"
     ]
    }
   ],
   "source": [
    "choice = int(input(\"Enter Choice : \"))\n",
    "match choice:\n",
    "    case 1:\n",
    "        print(\"Monday\")\n",
    "    case 2:\n",
    "        print(\"Tuesday\")\n",
    "    case 3:\n",
    "        print(\"Wednesday\")\n",
    "    case 4:\n",
    "        print(\"Thursday\")\n",
    "    case 5:\n",
    "        print(\"Friday\")\n",
    "    case 6:\n",
    "        print(\"Saturday\")\n",
    "    case 7:\n",
    "        print(\"Sunday\")\n",
    "    case _:\n",
    "        print(\"Invalid\")"
   ]
  },
  {
   "cell_type": "markdown",
   "id": "940463e7-3ef5-47eb-b206-37822161d9a8",
   "metadata": {},
   "source": [
    "### 7. WAP to implement simple Calculator which performs (add,sub,mul,div) of two numbers based on user input."
   ]
  },
  {
   "cell_type": "code",
   "execution_count": 28,
   "id": "66a437b6-6f74-4846-98b0-112ccb17aea4",
   "metadata": {},
   "outputs": [
    {
     "name": "stdin",
     "output_type": "stream",
     "text": [
      "Enter Number 1 :  45\n",
      "Enter Number 2 :  65\n",
      "Enter Choice :  1\n"
     ]
    },
    {
     "name": "stdout",
     "output_type": "stream",
     "text": [
      "Addition is :  110\n"
     ]
    }
   ],
   "source": [
    "num1 = int(input(\"Enter Number 1 : \"))\n",
    "num2 = int(input(\"Enter Number 2 : \"))\n",
    "choice = int(input(\"Enter Choice : \"))\n",
    "if choice == 1:\n",
    "    res = num1 + num2\n",
    "    print(\"Addition is : \",res)\n",
    "elif choice == 2:\n",
    "    res = num1 - num2\n",
    "    print(\"Substraction is : \",res)\n",
    "elif choice == 3:\n",
    "    res = num1 * num2\n",
    "    print(\"Multiplication is : \",res)\n",
    "elif choice == 4:\n",
    "    res = num1 / num2\n",
    "    print(\"Divison is : \",res)\n",
    "else:\n",
    "    print(\"Invalid! =====  Choice Between 1 to 4\")"
   ]
  },
  {
   "cell_type": "markdown",
   "id": "1e70762c-ded8-42c3-add9-6cffcfc405d1",
   "metadata": {},
   "source": [
    "\n",
    "### 8. WAP to calculate electricity bill based on following criteria. Which takes the unit from the user.\n",
    "#### \t  -First 1 to 50 units – Rs. 2.60/unit\n",
    "#### \t  -Next 50 to 100 units – Rs. 3.25/unit\n",
    "#### \t  -Next 100 to 200 units – Rs. 5.26/unit\n",
    "####\t  -200 units – Rs. 8.45/unit"
   ]
  },
  {
   "cell_type": "code",
   "execution_count": 4,
   "id": "38388940-a742-4cd0-8d6e-67d31838cd4a",
   "metadata": {},
   "outputs": [
    {
     "name": "stdin",
     "output_type": "stream",
     "text": [
      "Enter Number :  150\n"
     ]
    },
    {
     "name": "stdout",
     "output_type": "stream",
     "text": [
      "Electricity Bill :  555.5\n"
     ]
    }
   ],
   "source": [
    "num = int(input(\"Enter Number : \"))\n",
    "if num>1 and num<50:\n",
    "    print(\"Electricity Bill : \",(num*2.60))\n",
    "elif num>=50 and num<100:\n",
    "    print(\"Electricity Bill : \",(50*2.60)+(num-50)*3.25)\n",
    "elif num>=100 and num<200:\n",
    "    print(\"Electricity Bill : \",(50*2.60)+(50*3.25)+(num-100)*5.26)\n",
    "elif num>=200:\n",
    "    print(\"Electricity Bill : \",(50*2.60)+(50*3.25)+(100*5.26)+((num-200)*8.45))\n",
    "else:\n",
    "    print(\"Invalid!\")"
   ]
  },
  {
   "cell_type": "code",
   "execution_count": null,
   "id": "4e289ecc-679e-4e17-a005-eff1eb3a65b7",
   "metadata": {},
   "outputs": [],
   "source": []
  }
 ],
 "metadata": {
  "kernelspec": {
   "display_name": "Python [conda env:base] *",
   "language": "python",
   "name": "conda-base-py"
  },
  "language_info": {
   "codemirror_mode": {
    "name": "ipython",
    "version": 3
   },
   "file_extension": ".py",
   "mimetype": "text/x-python",
   "name": "python",
   "nbconvert_exporter": "python",
   "pygments_lexer": "ipython3",
   "version": "3.12.7"
  }
 },
 "nbformat": 4,
 "nbformat_minor": 5
}
