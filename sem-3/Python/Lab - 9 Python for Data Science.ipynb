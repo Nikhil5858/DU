{
 "cells": [
  {
   "cell_type": "markdown",
   "id": "fd1bc7f2-33b9-4401-b22b-f4008fdb4c71",
   "metadata": {},
   "source": [
    "<a href='https://www.darshan.ac.in/'> <img src='https://www.darshan.ac.in/Content/media/DU_Logo.svg' width=\"150\" height=\"200\"/></a>\n",
    "<pre>\n",
    "<center><b><h2> Python for Data Science - 2305CS303 </b></center>\n",
    "<center><b><h2>Lab - 9</b></center>    \n",
    "<left><b><h3>Roll No. : 135</b></left>  \n",
    "<left><b><h3>Name : Nikhil Rathod</b></left>   \n",
    "<pre>    "
   ]
  },
  {
   "cell_type": "markdown",
   "id": "4775ea51-e4f7-4bec-9066-34d55f26f638",
   "metadata": {},
   "source": [
    "### 1. Create a Pandas Series containing names of 5 students."
   ]
  },
  {
   "cell_type": "code",
   "execution_count": 2,
   "id": "ef6095ee-17bb-431d-9213-1c2daaec77d9",
   "metadata": {},
   "outputs": [
    {
     "data": {
      "text/plain": [
       "0    abc\n",
       "1    xyz\n",
       "2    pqr\n",
       "3    tuv\n",
       "4    lop\n",
       "dtype: object"
      ]
     },
     "execution_count": 2,
     "metadata": {},
     "output_type": "execute_result"
    }
   ],
   "source": [
    "import pandas as pd\n",
    "stu = pd.Series(['abc','xyz','pqr','tuv','lop'])\n",
    "stu"
   ]
  },
  {
   "cell_type": "markdown",
   "id": "1d756b20-0a6e-4161-821f-c67683cce637",
   "metadata": {},
   "source": [
    "### 2. Create a Series with student roll numbers as index and their IAT scores as values.."
   ]
  },
  {
   "cell_type": "code",
   "execution_count": 3,
   "id": "7a27d309-9090-4aa7-99d6-25ee8b6dbca9",
   "metadata": {},
   "outputs": [
    {
     "data": {
      "text/plain": [
       "1    89\n",
       "2    78\n",
       "3    61\n",
       "4    13\n",
       "5    23\n",
       "dtype: int64"
      ]
     },
     "execution_count": 3,
     "metadata": {},
     "output_type": "execute_result"
    }
   ],
   "source": [
    "import numpy as np\n",
    "stu1 = pd.Series([89,78,61,13,23],[1,2,3,4,5])\n",
    "stu1"
   ]
  },
  {
   "cell_type": "markdown",
   "id": "49ebf22b-cf7b-4d0d-8978-57edc0cda362",
   "metadata": {},
   "source": [
    "### 3. Create a time series (daily) from 2025-08-01 to 2025-08-10 representing attendance tracking for a student."
   ]
  },
  {
   "cell_type": "code",
   "execution_count": 8,
   "id": "e787cf49-effc-4d1b-8546-3ef751701cab",
   "metadata": {},
   "outputs": [
    {
     "data": {
      "text/plain": [
       "2025-08-01    A\n",
       "2025-08-02    P\n",
       "2025-08-03    P\n",
       "2025-08-04    P\n",
       "2025-08-05    A\n",
       "2025-08-06    P\n",
       "2025-08-07    A\n",
       "2025-08-08    A\n",
       "2025-08-09    P\n",
       "2025-08-10    P\n",
       "dtype: object"
      ]
     },
     "execution_count": 8,
     "metadata": {},
     "output_type": "execute_result"
    }
   ],
   "source": [
    "date='2025-08-01'\n",
    "c = pd.to_datetime(date)\n",
    "temp = c + pd.to_timedelta(range(10),unit='D')\n",
    "pd.Series(['A','P','P','P','A','P','A','A','P','P',],temp)"
   ]
  },
  {
   "cell_type": "markdown",
   "id": "de7cf6eb-8d77-423f-b897-e9ad5bc312bb",
   "metadata": {},
   "source": [
    "### 4. Create a DataFrame for 10 students with the following columns: Roll No, Name, PDS, CA, CN, IAT.\n",
    "#### (Use NumPy random module to generate scores)"
   ]
  },
  {
   "cell_type": "code",
   "execution_count": 42,
   "id": "cdeedbc3-c526-441f-85a9-045360caa446",
   "metadata": {},
   "outputs": [
    {
     "data": {
      "text/html": [
       "<div>\n",
       "<style scoped>\n",
       "    .dataframe tbody tr th:only-of-type {\n",
       "        vertical-align: middle;\n",
       "    }\n",
       "\n",
       "    .dataframe tbody tr th {\n",
       "        vertical-align: top;\n",
       "    }\n",
       "\n",
       "    .dataframe thead th {\n",
       "        text-align: right;\n",
       "    }\n",
       "</style>\n",
       "<table border=\"1\" class=\"dataframe\">\n",
       "  <thead>\n",
       "    <tr style=\"text-align: right;\">\n",
       "      <th></th>\n",
       "      <th>PDS</th>\n",
       "      <th>CA</th>\n",
       "      <th>CN</th>\n",
       "      <th>IAT</th>\n",
       "      <th>Roll</th>\n",
       "      <th>Name</th>\n",
       "    </tr>\n",
       "  </thead>\n",
       "  <tbody>\n",
       "    <tr>\n",
       "      <th>0</th>\n",
       "      <td>63</td>\n",
       "      <td>54</td>\n",
       "      <td>81</td>\n",
       "      <td>73</td>\n",
       "      <td>101</td>\n",
       "      <td>nikhil</td>\n",
       "    </tr>\n",
       "    <tr>\n",
       "      <th>1</th>\n",
       "      <td>89</td>\n",
       "      <td>81</td>\n",
       "      <td>98</td>\n",
       "      <td>85</td>\n",
       "      <td>102</td>\n",
       "      <td>ajay</td>\n",
       "    </tr>\n",
       "    <tr>\n",
       "      <th>2</th>\n",
       "      <td>87</td>\n",
       "      <td>53</td>\n",
       "      <td>80</td>\n",
       "      <td>60</td>\n",
       "      <td>103</td>\n",
       "      <td>harsh</td>\n",
       "    </tr>\n",
       "    <tr>\n",
       "      <th>3</th>\n",
       "      <td>76</td>\n",
       "      <td>59</td>\n",
       "      <td>86</td>\n",
       "      <td>80</td>\n",
       "      <td>104</td>\n",
       "      <td>ronak</td>\n",
       "    </tr>\n",
       "    <tr>\n",
       "      <th>4</th>\n",
       "      <td>82</td>\n",
       "      <td>78</td>\n",
       "      <td>88</td>\n",
       "      <td>79</td>\n",
       "      <td>105</td>\n",
       "      <td>uday</td>\n",
       "    </tr>\n",
       "  </tbody>\n",
       "</table>\n",
       "</div>"
      ],
      "text/plain": [
       "   PDS  CA  CN  IAT  Roll    Name\n",
       "0   63  54  81   73   101  nikhil\n",
       "1   89  81  98   85   102    ajay\n",
       "2   87  53  80   60   103   harsh\n",
       "3   76  59  86   80   104   ronak\n",
       "4   82  78  88   79   105    uday"
      ]
     },
     "execution_count": 42,
     "metadata": {},
     "output_type": "execute_result"
    }
   ],
   "source": [
    "studets = {101:\"nikhil\",102:\"ajay\",103:\"harsh\",104:\"ronak\",105:\"uday\"}\n",
    "data = pd.DataFrame(np.random.randint(50,100,20).reshape(5,4),range(0,5),['PDS','CA','CN','IAT'])\n",
    "data[\"Roll\"] = studets.keys()\n",
    "data[\"Name\"] = studets.values()\n",
    "data"
   ]
  },
  {
   "cell_type": "markdown",
   "id": "c2c54c21-abe2-439f-bc8e-5a43be7c5031",
   "metadata": {},
   "source": [
    "### 5. Display the first 3 rows of the DataFrame."
   ]
  },
  {
   "cell_type": "code",
   "execution_count": 43,
   "id": "97bac1f7-f69e-4ab4-9df4-aa392ced129a",
   "metadata": {},
   "outputs": [
    {
     "data": {
      "text/html": [
       "<div>\n",
       "<style scoped>\n",
       "    .dataframe tbody tr th:only-of-type {\n",
       "        vertical-align: middle;\n",
       "    }\n",
       "\n",
       "    .dataframe tbody tr th {\n",
       "        vertical-align: top;\n",
       "    }\n",
       "\n",
       "    .dataframe thead th {\n",
       "        text-align: right;\n",
       "    }\n",
       "</style>\n",
       "<table border=\"1\" class=\"dataframe\">\n",
       "  <thead>\n",
       "    <tr style=\"text-align: right;\">\n",
       "      <th></th>\n",
       "      <th>PDS</th>\n",
       "      <th>CA</th>\n",
       "      <th>CN</th>\n",
       "      <th>IAT</th>\n",
       "      <th>Roll</th>\n",
       "      <th>Name</th>\n",
       "    </tr>\n",
       "  </thead>\n",
       "  <tbody>\n",
       "    <tr>\n",
       "      <th>0</th>\n",
       "      <td>63</td>\n",
       "      <td>54</td>\n",
       "      <td>81</td>\n",
       "      <td>73</td>\n",
       "      <td>101</td>\n",
       "      <td>nikhil</td>\n",
       "    </tr>\n",
       "    <tr>\n",
       "      <th>1</th>\n",
       "      <td>89</td>\n",
       "      <td>81</td>\n",
       "      <td>98</td>\n",
       "      <td>85</td>\n",
       "      <td>102</td>\n",
       "      <td>ajay</td>\n",
       "    </tr>\n",
       "    <tr>\n",
       "      <th>2</th>\n",
       "      <td>87</td>\n",
       "      <td>53</td>\n",
       "      <td>80</td>\n",
       "      <td>60</td>\n",
       "      <td>103</td>\n",
       "      <td>harsh</td>\n",
       "    </tr>\n",
       "  </tbody>\n",
       "</table>\n",
       "</div>"
      ],
      "text/plain": [
       "   PDS  CA  CN  IAT  Roll    Name\n",
       "0   63  54  81   73   101  nikhil\n",
       "1   89  81  98   85   102    ajay\n",
       "2   87  53  80   60   103   harsh"
      ]
     },
     "execution_count": 43,
     "metadata": {},
     "output_type": "execute_result"
    }
   ],
   "source": [
    "data.head(3)"
   ]
  },
  {
   "cell_type": "markdown",
   "id": "29b8c7da-fe08-45eb-9e27-2c47ab1ec26f",
   "metadata": {},
   "source": [
    "### 6. Display the last 2 rows of the DataFrame."
   ]
  },
  {
   "cell_type": "code",
   "execution_count": 44,
   "id": "2e4dbdd6-d10b-4d08-9a4a-cb0acee96281",
   "metadata": {},
   "outputs": [
    {
     "data": {
      "text/html": [
       "<div>\n",
       "<style scoped>\n",
       "    .dataframe tbody tr th:only-of-type {\n",
       "        vertical-align: middle;\n",
       "    }\n",
       "\n",
       "    .dataframe tbody tr th {\n",
       "        vertical-align: top;\n",
       "    }\n",
       "\n",
       "    .dataframe thead th {\n",
       "        text-align: right;\n",
       "    }\n",
       "</style>\n",
       "<table border=\"1\" class=\"dataframe\">\n",
       "  <thead>\n",
       "    <tr style=\"text-align: right;\">\n",
       "      <th></th>\n",
       "      <th>PDS</th>\n",
       "      <th>CA</th>\n",
       "      <th>CN</th>\n",
       "      <th>IAT</th>\n",
       "      <th>Roll</th>\n",
       "      <th>Name</th>\n",
       "    </tr>\n",
       "  </thead>\n",
       "  <tbody>\n",
       "    <tr>\n",
       "      <th>3</th>\n",
       "      <td>76</td>\n",
       "      <td>59</td>\n",
       "      <td>86</td>\n",
       "      <td>80</td>\n",
       "      <td>104</td>\n",
       "      <td>ronak</td>\n",
       "    </tr>\n",
       "    <tr>\n",
       "      <th>4</th>\n",
       "      <td>82</td>\n",
       "      <td>78</td>\n",
       "      <td>88</td>\n",
       "      <td>79</td>\n",
       "      <td>105</td>\n",
       "      <td>uday</td>\n",
       "    </tr>\n",
       "  </tbody>\n",
       "</table>\n",
       "</div>"
      ],
      "text/plain": [
       "   PDS  CA  CN  IAT  Roll   Name\n",
       "3   76  59  86   80   104  ronak\n",
       "4   82  78  88   79   105   uday"
      ]
     },
     "execution_count": 44,
     "metadata": {},
     "output_type": "execute_result"
    }
   ],
   "source": [
    "data.tail(2)"
   ]
  },
  {
   "cell_type": "markdown",
   "id": "b76592c9-38ed-4b92-a0c4-9ed2a833bb53",
   "metadata": {},
   "source": [
    "### 7. Use .describe() to summarize the numeric data."
   ]
  },
  {
   "cell_type": "code",
   "execution_count": 46,
   "id": "d54030cb-ac22-43d1-b7c7-c8494cf59b13",
   "metadata": {},
   "outputs": [
    {
     "data": {
      "text/html": [
       "<div>\n",
       "<style scoped>\n",
       "    .dataframe tbody tr th:only-of-type {\n",
       "        vertical-align: middle;\n",
       "    }\n",
       "\n",
       "    .dataframe tbody tr th {\n",
       "        vertical-align: top;\n",
       "    }\n",
       "\n",
       "    .dataframe thead th {\n",
       "        text-align: right;\n",
       "    }\n",
       "</style>\n",
       "<table border=\"1\" class=\"dataframe\">\n",
       "  <thead>\n",
       "    <tr style=\"text-align: right;\">\n",
       "      <th></th>\n",
       "      <th>PDS</th>\n",
       "      <th>CA</th>\n",
       "      <th>CN</th>\n",
       "      <th>IAT</th>\n",
       "      <th>Roll</th>\n",
       "    </tr>\n",
       "  </thead>\n",
       "  <tbody>\n",
       "    <tr>\n",
       "      <th>count</th>\n",
       "      <td>5.000000</td>\n",
       "      <td>5.000000</td>\n",
       "      <td>5.000000</td>\n",
       "      <td>5.000000</td>\n",
       "      <td>5.000000</td>\n",
       "    </tr>\n",
       "    <tr>\n",
       "      <th>mean</th>\n",
       "      <td>79.400000</td>\n",
       "      <td>65.000000</td>\n",
       "      <td>86.600000</td>\n",
       "      <td>75.400000</td>\n",
       "      <td>103.000000</td>\n",
       "    </tr>\n",
       "    <tr>\n",
       "      <th>std</th>\n",
       "      <td>10.454664</td>\n",
       "      <td>13.472194</td>\n",
       "      <td>7.197222</td>\n",
       "      <td>9.607289</td>\n",
       "      <td>1.581139</td>\n",
       "    </tr>\n",
       "    <tr>\n",
       "      <th>min</th>\n",
       "      <td>63.000000</td>\n",
       "      <td>53.000000</td>\n",
       "      <td>80.000000</td>\n",
       "      <td>60.000000</td>\n",
       "      <td>101.000000</td>\n",
       "    </tr>\n",
       "    <tr>\n",
       "      <th>25%</th>\n",
       "      <td>76.000000</td>\n",
       "      <td>54.000000</td>\n",
       "      <td>81.000000</td>\n",
       "      <td>73.000000</td>\n",
       "      <td>102.000000</td>\n",
       "    </tr>\n",
       "    <tr>\n",
       "      <th>50%</th>\n",
       "      <td>82.000000</td>\n",
       "      <td>59.000000</td>\n",
       "      <td>86.000000</td>\n",
       "      <td>79.000000</td>\n",
       "      <td>103.000000</td>\n",
       "    </tr>\n",
       "    <tr>\n",
       "      <th>75%</th>\n",
       "      <td>87.000000</td>\n",
       "      <td>78.000000</td>\n",
       "      <td>88.000000</td>\n",
       "      <td>80.000000</td>\n",
       "      <td>104.000000</td>\n",
       "    </tr>\n",
       "    <tr>\n",
       "      <th>max</th>\n",
       "      <td>89.000000</td>\n",
       "      <td>81.000000</td>\n",
       "      <td>98.000000</td>\n",
       "      <td>85.000000</td>\n",
       "      <td>105.000000</td>\n",
       "    </tr>\n",
       "  </tbody>\n",
       "</table>\n",
       "</div>"
      ],
      "text/plain": [
       "             PDS         CA         CN        IAT        Roll\n",
       "count   5.000000   5.000000   5.000000   5.000000    5.000000\n",
       "mean   79.400000  65.000000  86.600000  75.400000  103.000000\n",
       "std    10.454664  13.472194   7.197222   9.607289    1.581139\n",
       "min    63.000000  53.000000  80.000000  60.000000  101.000000\n",
       "25%    76.000000  54.000000  81.000000  73.000000  102.000000\n",
       "50%    82.000000  59.000000  86.000000  79.000000  103.000000\n",
       "75%    87.000000  78.000000  88.000000  80.000000  104.000000\n",
       "max    89.000000  81.000000  98.000000  85.000000  105.000000"
      ]
     },
     "execution_count": 46,
     "metadata": {},
     "output_type": "execute_result"
    }
   ],
   "source": [
    "data.describe()"
   ]
  },
  {
   "cell_type": "markdown",
   "id": "ddf54203-47cb-425c-b118-3318148c2571",
   "metadata": {},
   "source": [
    "### 8. Select only the Name column."
   ]
  },
  {
   "cell_type": "code",
   "execution_count": 47,
   "id": "75b79085-18d5-41cf-b6f2-fe1c659b5eef",
   "metadata": {},
   "outputs": [
    {
     "data": {
      "text/plain": [
       "0    nikhil\n",
       "1      ajay\n",
       "2     harsh\n",
       "3     ronak\n",
       "4      uday\n",
       "Name: Name, dtype: object"
      ]
     },
     "execution_count": 47,
     "metadata": {},
     "output_type": "execute_result"
    }
   ],
   "source": [
    "data['Name']"
   ]
  },
  {
   "cell_type": "markdown",
   "id": "f6a3191f-3348-4ba0-9222-cd560e7a734a",
   "metadata": {},
   "source": [
    "### 9. Select the columns PDS, CN, and IAT."
   ]
  },
  {
   "cell_type": "code",
   "execution_count": 49,
   "id": "ecd23840-7d27-4a0d-8d44-7c6d1fa26b72",
   "metadata": {},
   "outputs": [
    {
     "data": {
      "text/html": [
       "<div>\n",
       "<style scoped>\n",
       "    .dataframe tbody tr th:only-of-type {\n",
       "        vertical-align: middle;\n",
       "    }\n",
       "\n",
       "    .dataframe tbody tr th {\n",
       "        vertical-align: top;\n",
       "    }\n",
       "\n",
       "    .dataframe thead th {\n",
       "        text-align: right;\n",
       "    }\n",
       "</style>\n",
       "<table border=\"1\" class=\"dataframe\">\n",
       "  <thead>\n",
       "    <tr style=\"text-align: right;\">\n",
       "      <th></th>\n",
       "      <th>PDS</th>\n",
       "      <th>CN</th>\n",
       "      <th>IAT</th>\n",
       "    </tr>\n",
       "  </thead>\n",
       "  <tbody>\n",
       "    <tr>\n",
       "      <th>0</th>\n",
       "      <td>63</td>\n",
       "      <td>81</td>\n",
       "      <td>73</td>\n",
       "    </tr>\n",
       "    <tr>\n",
       "      <th>1</th>\n",
       "      <td>89</td>\n",
       "      <td>98</td>\n",
       "      <td>85</td>\n",
       "    </tr>\n",
       "    <tr>\n",
       "      <th>2</th>\n",
       "      <td>87</td>\n",
       "      <td>80</td>\n",
       "      <td>60</td>\n",
       "    </tr>\n",
       "    <tr>\n",
       "      <th>3</th>\n",
       "      <td>76</td>\n",
       "      <td>86</td>\n",
       "      <td>80</td>\n",
       "    </tr>\n",
       "    <tr>\n",
       "      <th>4</th>\n",
       "      <td>82</td>\n",
       "      <td>88</td>\n",
       "      <td>79</td>\n",
       "    </tr>\n",
       "  </tbody>\n",
       "</table>\n",
       "</div>"
      ],
      "text/plain": [
       "   PDS  CN  IAT\n",
       "0   63  81   73\n",
       "1   89  98   85\n",
       "2   87  80   60\n",
       "3   76  86   80\n",
       "4   82  88   79"
      ]
     },
     "execution_count": 49,
     "metadata": {},
     "output_type": "execute_result"
    }
   ],
   "source": [
    "data[['PDS','CN','IAT']]"
   ]
  },
  {
   "cell_type": "markdown",
   "id": "a90ecdf6-9f21-4b25-ace0-6083c311dddf",
   "metadata": {},
   "source": [
    "### 10. Select the row with Roll No = 105 using loc.\n"
   ]
  },
  {
   "cell_type": "code",
   "execution_count": 52,
   "id": "cb16a8ae-2d76-4e3c-8fac-ce9583e77ecf",
   "metadata": {},
   "outputs": [
    {
     "data": {
      "text/plain": [
       "PDS       82\n",
       "CA        78\n",
       "CN        88\n",
       "IAT       79\n",
       "Roll     105\n",
       "Name    uday\n",
       "Name: 4, dtype: object"
      ]
     },
     "execution_count": 52,
     "metadata": {},
     "output_type": "execute_result"
    }
   ],
   "source": [
    "data.loc[4]"
   ]
  },
  {
   "cell_type": "markdown",
   "id": "e7b02e28-8b48-4644-8451-160e19cc5873",
   "metadata": {},
   "source": [
    "### 11. Select the 4th row using iloc."
   ]
  },
  {
   "cell_type": "code",
   "execution_count": 53,
   "id": "104f1bb6-0725-4187-aaa2-ce4f9ec6ff81",
   "metadata": {},
   "outputs": [
    {
     "data": {
      "text/plain": [
       "PDS       82\n",
       "CA        78\n",
       "CN        88\n",
       "IAT       79\n",
       "Roll     105\n",
       "Name    uday\n",
       "Name: 4, dtype: object"
      ]
     },
     "execution_count": 53,
     "metadata": {},
     "output_type": "execute_result"
    }
   ],
   "source": [
    "data.iloc[4]"
   ]
  },
  {
   "cell_type": "markdown",
   "id": "940463e7-3ef5-47eb-b206-37822161d9a8",
   "metadata": {},
   "source": [
    "### 12. Select students with marks in PDS > 80."
   ]
  },
  {
   "cell_type": "code",
   "execution_count": 55,
   "id": "7d493bed-10d9-4544-bcd3-ab7b5bfec64f",
   "metadata": {},
   "outputs": [
    {
     "data": {
      "text/html": [
       "<div>\n",
       "<style scoped>\n",
       "    .dataframe tbody tr th:only-of-type {\n",
       "        vertical-align: middle;\n",
       "    }\n",
       "\n",
       "    .dataframe tbody tr th {\n",
       "        vertical-align: top;\n",
       "    }\n",
       "\n",
       "    .dataframe thead th {\n",
       "        text-align: right;\n",
       "    }\n",
       "</style>\n",
       "<table border=\"1\" class=\"dataframe\">\n",
       "  <thead>\n",
       "    <tr style=\"text-align: right;\">\n",
       "      <th></th>\n",
       "      <th>PDS</th>\n",
       "      <th>CA</th>\n",
       "      <th>CN</th>\n",
       "      <th>IAT</th>\n",
       "      <th>Roll</th>\n",
       "      <th>Name</th>\n",
       "    </tr>\n",
       "  </thead>\n",
       "  <tbody>\n",
       "    <tr>\n",
       "      <th>1</th>\n",
       "      <td>89</td>\n",
       "      <td>81</td>\n",
       "      <td>98</td>\n",
       "      <td>85</td>\n",
       "      <td>102</td>\n",
       "      <td>ajay</td>\n",
       "    </tr>\n",
       "    <tr>\n",
       "      <th>2</th>\n",
       "      <td>87</td>\n",
       "      <td>53</td>\n",
       "      <td>80</td>\n",
       "      <td>60</td>\n",
       "      <td>103</td>\n",
       "      <td>harsh</td>\n",
       "    </tr>\n",
       "    <tr>\n",
       "      <th>4</th>\n",
       "      <td>82</td>\n",
       "      <td>78</td>\n",
       "      <td>88</td>\n",
       "      <td>79</td>\n",
       "      <td>105</td>\n",
       "      <td>uday</td>\n",
       "    </tr>\n",
       "  </tbody>\n",
       "</table>\n",
       "</div>"
      ],
      "text/plain": [
       "   PDS  CA  CN  IAT  Roll   Name\n",
       "1   89  81  98   85   102   ajay\n",
       "2   87  53  80   60   103  harsh\n",
       "4   82  78  88   79   105   uday"
      ]
     },
     "execution_count": 55,
     "metadata": {},
     "output_type": "execute_result"
    }
   ],
   "source": [
    "data.loc[data['PDS']>80]"
   ]
  },
  {
   "cell_type": "markdown",
   "id": "1381be74-c739-4773-8248-5077b6d4fcd9",
   "metadata": {},
   "source": [
    "### 13. Select students with marks in CA < 70. "
   ]
  },
  {
   "cell_type": "code",
   "execution_count": 56,
   "id": "b01f3692-ae72-48bb-a019-64cb4f67b0fe",
   "metadata": {},
   "outputs": [
    {
     "data": {
      "text/html": [
       "<div>\n",
       "<style scoped>\n",
       "    .dataframe tbody tr th:only-of-type {\n",
       "        vertical-align: middle;\n",
       "    }\n",
       "\n",
       "    .dataframe tbody tr th {\n",
       "        vertical-align: top;\n",
       "    }\n",
       "\n",
       "    .dataframe thead th {\n",
       "        text-align: right;\n",
       "    }\n",
       "</style>\n",
       "<table border=\"1\" class=\"dataframe\">\n",
       "  <thead>\n",
       "    <tr style=\"text-align: right;\">\n",
       "      <th></th>\n",
       "      <th>PDS</th>\n",
       "      <th>CA</th>\n",
       "      <th>CN</th>\n",
       "      <th>IAT</th>\n",
       "      <th>Roll</th>\n",
       "      <th>Name</th>\n",
       "    </tr>\n",
       "  </thead>\n",
       "  <tbody>\n",
       "    <tr>\n",
       "      <th>1</th>\n",
       "      <td>89</td>\n",
       "      <td>81</td>\n",
       "      <td>98</td>\n",
       "      <td>85</td>\n",
       "      <td>102</td>\n",
       "      <td>ajay</td>\n",
       "    </tr>\n",
       "    <tr>\n",
       "      <th>4</th>\n",
       "      <td>82</td>\n",
       "      <td>78</td>\n",
       "      <td>88</td>\n",
       "      <td>79</td>\n",
       "      <td>105</td>\n",
       "      <td>uday</td>\n",
       "    </tr>\n",
       "  </tbody>\n",
       "</table>\n",
       "</div>"
      ],
      "text/plain": [
       "   PDS  CA  CN  IAT  Roll  Name\n",
       "1   89  81  98   85   102  ajay\n",
       "4   82  78  88   79   105  uday"
      ]
     },
     "execution_count": 56,
     "metadata": {},
     "output_type": "execute_result"
    }
   ],
   "source": [
    "data.loc[data['CA']>70]"
   ]
  },
  {
   "cell_type": "markdown",
   "id": "a83dd20a-efd2-4421-94c2-917009b61b07",
   "metadata": {},
   "source": [
    "### 14. Select students with marks in CN > 85 and PDS > 80"
   ]
  },
  {
   "cell_type": "code",
   "execution_count": 57,
   "id": "911f90a5-79a3-4bac-9fed-8f1cb8f5c7fd",
   "metadata": {},
   "outputs": [
    {
     "data": {
      "text/html": [
       "<div>\n",
       "<style scoped>\n",
       "    .dataframe tbody tr th:only-of-type {\n",
       "        vertical-align: middle;\n",
       "    }\n",
       "\n",
       "    .dataframe tbody tr th {\n",
       "        vertical-align: top;\n",
       "    }\n",
       "\n",
       "    .dataframe thead th {\n",
       "        text-align: right;\n",
       "    }\n",
       "</style>\n",
       "<table border=\"1\" class=\"dataframe\">\n",
       "  <thead>\n",
       "    <tr style=\"text-align: right;\">\n",
       "      <th></th>\n",
       "      <th>PDS</th>\n",
       "      <th>CA</th>\n",
       "      <th>CN</th>\n",
       "      <th>IAT</th>\n",
       "      <th>Roll</th>\n",
       "      <th>Name</th>\n",
       "    </tr>\n",
       "  </thead>\n",
       "  <tbody>\n",
       "    <tr>\n",
       "      <th>1</th>\n",
       "      <td>89</td>\n",
       "      <td>81</td>\n",
       "      <td>98</td>\n",
       "      <td>85</td>\n",
       "      <td>102</td>\n",
       "      <td>ajay</td>\n",
       "    </tr>\n",
       "    <tr>\n",
       "      <th>4</th>\n",
       "      <td>82</td>\n",
       "      <td>78</td>\n",
       "      <td>88</td>\n",
       "      <td>79</td>\n",
       "      <td>105</td>\n",
       "      <td>uday</td>\n",
       "    </tr>\n",
       "  </tbody>\n",
       "</table>\n",
       "</div>"
      ],
      "text/plain": [
       "   PDS  CA  CN  IAT  Roll  Name\n",
       "1   89  81  98   85   102  ajay\n",
       "4   82  78  88   79   105  uday"
      ]
     },
     "execution_count": 57,
     "metadata": {},
     "output_type": "execute_result"
    }
   ],
   "source": [
    "data.loc[(data['CN']>85) & (data['PDS']>80)]"
   ]
  },
  {
   "cell_type": "markdown",
   "id": "6bf49b6c-b000-4de9-85ed-0c3a7e8609a2",
   "metadata": {},
   "source": [
    "### 15. Add a new column Total Marks = PDS + CA + CN + IAT."
   ]
  },
  {
   "cell_type": "code",
   "execution_count": 59,
   "id": "5ce24a7a-5766-4ec6-a230-a006742a81bf",
   "metadata": {},
   "outputs": [
    {
     "data": {
      "text/html": [
       "<div>\n",
       "<style scoped>\n",
       "    .dataframe tbody tr th:only-of-type {\n",
       "        vertical-align: middle;\n",
       "    }\n",
       "\n",
       "    .dataframe tbody tr th {\n",
       "        vertical-align: top;\n",
       "    }\n",
       "\n",
       "    .dataframe thead th {\n",
       "        text-align: right;\n",
       "    }\n",
       "</style>\n",
       "<table border=\"1\" class=\"dataframe\">\n",
       "  <thead>\n",
       "    <tr style=\"text-align: right;\">\n",
       "      <th></th>\n",
       "      <th>PDS</th>\n",
       "      <th>CA</th>\n",
       "      <th>CN</th>\n",
       "      <th>IAT</th>\n",
       "      <th>Roll</th>\n",
       "      <th>Name</th>\n",
       "      <th>total</th>\n",
       "    </tr>\n",
       "  </thead>\n",
       "  <tbody>\n",
       "    <tr>\n",
       "      <th>0</th>\n",
       "      <td>63</td>\n",
       "      <td>54</td>\n",
       "      <td>81</td>\n",
       "      <td>73</td>\n",
       "      <td>101</td>\n",
       "      <td>nikhil</td>\n",
       "      <td>271</td>\n",
       "    </tr>\n",
       "    <tr>\n",
       "      <th>1</th>\n",
       "      <td>89</td>\n",
       "      <td>81</td>\n",
       "      <td>98</td>\n",
       "      <td>85</td>\n",
       "      <td>102</td>\n",
       "      <td>ajay</td>\n",
       "      <td>353</td>\n",
       "    </tr>\n",
       "    <tr>\n",
       "      <th>2</th>\n",
       "      <td>87</td>\n",
       "      <td>53</td>\n",
       "      <td>80</td>\n",
       "      <td>60</td>\n",
       "      <td>103</td>\n",
       "      <td>harsh</td>\n",
       "      <td>280</td>\n",
       "    </tr>\n",
       "    <tr>\n",
       "      <th>3</th>\n",
       "      <td>76</td>\n",
       "      <td>59</td>\n",
       "      <td>86</td>\n",
       "      <td>80</td>\n",
       "      <td>104</td>\n",
       "      <td>ronak</td>\n",
       "      <td>301</td>\n",
       "    </tr>\n",
       "    <tr>\n",
       "      <th>4</th>\n",
       "      <td>82</td>\n",
       "      <td>78</td>\n",
       "      <td>88</td>\n",
       "      <td>79</td>\n",
       "      <td>105</td>\n",
       "      <td>uday</td>\n",
       "      <td>327</td>\n",
       "    </tr>\n",
       "  </tbody>\n",
       "</table>\n",
       "</div>"
      ],
      "text/plain": [
       "   PDS  CA  CN  IAT  Roll    Name  total\n",
       "0   63  54  81   73   101  nikhil    271\n",
       "1   89  81  98   85   102    ajay    353\n",
       "2   87  53  80   60   103   harsh    280\n",
       "3   76  59  86   80   104   ronak    301\n",
       "4   82  78  88   79   105    uday    327"
      ]
     },
     "execution_count": 59,
     "metadata": {},
     "output_type": "execute_result"
    }
   ],
   "source": [
    "data['total']=data['PDS']+data['CA']+data['CN']+data['IAT']\n",
    "data"
   ]
  },
  {
   "cell_type": "markdown",
   "id": "5d38c8d8-4ce6-4088-a1c7-dff745280b7d",
   "metadata": {},
   "source": [
    "### 16. Create a new DataFrame of students with Total Marks > 320."
   ]
  },
  {
   "cell_type": "code",
   "execution_count": 60,
   "id": "269faf07-cae6-4c92-a14d-7b44ef6b27f7",
   "metadata": {},
   "outputs": [
    {
     "data": {
      "text/html": [
       "<div>\n",
       "<style scoped>\n",
       "    .dataframe tbody tr th:only-of-type {\n",
       "        vertical-align: middle;\n",
       "    }\n",
       "\n",
       "    .dataframe tbody tr th {\n",
       "        vertical-align: top;\n",
       "    }\n",
       "\n",
       "    .dataframe thead th {\n",
       "        text-align: right;\n",
       "    }\n",
       "</style>\n",
       "<table border=\"1\" class=\"dataframe\">\n",
       "  <thead>\n",
       "    <tr style=\"text-align: right;\">\n",
       "      <th></th>\n",
       "      <th>PDS</th>\n",
       "      <th>CA</th>\n",
       "      <th>CN</th>\n",
       "      <th>IAT</th>\n",
       "      <th>Roll</th>\n",
       "      <th>Name</th>\n",
       "      <th>total</th>\n",
       "    </tr>\n",
       "  </thead>\n",
       "  <tbody>\n",
       "    <tr>\n",
       "      <th>1</th>\n",
       "      <td>89</td>\n",
       "      <td>81</td>\n",
       "      <td>98</td>\n",
       "      <td>85</td>\n",
       "      <td>102</td>\n",
       "      <td>ajay</td>\n",
       "      <td>353</td>\n",
       "    </tr>\n",
       "    <tr>\n",
       "      <th>4</th>\n",
       "      <td>82</td>\n",
       "      <td>78</td>\n",
       "      <td>88</td>\n",
       "      <td>79</td>\n",
       "      <td>105</td>\n",
       "      <td>uday</td>\n",
       "      <td>327</td>\n",
       "    </tr>\n",
       "  </tbody>\n",
       "</table>\n",
       "</div>"
      ],
      "text/plain": [
       "   PDS  CA  CN  IAT  Roll  Name  total\n",
       "1   89  81  98   85   102  ajay    353\n",
       "4   82  78  88   79   105  uday    327"
      ]
     },
     "execution_count": 60,
     "metadata": {},
     "output_type": "execute_result"
    }
   ],
   "source": [
    "data.loc[data['total']>320]"
   ]
  }
 ],
 "metadata": {
  "kernelspec": {
   "display_name": "Python [conda env:base] *",
   "language": "python",
   "name": "conda-base-py"
  },
  "language_info": {
   "codemirror_mode": {
    "name": "ipython",
    "version": 3
   },
   "file_extension": ".py",
   "mimetype": "text/x-python",
   "name": "python",
   "nbconvert_exporter": "python",
   "pygments_lexer": "ipython3",
   "version": "3.12.7"
  }
 },
 "nbformat": 4,
 "nbformat_minor": 5
}
