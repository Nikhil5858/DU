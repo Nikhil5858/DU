{
 "cells": [
  {
   "cell_type": "markdown",
   "id": "a81777e6-2ed9-4c12-9ef6-9f103cfb40f0",
   "metadata": {},
   "source": [
    "## 1. Printing Restaurant Menu Project  "
   ]
  },
  {
   "cell_type": "code",
   "execution_count": null,
   "id": "d72ae20e-2414-4661-b8d1-a0294e12011e",
   "metadata": {},
   "outputs": [],
   "source": [
    "# --------------------\n",
    "# ********MENU********\n",
    "# --------------------\n",
    "# Hot Dog-----------20\n",
    "# Donuts------------30\n",
    "# Burger------------40\n",
    "# Pizza-------------10"
   ]
  },
  {
   "cell_type": "code",
   "execution_count": 4,
   "id": "aca0cad2-4967-4242-87b6-c0de657aa682",
   "metadata": {},
   "outputs": [
    {
     "name": "stdin",
     "output_type": "stream",
     "text": [
      "Enter 1 Dish: hotdog\n",
      "Enter 1 Dish Price: 20\n",
      "Enter 2 Dish: donuts\n",
      "Enter 2 Dish Price: 30\n",
      "Enter 3 Dish: burger\n",
      "Enter 3 Dish Price: 40\n",
      "Enter 4 Dish: pizza\n",
      "Enter 4 Dish Price: 10\n"
     ]
    },
    {
     "name": "stdout",
     "output_type": "stream",
     "text": [
      "--------------------\n",
      "********MENU********\n",
      "--------------------\n",
      "hotdog------------20\n",
      "donuts------------30\n",
      "burger------------40\n",
      "pizza-------------10\n"
     ]
    }
   ],
   "source": [
    "n1 = input(\"Enter 1 Dish:\")\n",
    "p1 = int(input(\"Enter 1 Dish Price:\"))\n",
    "n2 = input(\"Enter 2 Dish:\")\n",
    "p2 = int(input(\"Enter 2 Dish Price:\"))\n",
    "n3 = input(\"Enter 3 Dish:\")\n",
    "p3 = int(input(\"Enter 3 Dish Price:\"))\n",
    "n4 = input(\"Enter 4 Dish:\")\n",
    "p4 = int(input(\"Enter 4 Dish Price:\"))\n",
    "print(\"--------------------\")\n",
    "print(\"********MENU********\")\n",
    "print(\"--------------------\")\n",
    "print(n1 + '-' * (20 - len(n1) - len(str(p1))) + str(p1))\n",
    "print(n2 + '-' * (20 - len(n2) - len(str(p2))) + str(p2))\n",
    "print(n3 + '-' * (20 - len(n3) - len(str(p3))) + str(p3))\n",
    "print(n4 + '-' * (20 - len(n4) - len(str(p4))) + str(p4))"
   ]
  },
  {
   "cell_type": "markdown",
   "id": "485ff642-5053-43ed-86b6-0890a55ba983",
   "metadata": {},
   "source": [
    "## 2. Card Payment Receipt Project"
   ]
  },
  {
   "cell_type": "code",
   "execution_count": null,
   "id": "7e80307d-d2bf-4b66-9ed6-816493d7c5a2",
   "metadata": {},
   "outputs": [],
   "source": [
    "# Enter Credit Card No. : 1234 1234 1234 1234\n",
    "# XXXX XXXX XXXX 1234"
   ]
  },
  {
   "cell_type": "code",
   "execution_count": 20,
   "id": "9f3b6adb-f658-4bc0-b6b2-3dc191c0e5f9",
   "metadata": {},
   "outputs": [
    {
     "name": "stdin",
     "output_type": "stream",
     "text": [
      "Enter Credit Card No: 1234123412349876\n"
     ]
    },
    {
     "name": "stdout",
     "output_type": "stream",
     "text": [
      "XXXX XXXX XXXX 9876\n"
     ]
    }
   ],
   "source": [
    "n = input(\"Enter Credit Card No:\").replace(\" \",\"\")\n",
    "if len(n)!=16:\n",
    "    print(\"Invalid Numbers!\")\n",
    "else:\n",
    "    res = \"XXXX XXXX XXXX \"+n[-4:]\n",
    "    print(res)"
   ]
  },
  {
   "cell_type": "markdown",
   "id": "b1064568-66dd-4d1f-ba99-5d356c20e736",
   "metadata": {},
   "source": [
    "## 3. URL Parsing"
   ]
  },
  {
   "cell_type": "code",
   "execution_count": null,
   "id": "651b718c-179c-43fc-9bd8-822b69bb1f4e",
   "metadata": {},
   "outputs": [],
   "source": [
    "# input : \n",
    "# url = \"https://www.kaggle.com/datasets\"\n",
    "\n",
    "# output:\n",
    "# Protocol : https\n",
    "# Domain : kaggle\n",
    "# Page : /datasets"
   ]
  },
  {
   "cell_type": "code",
   "execution_count": 40,
   "id": "511d7f77-a268-4c8f-8f2b-2aeb180b8132",
   "metadata": {},
   "outputs": [
    {
     "name": "stdout",
     "output_type": "stream",
     "text": [
      "Protocol : https\n",
      "Domain   : abc\n",
      "Page     : /page1\n"
     ]
    }
   ],
   "source": [
    "url = \"https://www.abc.com/page1\"\n",
    "pro, temp = url.split(\"://\")\n",
    "parts = temp.split(\"/\")\n",
    "domain = parts[0].split(\".\")[-2]\n",
    "page = \"/\" + \"/\".join(parts[1:])\n",
    "print(\"Protocol :\", pro)\n",
    "print(\"Domain   :\", domain)\n",
    "print(\"Page     :\", page)\n"
   ]
  },
  {
   "cell_type": "markdown",
   "id": "c2658457-8538-41a7-aed8-83a02f006392",
   "metadata": {},
   "source": [
    "## 4. Palindrome Phrase"
   ]
  },
  {
   "cell_type": "code",
   "execution_count": null,
   "id": "767274ec-84ec-48cc-837b-3dc7214c5c7a",
   "metadata": {},
   "outputs": [],
   "source": [
    "# Palindrome Phrase Exampels:\n",
    "# --------------------------------------------------------\n",
    "# 1. \"Name Now one man\" -> :namenowoneman\n",
    "# 2. \"Never odd or even\" -> neveroddoreven\n",
    "# 3. \"Was it a car or a cat I saw\" -> wasitacaroracatisaw\n",
    "# 4. \"Race car\" -> racecar"
   ]
  },
  {
   "cell_type": "code",
   "execution_count": 36,
   "id": "bbe2316d-0593-43e5-ad21-d9c158579d27",
   "metadata": {},
   "outputs": [
    {
     "name": "stdin",
     "output_type": "stream",
     "text": [
      "Enter String: Race car\n"
     ]
    },
    {
     "name": "stdout",
     "output_type": "stream",
     "text": [
      "String is Palidrone\n"
     ]
    }
   ],
   "source": [
    "s = input(\"Enter String:\")\n",
    "c=''\n",
    "for i in s:\n",
    "    if i.isalpha():\n",
    "        c+=i.lower()\n",
    "if c==c[::-1]:\n",
    "    print(\"String is Palidrone\")\n",
    "else:\n",
    "    print(\"String is Not Palidrone\")"
   ]
  },
  {
   "cell_type": "markdown",
   "id": "7d38a1f2-98f7-46bb-9886-5b84c1a429ab",
   "metadata": {},
   "source": [
    "## 5. Anagram Phrase"
   ]
  },
  {
   "cell_type": "code",
   "execution_count": null,
   "id": "19d4d8a4-232f-45e1-adc3-b45d459920e7",
   "metadata": {},
   "outputs": [],
   "source": [
    "# Anagram Exampels:\n",
    "# --------------------------------------------------------\n",
    "# 1. decimal  -  medical\n",
    "# 2. state  -  taste\n",
    "# 3. listen  -  silent\n",
    "# 4. a gentleman  -  elegant man\n",
    "# 5. the eyes  - they see\n",
    "# 6. dormitory  -  dirty room\n",
    "# 7. snooze alarms  - alas, no more Z's"
   ]
  },
  {
   "cell_type": "code",
   "execution_count": null,
   "id": "9b7015ee-fda5-4fc9-b55d-fa4bdbce0ba3",
   "metadata": {},
   "outputs": [],
   "source": []
  },
  {
   "cell_type": "markdown",
   "id": "bdcaf1cb-dfa9-41f4-8b45-75f31f383789",
   "metadata": {},
   "source": [
    "## 6. Data Cleaning"
   ]
  },
  {
   "cell_type": "code",
   "execution_count": null,
   "id": "194c2f0b-4394-401e-8664-1b3317e99fa6",
   "metadata": {},
   "outputs": [],
   "source": [
    "# Input : 'These+notes#reveal9Newton Seeking-out_an!underlying structure to/the\\\\pyramid'\n",
    "# Output : 'These notes reveal Newton Seeking out an underlying structure to the pyramid'"
   ]
  },
  {
   "cell_type": "code",
   "execution_count": 26,
   "id": "6bf573a2-8e26-4c2d-9e5c-e4bf01ad84e9",
   "metadata": {},
   "outputs": [
    {
     "name": "stdout",
     "output_type": "stream",
     "text": [
      "These notes reveal Newton Seeking out an underlying structure to the pyramid\n"
     ]
    }
   ],
   "source": [
    "s = 'These+notes#reveal9Newton Seeking-out_an!underlying structure to/the\\\\pyramid'\n",
    "\n",
    "c = ''\n",
    "for ch in s:\n",
    "    if ch.isalpha() or ch == ' ':\n",
    "        c += ch\n",
    "    else:\n",
    "        c += ' '\n",
    "print(c)\n"
   ]
  },
  {
   "cell_type": "code",
   "execution_count": null,
   "id": "ea4a55be-30d2-47f3-ab02-1eb847255bff",
   "metadata": {},
   "outputs": [],
   "source": []
  }
 ],
 "metadata": {
  "kernelspec": {
   "display_name": "Python [conda env:base] *",
   "language": "python",
   "name": "conda-base-py"
  },
  "language_info": {
   "codemirror_mode": {
    "name": "ipython",
    "version": 3
   },
   "file_extension": ".py",
   "mimetype": "text/x-python",
   "name": "python",
   "nbconvert_exporter": "python",
   "pygments_lexer": "ipython3",
   "version": "3.12.7"
  }
 },
 "nbformat": 4,
 "nbformat_minor": 5
}
