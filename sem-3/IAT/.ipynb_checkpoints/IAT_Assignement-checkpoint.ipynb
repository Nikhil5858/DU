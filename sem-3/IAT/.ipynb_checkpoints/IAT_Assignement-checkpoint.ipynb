{
 "cells": [
  {
   "cell_type": "markdown",
   "id": "7d27bfc1-89bd-4686-9ea0-1961f360767a",
   "metadata": {},
   "source": [
    "#### Name: Rathod Nikhil \n",
    "#### Enrollment No : 24030501039\n",
    "#### Roll No : 135\n",
    "#### Subject : IAT"
   ]
  },
  {
   "cell_type": "markdown",
   "id": "ae279c1e-aced-4e85-ba67-46d39d21c38a",
   "metadata": {},
   "source": [
    "## Step 1.import the Numpy library"
   ]
  },
  {
   "cell_type": "code",
   "execution_count": 2,
   "id": "bf24f31c-c523-4e5b-bd37-c56d58dcc8b0",
   "metadata": {},
   "outputs": [],
   "source": [
    "import numpy as np"
   ]
  },
  {
   "cell_type": "markdown",
   "id": "9328a680-b30a-400b-8cf3-ba56d1c2a8e9",
   "metadata": {},
   "source": [
    "## Step 2. cretae a 1D array of numbers"
   ]
  },
  {
   "cell_type": "code",
   "execution_count": 60,
   "id": "751d27b3-c85f-47d5-b59b-db3a99390ee0",
   "metadata": {},
   "outputs": [
    {
     "name": "stdout",
     "output_type": "stream",
     "text": [
      "[ 0  1  2  3  4  5  6  7  8  9 10]\n",
      "<class 'numpy.ndarray'>\n"
     ]
    }
   ],
   "source": [
    "a=np.arange(11)\n",
    "print(a)\n",
    "print(type(a))"
   ]
  },
  {
   "cell_type": "code",
   "execution_count": 5,
   "id": "a705f01b-3e02-463f-b202-27508152609a",
   "metadata": {},
   "outputs": [
    {
     "data": {
      "text/plain": [
       "array([2, 3, 4, 5, 6, 7, 8])"
      ]
     },
     "execution_count": 5,
     "metadata": {},
     "output_type": "execute_result"
    }
   ],
   "source": [
    "a=np.arange(2,9)\n",
    "a\n"
   ]
  },
  {
   "cell_type": "markdown",
   "id": "5399b882-6b9c-4741-ad91-d2b9153fbd7a",
   "metadata": {},
   "source": [
    "## step 3. Reshape 1D to 2D Array"
   ]
  },
  {
   "cell_type": "code",
   "execution_count": 7,
   "id": "bbf64776-0a00-41ac-9828-180466802d81",
   "metadata": {},
   "outputs": [
    {
     "data": {
      "text/plain": [
       "array([[ 0,  1,  2,  3],\n",
       "       [ 4,  5,  6,  7],\n",
       "       [ 8,  9, 10, 11]])"
      ]
     },
     "execution_count": 7,
     "metadata": {},
     "output_type": "execute_result"
    }
   ],
   "source": [
    "a= np.arange(12).reshape(3,4)\n",
    "a"
   ]
  },
  {
   "cell_type": "markdown",
   "id": "e4d7a2ab-f305-480d-b955-2ebcd58d3640",
   "metadata": {},
   "source": [
    "## step 4. cretae a Linespace array"
   ]
  },
  {
   "cell_type": "code",
   "execution_count": 8,
   "id": "6c579ae2-c752-44e8-b23c-8a3a59610cb6",
   "metadata": {},
   "outputs": [
    {
     "data": {
      "text/plain": [
       "array([0.        , 0.26315789, 0.52631579, 0.78947368, 1.05263158,\n",
       "       1.31578947, 1.57894737, 1.84210526, 2.10526316, 2.36842105,\n",
       "       2.63157895, 2.89473684, 3.15789474, 3.42105263, 3.68421053,\n",
       "       3.94736842, 4.21052632, 4.47368421, 4.73684211, 5.        ])"
      ]
     },
     "execution_count": 8,
     "metadata": {},
     "output_type": "execute_result"
    }
   ],
   "source": [
    "np.linspace(0,5,20)"
   ]
  },
  {
   "cell_type": "markdown",
   "id": "58ca30f1-81b8-4cf4-97af-ee9a8e9fdf36",
   "metadata": {},
   "source": [
    "## step 5. Create a randome Numberd Array"
   ]
  },
  {
   "cell_type": "code",
   "execution_count": 9,
   "id": "e5547b8e-4bdc-4a04-a607-6510b24c195f",
   "metadata": {},
   "outputs": [
    {
     "data": {
      "text/plain": [
       "array([0.71689405, 0.35419928])"
      ]
     },
     "execution_count": 9,
     "metadata": {},
     "output_type": "execute_result"
    }
   ],
   "source": [
    "np.random.rand(2)"
   ]
  },
  {
   "cell_type": "code",
   "execution_count": 10,
   "id": "8f80e5a5-99f8-4054-836a-d2bb3737450d",
   "metadata": {},
   "outputs": [
    {
     "data": {
      "text/plain": [
       "array([[0.53439756, 0.59770491, 0.21728327, 0.62350806],\n",
       "       [0.79196683, 0.7849771 , 0.07019256, 0.7205068 ]])"
      ]
     },
     "execution_count": 10,
     "metadata": {},
     "output_type": "execute_result"
    }
   ],
   "source": [
    "np.random.rand(2,4)"
   ]
  },
  {
   "cell_type": "markdown",
   "id": "d94f2840-6175-425d-a2de-d9a448500daa",
   "metadata": {},
   "source": [
    "## step 6. Create a Randome Integer Array"
   ]
  },
  {
   "cell_type": "code",
   "execution_count": 12,
   "id": "bf60d390-4b7f-49d1-963d-71a7c90c1d06",
   "metadata": {},
   "outputs": [
    {
     "data": {
      "text/plain": [
       "array([38, 65, 56,  3, 12, 36, 42,  2, 93, 16], dtype=int32)"
      ]
     },
     "execution_count": 12,
     "metadata": {},
     "output_type": "execute_result"
    }
   ],
   "source": [
    "np.random.randint(1,100,size=10)"
   ]
  },
  {
   "cell_type": "code",
   "execution_count": 13,
   "id": "d1ea3ad4-7fb4-48d1-b6f4-a17c44317513",
   "metadata": {},
   "outputs": [
    {
     "data": {
      "text/plain": [
       "array([[94, 28, 36, 38],\n",
       "       [ 3, 50, 90, 83]], dtype=int32)"
      ]
     },
     "execution_count": 13,
     "metadata": {},
     "output_type": "execute_result"
    }
   ],
   "source": [
    "np.random.randint(1,100,size=(2,4))"
   ]
  },
  {
   "cell_type": "markdown",
   "id": "54bdaee1-4e93-4124-a094-28b2a53da980",
   "metadata": {},
   "source": [
    "## step 7. cretae a 1D Array and get Max,Min,ArgMax,ArMIn"
   ]
  },
  {
   "cell_type": "code",
   "execution_count": 14,
   "id": "a3c16aad-220d-467f-a231-94d46af6cb5a",
   "metadata": {},
   "outputs": [
    {
     "data": {
      "text/plain": [
       "array([82, 89, 29, 22, 62, 30,  3,  9, 34, 70], dtype=int32)"
      ]
     },
     "execution_count": 14,
     "metadata": {},
     "output_type": "execute_result"
    }
   ],
   "source": [
    "arr=np.random.randint(1,100,size=(10))\n",
    "arr"
   ]
  },
  {
   "cell_type": "code",
   "execution_count": 15,
   "id": "f476a8c9-c21b-45a9-8bd9-452323ada291",
   "metadata": {},
   "outputs": [
    {
     "data": {
      "text/plain": [
       "np.int32(89)"
      ]
     },
     "execution_count": 15,
     "metadata": {},
     "output_type": "execute_result"
    }
   ],
   "source": [
    "arr.max()"
   ]
  },
  {
   "cell_type": "code",
   "execution_count": 16,
   "id": "8c0c5ec9-a4fd-4218-a8b7-1da1b882fcb6",
   "metadata": {},
   "outputs": [
    {
     "data": {
      "text/plain": [
       "np.int32(3)"
      ]
     },
     "execution_count": 16,
     "metadata": {},
     "output_type": "execute_result"
    }
   ],
   "source": [
    "arr.min()"
   ]
  },
  {
   "cell_type": "code",
   "execution_count": 17,
   "id": "bcaff9f6-b55a-4f18-b816-f428ad598483",
   "metadata": {},
   "outputs": [
    {
     "data": {
      "text/plain": [
       "np.int64(1)"
      ]
     },
     "execution_count": 17,
     "metadata": {},
     "output_type": "execute_result"
    }
   ],
   "source": [
    "arr.argmax()"
   ]
  },
  {
   "cell_type": "code",
   "execution_count": 18,
   "id": "ae47c69f-4cc4-45f9-8686-e6fd401dee70",
   "metadata": {},
   "outputs": [
    {
     "data": {
      "text/plain": [
       "np.int64(6)"
      ]
     },
     "execution_count": 18,
     "metadata": {},
     "output_type": "execute_result"
    }
   ],
   "source": [
    "arr.argmin()"
   ]
  },
  {
   "cell_type": "markdown",
   "id": "e5193d71-0708-492e-b2e3-8fee288df36f",
   "metadata": {},
   "source": [
    "## step 8. Indexing in 1D Array"
   ]
  },
  {
   "cell_type": "code",
   "execution_count": 19,
   "id": "0d990387-df7e-42db-982d-ecb46e534929",
   "metadata": {},
   "outputs": [
    {
     "data": {
      "text/plain": [
       "np.int32(34)"
      ]
     },
     "execution_count": 19,
     "metadata": {},
     "output_type": "execute_result"
    }
   ],
   "source": [
    "arr[8]"
   ]
  },
  {
   "cell_type": "code",
   "execution_count": 20,
   "id": "56e55a67-bee1-4930-8fb0-e7f330978f9c",
   "metadata": {},
   "outputs": [
    {
     "data": {
      "text/plain": [
       "array([89, 29, 22, 62], dtype=int32)"
      ]
     },
     "execution_count": 20,
     "metadata": {},
     "output_type": "execute_result"
    }
   ],
   "source": [
    "arr[1:5]"
   ]
  },
  {
   "cell_type": "markdown",
   "id": "f39be471-b3b4-489f-9ddd-5d64f168636d",
   "metadata": {},
   "source": [
    "## step 9. Indexing in 2D Array"
   ]
  },
  {
   "cell_type": "code",
   "execution_count": 22,
   "id": "3dffe7e5-37d4-48a0-b528-2a7f7c1c77c7",
   "metadata": {},
   "outputs": [
    {
     "data": {
      "text/plain": [
       "array([[82, 89, 29, 22, 62],\n",
       "       [30,  3,  9, 34, 70]], dtype=int32)"
      ]
     },
     "execution_count": 22,
     "metadata": {},
     "output_type": "execute_result"
    }
   ],
   "source": [
    "arr2d=arr.reshape(2,5)\n",
    "arr2d"
   ]
  },
  {
   "cell_type": "code",
   "execution_count": 23,
   "id": "964be059-9abe-4bdd-8984-1646b3d339e1",
   "metadata": {},
   "outputs": [
    {
     "data": {
      "text/plain": [
       "array([82, 89, 29, 22, 62], dtype=int32)"
      ]
     },
     "execution_count": 23,
     "metadata": {},
     "output_type": "execute_result"
    }
   ],
   "source": [
    "arr2d[0]"
   ]
  },
  {
   "cell_type": "code",
   "execution_count": 24,
   "id": "7a79174b-6cc8-4a9c-abd1-ac43bbe2836d",
   "metadata": {},
   "outputs": [
    {
     "data": {
      "text/plain": [
       "np.int32(89)"
      ]
     },
     "execution_count": 24,
     "metadata": {},
     "output_type": "execute_result"
    }
   ],
   "source": [
    "arr2d[0][1]\n",
    "arr2d[0,1]"
   ]
  },
  {
   "cell_type": "code",
   "execution_count": 25,
   "id": "dc744bc3-138c-49d1-9879-8a7527055660",
   "metadata": {},
   "outputs": [
    {
     "data": {
      "text/plain": [
       "array([[29, 22, 62]], dtype=int32)"
      ]
     },
     "execution_count": 25,
     "metadata": {},
     "output_type": "execute_result"
    }
   ],
   "source": [
    "arr2d[:1,2:]"
   ]
  },
  {
   "cell_type": "markdown",
   "id": "d7a25bab-a9c4-4c60-ac98-de783a439b19",
   "metadata": {},
   "source": [
    "## Step 10. Conditional Selection"
   ]
  },
  {
   "cell_type": "code",
   "execution_count": 28,
   "id": "bdccf871-e358-48b6-ae64-ec27ec138c3d",
   "metadata": {},
   "outputs": [
    {
     "data": {
      "text/plain": [
       "array([82, 89, 29, 22, 62, 30,  9, 34, 70], dtype=int32)"
      ]
     },
     "execution_count": 28,
     "metadata": {},
     "output_type": "execute_result"
    }
   ],
   "source": [
    "arr[arr>4]"
   ]
  },
  {
   "cell_type": "code",
   "execution_count": 29,
   "id": "4f8a172b-4215-4221-baef-a0564ae44d45",
   "metadata": {},
   "outputs": [
    {
     "data": {
      "text/plain": [
       "array([82, 89, 29, 22, 62, 30,  3,  9, 34, 70], dtype=int32)"
      ]
     },
     "execution_count": 29,
     "metadata": {},
     "output_type": "execute_result"
    }
   ],
   "source": [
    "arr2d[arr2d>2]"
   ]
  },
  {
   "cell_type": "markdown",
   "id": "8ad4a6ed-9fa5-4015-806e-e83577678b1b",
   "metadata": {},
   "source": [
    "## Step 1. Import the necessary libraries"
   ]
  },
  {
   "cell_type": "code",
   "execution_count": 31,
   "id": "1eeac5f8-1075-4899-b555-2adb96f219eb",
   "metadata": {},
   "outputs": [],
   "source": [
    "import pandas as pd"
   ]
  },
  {
   "cell_type": "markdown",
   "id": "ef1e315f-9d20-4d56-a5a2-08514a8cea11",
   "metadata": {},
   "source": [
    "## STep 3. Assign it to a variable called users and use the 'user_is' as index"
   ]
  },
  {
   "cell_type": "code",
   "execution_count": 2,
   "id": "59ad1714-e765-4cb6-832f-6113e36a6b0f",
   "metadata": {},
   "outputs": [
    {
     "name": "stdout",
     "output_type": "stream",
     "text": [
      "         age  gender     occupation  zip_code\n",
      "user_id                                      \n",
      "user_id  age  gender     occupation  zip_code\n",
      "1         24       M     technician     85711\n",
      "2         53       F          other     94043\n",
      "3         23       M         writer     32067\n",
      "4         24       M     technician     43537\n",
      "5         33       F          other     15213\n",
      "6         42       M      executive     98101\n",
      "7         57       M  administrator     91344\n",
      "8         36       M  administrator     05201\n",
      "9         29       M        student     01002\n",
      "10        53       M         lawyer     90703\n",
      "11        39       F          other     30329\n",
      "12        28       F          other     06405\n",
      "13        47       M       educator     29206\n",
      "14        45       M      scientist     55106\n",
      "15        49       F       educator     97301\n",
      "16        21       M  entertainment     10309\n",
      "17        30       M     programmer     06355\n",
      "18        35       F          other     37212\n",
      "19        40       M      librarian     02138\n",
      "20        42       F      homemaker     95660\n",
      "21        26       M         writer     30068\n",
      "22        25       M         writer     40206\n",
      "23        30       F         artist     48197\n",
      "24        21       F         artist     94533\n"
     ]
    }
   ],
   "source": [
    "import pandas as pd\n",
    "\n",
    "users = pd.read_csv(\n",
    "    \"https://raw.githubusercontent.com/justmarkham/DAT8/master/data/u.user\",\n",
    "    sep=\"|\",\n",
    "    header=None,\n",
    "    names=[\"user_id\", \"age\", \"gender\", \"occupation\", \"zip_code\"],\n",
    "    index_col=\"user_id\"  \n",
    ")\n",
    "\n",
    "print(users.head(25))\n"
   ]
  },
  {
   "cell_type": "markdown",
   "id": "47a238a8-e722-4d44-950c-704dd0f01312",
   "metadata": {},
   "source": [
    "## step 4. See the first 25 entries"
   ]
  },
  {
   "cell_type": "code",
   "execution_count": 36,
   "id": "9db80d3e-a864-41b0-9455-95a4fe071395",
   "metadata": {},
   "outputs": [
    {
     "data": {
      "text/html": [
       "<div>\n",
       "<style scoped>\n",
       "    .dataframe tbody tr th:only-of-type {\n",
       "        vertical-align: middle;\n",
       "    }\n",
       "\n",
       "    .dataframe tbody tr th {\n",
       "        vertical-align: top;\n",
       "    }\n",
       "\n",
       "    .dataframe thead th {\n",
       "        text-align: right;\n",
       "    }\n",
       "</style>\n",
       "<table border=\"1\" class=\"dataframe\">\n",
       "  <thead>\n",
       "    <tr style=\"text-align: right;\">\n",
       "      <th></th>\n",
       "      <th>age</th>\n",
       "      <th>gender</th>\n",
       "      <th>occupation</th>\n",
       "      <th>zip_code</th>\n",
       "    </tr>\n",
       "    <tr>\n",
       "      <th>user_id</th>\n",
       "      <th></th>\n",
       "      <th></th>\n",
       "      <th></th>\n",
       "      <th></th>\n",
       "    </tr>\n",
       "  </thead>\n",
       "  <tbody>\n",
       "    <tr>\n",
       "      <th>user_id</th>\n",
       "      <td>age</td>\n",
       "      <td>gender</td>\n",
       "      <td>occupation</td>\n",
       "      <td>zip_code</td>\n",
       "    </tr>\n",
       "    <tr>\n",
       "      <th>1</th>\n",
       "      <td>24</td>\n",
       "      <td>M</td>\n",
       "      <td>technician</td>\n",
       "      <td>85711</td>\n",
       "    </tr>\n",
       "    <tr>\n",
       "      <th>2</th>\n",
       "      <td>53</td>\n",
       "      <td>F</td>\n",
       "      <td>other</td>\n",
       "      <td>94043</td>\n",
       "    </tr>\n",
       "    <tr>\n",
       "      <th>3</th>\n",
       "      <td>23</td>\n",
       "      <td>M</td>\n",
       "      <td>writer</td>\n",
       "      <td>32067</td>\n",
       "    </tr>\n",
       "    <tr>\n",
       "      <th>4</th>\n",
       "      <td>24</td>\n",
       "      <td>M</td>\n",
       "      <td>technician</td>\n",
       "      <td>43537</td>\n",
       "    </tr>\n",
       "    <tr>\n",
       "      <th>5</th>\n",
       "      <td>33</td>\n",
       "      <td>F</td>\n",
       "      <td>other</td>\n",
       "      <td>15213</td>\n",
       "    </tr>\n",
       "    <tr>\n",
       "      <th>6</th>\n",
       "      <td>42</td>\n",
       "      <td>M</td>\n",
       "      <td>executive</td>\n",
       "      <td>98101</td>\n",
       "    </tr>\n",
       "    <tr>\n",
       "      <th>7</th>\n",
       "      <td>57</td>\n",
       "      <td>M</td>\n",
       "      <td>administrator</td>\n",
       "      <td>91344</td>\n",
       "    </tr>\n",
       "    <tr>\n",
       "      <th>8</th>\n",
       "      <td>36</td>\n",
       "      <td>M</td>\n",
       "      <td>administrator</td>\n",
       "      <td>05201</td>\n",
       "    </tr>\n",
       "    <tr>\n",
       "      <th>9</th>\n",
       "      <td>29</td>\n",
       "      <td>M</td>\n",
       "      <td>student</td>\n",
       "      <td>01002</td>\n",
       "    </tr>\n",
       "    <tr>\n",
       "      <th>10</th>\n",
       "      <td>53</td>\n",
       "      <td>M</td>\n",
       "      <td>lawyer</td>\n",
       "      <td>90703</td>\n",
       "    </tr>\n",
       "    <tr>\n",
       "      <th>11</th>\n",
       "      <td>39</td>\n",
       "      <td>F</td>\n",
       "      <td>other</td>\n",
       "      <td>30329</td>\n",
       "    </tr>\n",
       "    <tr>\n",
       "      <th>12</th>\n",
       "      <td>28</td>\n",
       "      <td>F</td>\n",
       "      <td>other</td>\n",
       "      <td>06405</td>\n",
       "    </tr>\n",
       "    <tr>\n",
       "      <th>13</th>\n",
       "      <td>47</td>\n",
       "      <td>M</td>\n",
       "      <td>educator</td>\n",
       "      <td>29206</td>\n",
       "    </tr>\n",
       "    <tr>\n",
       "      <th>14</th>\n",
       "      <td>45</td>\n",
       "      <td>M</td>\n",
       "      <td>scientist</td>\n",
       "      <td>55106</td>\n",
       "    </tr>\n",
       "    <tr>\n",
       "      <th>15</th>\n",
       "      <td>49</td>\n",
       "      <td>F</td>\n",
       "      <td>educator</td>\n",
       "      <td>97301</td>\n",
       "    </tr>\n",
       "    <tr>\n",
       "      <th>16</th>\n",
       "      <td>21</td>\n",
       "      <td>M</td>\n",
       "      <td>entertainment</td>\n",
       "      <td>10309</td>\n",
       "    </tr>\n",
       "    <tr>\n",
       "      <th>17</th>\n",
       "      <td>30</td>\n",
       "      <td>M</td>\n",
       "      <td>programmer</td>\n",
       "      <td>06355</td>\n",
       "    </tr>\n",
       "    <tr>\n",
       "      <th>18</th>\n",
       "      <td>35</td>\n",
       "      <td>F</td>\n",
       "      <td>other</td>\n",
       "      <td>37212</td>\n",
       "    </tr>\n",
       "    <tr>\n",
       "      <th>19</th>\n",
       "      <td>40</td>\n",
       "      <td>M</td>\n",
       "      <td>librarian</td>\n",
       "      <td>02138</td>\n",
       "    </tr>\n",
       "    <tr>\n",
       "      <th>20</th>\n",
       "      <td>42</td>\n",
       "      <td>F</td>\n",
       "      <td>homemaker</td>\n",
       "      <td>95660</td>\n",
       "    </tr>\n",
       "    <tr>\n",
       "      <th>21</th>\n",
       "      <td>26</td>\n",
       "      <td>M</td>\n",
       "      <td>writer</td>\n",
       "      <td>30068</td>\n",
       "    </tr>\n",
       "    <tr>\n",
       "      <th>22</th>\n",
       "      <td>25</td>\n",
       "      <td>M</td>\n",
       "      <td>writer</td>\n",
       "      <td>40206</td>\n",
       "    </tr>\n",
       "    <tr>\n",
       "      <th>23</th>\n",
       "      <td>30</td>\n",
       "      <td>F</td>\n",
       "      <td>artist</td>\n",
       "      <td>48197</td>\n",
       "    </tr>\n",
       "    <tr>\n",
       "      <th>24</th>\n",
       "      <td>21</td>\n",
       "      <td>F</td>\n",
       "      <td>artist</td>\n",
       "      <td>94533</td>\n",
       "    </tr>\n",
       "  </tbody>\n",
       "</table>\n",
       "</div>"
      ],
      "text/plain": [
       "         age  gender     occupation  zip_code\n",
       "user_id                                      \n",
       "user_id  age  gender     occupation  zip_code\n",
       "1         24       M     technician     85711\n",
       "2         53       F          other     94043\n",
       "3         23       M         writer     32067\n",
       "4         24       M     technician     43537\n",
       "5         33       F          other     15213\n",
       "6         42       M      executive     98101\n",
       "7         57       M  administrator     91344\n",
       "8         36       M  administrator     05201\n",
       "9         29       M        student     01002\n",
       "10        53       M         lawyer     90703\n",
       "11        39       F          other     30329\n",
       "12        28       F          other     06405\n",
       "13        47       M       educator     29206\n",
       "14        45       M      scientist     55106\n",
       "15        49       F       educator     97301\n",
       "16        21       M  entertainment     10309\n",
       "17        30       M     programmer     06355\n",
       "18        35       F          other     37212\n",
       "19        40       M      librarian     02138\n",
       "20        42       F      homemaker     95660\n",
       "21        26       M         writer     30068\n",
       "22        25       M         writer     40206\n",
       "23        30       F         artist     48197\n",
       "24        21       F         artist     94533"
      ]
     },
     "execution_count": 36,
     "metadata": {},
     "output_type": "execute_result"
    }
   ],
   "source": [
    "users.head(25)"
   ]
  },
  {
   "cell_type": "markdown",
   "id": "44cab9da-8c17-4dea-aef9-7bb7b670b02c",
   "metadata": {},
   "source": [
    "## step 5. See the last 10 entries"
   ]
  },
  {
   "cell_type": "code",
   "execution_count": 37,
   "id": "4f1fa4ae-fe7f-4123-ae80-12cc257fe974",
   "metadata": {},
   "outputs": [
    {
     "data": {
      "text/html": [
       "<div>\n",
       "<style scoped>\n",
       "    .dataframe tbody tr th:only-of-type {\n",
       "        vertical-align: middle;\n",
       "    }\n",
       "\n",
       "    .dataframe tbody tr th {\n",
       "        vertical-align: top;\n",
       "    }\n",
       "\n",
       "    .dataframe thead th {\n",
       "        text-align: right;\n",
       "    }\n",
       "</style>\n",
       "<table border=\"1\" class=\"dataframe\">\n",
       "  <thead>\n",
       "    <tr style=\"text-align: right;\">\n",
       "      <th></th>\n",
       "      <th>age</th>\n",
       "      <th>gender</th>\n",
       "      <th>occupation</th>\n",
       "      <th>zip_code</th>\n",
       "    </tr>\n",
       "    <tr>\n",
       "      <th>user_id</th>\n",
       "      <th></th>\n",
       "      <th></th>\n",
       "      <th></th>\n",
       "      <th></th>\n",
       "    </tr>\n",
       "  </thead>\n",
       "  <tbody>\n",
       "    <tr>\n",
       "      <th>934</th>\n",
       "      <td>61</td>\n",
       "      <td>M</td>\n",
       "      <td>engineer</td>\n",
       "      <td>22902</td>\n",
       "    </tr>\n",
       "    <tr>\n",
       "      <th>935</th>\n",
       "      <td>42</td>\n",
       "      <td>M</td>\n",
       "      <td>doctor</td>\n",
       "      <td>66221</td>\n",
       "    </tr>\n",
       "    <tr>\n",
       "      <th>936</th>\n",
       "      <td>24</td>\n",
       "      <td>M</td>\n",
       "      <td>other</td>\n",
       "      <td>32789</td>\n",
       "    </tr>\n",
       "    <tr>\n",
       "      <th>937</th>\n",
       "      <td>48</td>\n",
       "      <td>M</td>\n",
       "      <td>educator</td>\n",
       "      <td>98072</td>\n",
       "    </tr>\n",
       "    <tr>\n",
       "      <th>938</th>\n",
       "      <td>38</td>\n",
       "      <td>F</td>\n",
       "      <td>technician</td>\n",
       "      <td>55038</td>\n",
       "    </tr>\n",
       "    <tr>\n",
       "      <th>939</th>\n",
       "      <td>26</td>\n",
       "      <td>F</td>\n",
       "      <td>student</td>\n",
       "      <td>33319</td>\n",
       "    </tr>\n",
       "    <tr>\n",
       "      <th>940</th>\n",
       "      <td>32</td>\n",
       "      <td>M</td>\n",
       "      <td>administrator</td>\n",
       "      <td>02215</td>\n",
       "    </tr>\n",
       "    <tr>\n",
       "      <th>941</th>\n",
       "      <td>20</td>\n",
       "      <td>M</td>\n",
       "      <td>student</td>\n",
       "      <td>97229</td>\n",
       "    </tr>\n",
       "    <tr>\n",
       "      <th>942</th>\n",
       "      <td>48</td>\n",
       "      <td>F</td>\n",
       "      <td>librarian</td>\n",
       "      <td>78209</td>\n",
       "    </tr>\n",
       "    <tr>\n",
       "      <th>943</th>\n",
       "      <td>22</td>\n",
       "      <td>M</td>\n",
       "      <td>student</td>\n",
       "      <td>77841</td>\n",
       "    </tr>\n",
       "  </tbody>\n",
       "</table>\n",
       "</div>"
      ],
      "text/plain": [
       "        age gender     occupation zip_code\n",
       "user_id                                   \n",
       "934      61      M       engineer    22902\n",
       "935      42      M         doctor    66221\n",
       "936      24      M          other    32789\n",
       "937      48      M       educator    98072\n",
       "938      38      F     technician    55038\n",
       "939      26      F        student    33319\n",
       "940      32      M  administrator    02215\n",
       "941      20      M        student    97229\n",
       "942      48      F      librarian    78209\n",
       "943      22      M        student    77841"
      ]
     },
     "execution_count": 37,
     "metadata": {},
     "output_type": "execute_result"
    }
   ],
   "source": [
    "users.tail(10)"
   ]
  },
  {
   "cell_type": "markdown",
   "id": "885e3338-f30d-4f3a-ac7e-e2fb6c1dbc6d",
   "metadata": {},
   "source": [
    "## Step 6. What is the number of observation is the dataset?"
   ]
  },
  {
   "cell_type": "code",
   "execution_count": 38,
   "id": "8e3b31cd-be32-4f14-9b21-d9b238344f8e",
   "metadata": {},
   "outputs": [
    {
     "data": {
      "text/plain": [
       "944"
      ]
     },
     "execution_count": 38,
     "metadata": {},
     "output_type": "execute_result"
    }
   ],
   "source": [
    "users.shape[0]"
   ]
  },
  {
   "cell_type": "markdown",
   "id": "6c18ba7f-ffc1-4e02-be4b-83ec3a4c3cf5",
   "metadata": {},
   "source": [
    "## Step 7. What is the number of columns in the dataset?"
   ]
  },
  {
   "cell_type": "code",
   "execution_count": 39,
   "id": "06f8af61-211d-4609-8057-c130868a7566",
   "metadata": {},
   "outputs": [
    {
     "data": {
      "text/plain": [
       "4"
      ]
     },
     "execution_count": 39,
     "metadata": {},
     "output_type": "execute_result"
    }
   ],
   "source": [
    "users.shape[1]"
   ]
  },
  {
   "cell_type": "markdown",
   "id": "240aec48-af29-466a-a298-c2a6e72bf81b",
   "metadata": {},
   "source": [
    "## Step 8. Print the name of all the columns."
   ]
  },
  {
   "cell_type": "code",
   "execution_count": 41,
   "id": "69e510e1-f103-443c-8985-921b3b279360",
   "metadata": {},
   "outputs": [
    {
     "data": {
      "text/plain": [
       "Index(['age', 'gender', 'occupation', 'zip_code'], dtype='object')"
      ]
     },
     "execution_count": 41,
     "metadata": {},
     "output_type": "execute_result"
    }
   ],
   "source": [
    "users.columns"
   ]
  },
  {
   "cell_type": "markdown",
   "id": "b6d12822-fb3e-41bf-8601-4305330172de",
   "metadata": {},
   "source": [
    "## Step 9. How is the dataset indexed?"
   ]
  },
  {
   "cell_type": "code",
   "execution_count": 42,
   "id": "45d6527a-d4e7-40df-a703-d4a64eb2c0f1",
   "metadata": {},
   "outputs": [
    {
     "data": {
      "text/plain": [
       "Index(['user_id', '1', '2', '3', '4', '5', '6', '7', '8', '9',\n",
       "       ...\n",
       "       '934', '935', '936', '937', '938', '939', '940', '941', '942', '943'],\n",
       "      dtype='object', name='user_id', length=944)"
      ]
     },
     "execution_count": 42,
     "metadata": {},
     "output_type": "execute_result"
    }
   ],
   "source": [
    "users.index"
   ]
  },
  {
   "cell_type": "markdown",
   "id": "41668f20-61ac-4cbb-9205-522a3dc4414c",
   "metadata": {},
   "source": [
    "## Step 10. What is the data type of each column?"
   ]
  },
  {
   "cell_type": "code",
   "execution_count": 43,
   "id": "5a297365-b154-40b0-b005-d90b51d40b79",
   "metadata": {},
   "outputs": [
    {
     "data": {
      "text/plain": [
       "age           object\n",
       "gender        object\n",
       "occupation    object\n",
       "zip_code      object\n",
       "dtype: object"
      ]
     },
     "execution_count": 43,
     "metadata": {},
     "output_type": "execute_result"
    }
   ],
   "source": [
    "users.dtypes"
   ]
  },
  {
   "cell_type": "markdown",
   "id": "b047438f-b9b0-455e-99a0-1ef95cf8dacf",
   "metadata": {},
   "source": [
    "## Step 11. Print only the occupation column"
   ]
  },
  {
   "cell_type": "code",
   "execution_count": 44,
   "id": "ce682440-b82a-4a5c-b255-901d888e6acf",
   "metadata": {},
   "outputs": [
    {
     "data": {
      "text/plain": [
       "user_id\n",
       "user_id       occupation\n",
       "1             technician\n",
       "2                  other\n",
       "3                 writer\n",
       "4             technician\n",
       "               ...      \n",
       "939              student\n",
       "940        administrator\n",
       "941              student\n",
       "942            librarian\n",
       "943              student\n",
       "Name: occupation, Length: 944, dtype: object"
      ]
     },
     "execution_count": 44,
     "metadata": {},
     "output_type": "execute_result"
    }
   ],
   "source": [
    "users['occupation']"
   ]
  },
  {
   "cell_type": "markdown",
   "id": "ecbf6bfd-e507-4945-ac3b-3cb650b52733",
   "metadata": {},
   "source": [
    "## Step 12. How many different occupations are in this dataset?"
   ]
  },
  {
   "cell_type": "code",
   "execution_count": 46,
   "id": "026956d5-83fb-41d1-98fb-f58e7161e348",
   "metadata": {},
   "outputs": [
    {
     "data": {
      "text/plain": [
       "22"
      ]
     },
     "execution_count": 46,
     "metadata": {},
     "output_type": "execute_result"
    }
   ],
   "source": [
    "users.occupation.nunique()"
   ]
  },
  {
   "cell_type": "markdown",
   "id": "ef57aca5-52d4-46e1-bfc2-5758772a0dd6",
   "metadata": {},
   "source": [
    "## Step 13. What is the most frequent occupation?"
   ]
  },
  {
   "cell_type": "code",
   "execution_count": 47,
   "id": "55004688-c709-4e6c-a107-9eccfe3048af",
   "metadata": {},
   "outputs": [
    {
     "data": {
      "text/plain": [
       "occupation\n",
       "student    196\n",
       "Name: count, dtype: int64"
      ]
     },
     "execution_count": 47,
     "metadata": {},
     "output_type": "execute_result"
    }
   ],
   "source": [
    "users.occupation.value_counts().head(1)"
   ]
  },
  {
   "cell_type": "markdown",
   "id": "576c1fb8-357b-4d2f-a501-f69771179d6d",
   "metadata": {},
   "source": [
    "## Step 14. Summarize the DataFrame."
   ]
  },
  {
   "cell_type": "code",
   "execution_count": 48,
   "id": "ce70acc0-40cd-4122-ae6b-37b959795895",
   "metadata": {},
   "outputs": [
    {
     "data": {
      "text/html": [
       "<div>\n",
       "<style scoped>\n",
       "    .dataframe tbody tr th:only-of-type {\n",
       "        vertical-align: middle;\n",
       "    }\n",
       "\n",
       "    .dataframe tbody tr th {\n",
       "        vertical-align: top;\n",
       "    }\n",
       "\n",
       "    .dataframe thead th {\n",
       "        text-align: right;\n",
       "    }\n",
       "</style>\n",
       "<table border=\"1\" class=\"dataframe\">\n",
       "  <thead>\n",
       "    <tr style=\"text-align: right;\">\n",
       "      <th></th>\n",
       "      <th>age</th>\n",
       "      <th>gender</th>\n",
       "      <th>occupation</th>\n",
       "      <th>zip_code</th>\n",
       "    </tr>\n",
       "  </thead>\n",
       "  <tbody>\n",
       "    <tr>\n",
       "      <th>count</th>\n",
       "      <td>944</td>\n",
       "      <td>944</td>\n",
       "      <td>944</td>\n",
       "      <td>944</td>\n",
       "    </tr>\n",
       "    <tr>\n",
       "      <th>unique</th>\n",
       "      <td>62</td>\n",
       "      <td>3</td>\n",
       "      <td>22</td>\n",
       "      <td>796</td>\n",
       "    </tr>\n",
       "    <tr>\n",
       "      <th>top</th>\n",
       "      <td>30</td>\n",
       "      <td>M</td>\n",
       "      <td>student</td>\n",
       "      <td>55414</td>\n",
       "    </tr>\n",
       "    <tr>\n",
       "      <th>freq</th>\n",
       "      <td>39</td>\n",
       "      <td>670</td>\n",
       "      <td>196</td>\n",
       "      <td>9</td>\n",
       "    </tr>\n",
       "  </tbody>\n",
       "</table>\n",
       "</div>"
      ],
      "text/plain": [
       "        age gender occupation zip_code\n",
       "count   944    944        944      944\n",
       "unique   62      3         22      796\n",
       "top      30      M    student    55414\n",
       "freq     39    670        196        9"
      ]
     },
     "execution_count": 48,
     "metadata": {},
     "output_type": "execute_result"
    }
   ],
   "source": [
    "users.describe()"
   ]
  },
  {
   "cell_type": "markdown",
   "id": "0c2fa23c-5e8c-4717-bdc4-f60b15ae480a",
   "metadata": {},
   "source": [
    "## Step 15. Summarize all the columns"
   ]
  },
  {
   "cell_type": "code",
   "execution_count": 49,
   "id": "65293478-8ab5-4230-926f-b20ca62fc1f9",
   "metadata": {},
   "outputs": [
    {
     "data": {
      "text/html": [
       "<div>\n",
       "<style scoped>\n",
       "    .dataframe tbody tr th:only-of-type {\n",
       "        vertical-align: middle;\n",
       "    }\n",
       "\n",
       "    .dataframe tbody tr th {\n",
       "        vertical-align: top;\n",
       "    }\n",
       "\n",
       "    .dataframe thead th {\n",
       "        text-align: right;\n",
       "    }\n",
       "</style>\n",
       "<table border=\"1\" class=\"dataframe\">\n",
       "  <thead>\n",
       "    <tr style=\"text-align: right;\">\n",
       "      <th></th>\n",
       "      <th>age</th>\n",
       "      <th>gender</th>\n",
       "      <th>occupation</th>\n",
       "      <th>zip_code</th>\n",
       "    </tr>\n",
       "  </thead>\n",
       "  <tbody>\n",
       "    <tr>\n",
       "      <th>count</th>\n",
       "      <td>944</td>\n",
       "      <td>944</td>\n",
       "      <td>944</td>\n",
       "      <td>944</td>\n",
       "    </tr>\n",
       "    <tr>\n",
       "      <th>unique</th>\n",
       "      <td>62</td>\n",
       "      <td>3</td>\n",
       "      <td>22</td>\n",
       "      <td>796</td>\n",
       "    </tr>\n",
       "    <tr>\n",
       "      <th>top</th>\n",
       "      <td>30</td>\n",
       "      <td>M</td>\n",
       "      <td>student</td>\n",
       "      <td>55414</td>\n",
       "    </tr>\n",
       "    <tr>\n",
       "      <th>freq</th>\n",
       "      <td>39</td>\n",
       "      <td>670</td>\n",
       "      <td>196</td>\n",
       "      <td>9</td>\n",
       "    </tr>\n",
       "  </tbody>\n",
       "</table>\n",
       "</div>"
      ],
      "text/plain": [
       "        age gender occupation zip_code\n",
       "count   944    944        944      944\n",
       "unique   62      3         22      796\n",
       "top      30      M    student    55414\n",
       "freq     39    670        196        9"
      ]
     },
     "execution_count": 49,
     "metadata": {},
     "output_type": "execute_result"
    }
   ],
   "source": [
    "users.describe(include='all')"
   ]
  },
  {
   "cell_type": "markdown",
   "id": "43f45b84-002b-470b-9c7a-e2a7bc6c5784",
   "metadata": {},
   "source": [
    "## Step 16. Summarize only the occupation column"
   ]
  },
  {
   "cell_type": "code",
   "execution_count": 4,
   "id": "625cfb25-a66f-4ae3-84a2-e2410f366fd7",
   "metadata": {},
   "outputs": [
    {
     "data": {
      "text/plain": [
       "count         944\n",
       "unique         22\n",
       "top       student\n",
       "freq          196\n",
       "Name: occupation, dtype: object"
      ]
     },
     "execution_count": 4,
     "metadata": {},
     "output_type": "execute_result"
    }
   ],
   "source": [
    "users['occupation'].describe()"
   ]
  },
  {
   "cell_type": "markdown",
   "id": "7c52a266-c6dc-470b-b626-dbcb3d4f5d07",
   "metadata": {},
   "source": [
    "## Step 17. What is the mean age of users?"
   ]
  },
  {
   "cell_type": "code",
   "execution_count": 30,
   "id": "2620f332-1af7-4d53-84f8-65b2752a79b1",
   "metadata": {},
   "outputs": [
    {
     "data": {
      "text/plain": [
       "34.05196182396607"
      ]
     },
     "execution_count": 30,
     "metadata": {},
     "output_type": "execute_result"
    }
   ],
   "source": [
    "users['age'] = pd.to_numeric(users['age'],errors='coerce')\n",
    "age = users['age'].mean()\n",
    "age"
   ]
  },
  {
   "cell_type": "markdown",
   "id": "a8cd519e-0824-4c27-aae7-496a284801fd",
   "metadata": {},
   "source": [
    "## Step 18. Wgat is the age with least occurrence?"
   ]
  },
  {
   "cell_type": "code",
   "execution_count": 59,
   "id": "68a97a1b-dfdd-4e38-b032-8a8f7f07b94d",
   "metadata": {},
   "outputs": [
    {
     "data": {
      "text/plain": [
       "age\n",
       "age    1\n",
       "11     1\n",
       "66     1\n",
       "10     1\n",
       "73     1\n",
       "Name: count, dtype: int64"
      ]
     },
     "execution_count": 59,
     "metadata": {},
     "output_type": "execute_result"
    }
   ],
   "source": [
    "users.age.value_counts().tail()"
   ]
  }
 ],
 "metadata": {
  "kernelspec": {
   "display_name": "Python [conda env:base] *",
   "language": "python",
   "name": "conda-base-py"
  },
  "language_info": {
   "codemirror_mode": {
    "name": "ipython",
    "version": 3
   },
   "file_extension": ".py",
   "mimetype": "text/x-python",
   "name": "python",
   "nbconvert_exporter": "python",
   "pygments_lexer": "ipython3",
   "version": "3.12.7"
  }
 },
 "nbformat": 4,
 "nbformat_minor": 5
}
